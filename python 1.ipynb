{
 "cells": [
  {
   "cell_type": "code",
   "execution_count": 1,
   "metadata": {},
   "outputs": [
    {
     "name": "stdout",
     "output_type": "stream",
     "text": [
      "hello guys\n"
     ]
    }
   ],
   "source": [
    "print(\"hello guys\")"
   ]
  },
  {
   "cell_type": "code",
   "execution_count": 1,
   "metadata": {},
   "outputs": [
    {
     "name": "stdout",
     "output_type": "stream",
     "text": [
      "hello guys what  3434 are you doing\n"
     ]
    }
   ],
   "source": [
    "print(\"hello guys what  3434 are you doing\")"
   ]
  },
  {
   "cell_type": "code",
   "execution_count": 2,
   "metadata": {},
   "outputs": [
    {
     "name": "stdout",
     "output_type": "stream",
     "text": [
      "MY name is sapna rajput\n"
     ]
    }
   ],
   "source": [
    "print('MY name is sapna rajput')"
   ]
  },
  {
   "cell_type": "code",
   "execution_count": 5,
   "metadata": {},
   "outputs": [
    {
     "name": "stdout",
     "output_type": "stream",
     "text": [
      "200\n"
     ]
    }
   ],
   "source": [
    "a=10\n",
    "b=20\n",
    "c=a*b\n",
    "print(c)"
   ]
  },
  {
   "cell_type": "code",
   "execution_count": 3,
   "metadata": {},
   "outputs": [
    {
     "name": "stdout",
     "output_type": "stream",
     "text": [
      "my name 4345 34.45, 43-34j ,is archu\n"
     ]
    }
   ],
   "source": [
    "a='my name 4345 34.45, 43-34j ,is archu'\n",
    "print(a)"
   ]
  },
  {
   "cell_type": "code",
   "execution_count": 4,
   "metadata": {},
   "outputs": [
    {
     "name": "stdout",
     "output_type": "stream",
     "text": [
      "abcdefg\n"
     ]
    }
   ],
   "source": [
    "print(\"abcdefg\") "
   ]
  },
  {
   "cell_type": "code",
   "execution_count": 4,
   "metadata": {},
   "outputs": [
    {
     "name": "stdout",
     "output_type": "stream",
     "text": [
      "what are u doing now plzz tell423\n"
     ]
    },
    {
     "data": {
      "text/plain": [
       "'423'"
      ]
     },
     "execution_count": 4,
     "metadata": {},
     "output_type": "execute_result"
    }
   ],
   "source": [
    "input(\"what are u doing now plzz tell\" )"
   ]
  },
  {
   "cell_type": "code",
   "execution_count": 9,
   "metadata": {},
   "outputs": [
    {
     "name": "stdout",
     "output_type": "stream",
     "text": [
      "whats your problem you\n",
      "my problm is you your family\n"
     ]
    }
   ],
   "source": [
    "a=input(\"whats your problem \" )\n",
    "b=input(\"my problm is you \" )"
   ]
  },
  {
   "cell_type": "code",
   "execution_count": 5,
   "metadata": {},
   "outputs": [
    {
     "name": "stdout",
     "output_type": "stream",
     "text": [
      "enter  your 1st number3902309\n",
      "enter your 2nd  number399399\n"
     ]
    }
   ],
   "source": [
    "a=int(input(\"enter  your 1st number\"))\n",
    "b=int(input(\"enter your 2nd  number\"))\n"
   ]
  },
  {
   "cell_type": "code",
   "execution_count": 15,
   "metadata": {},
   "outputs": [
    {
     "name": "stdout",
     "output_type": "stream",
     "text": [
      "enter your 1st mobile number 94993943\n",
      "enter your 2nd mobile number 8948903890\n",
      "addition 949939438948903890\n"
     ]
    }
   ],
   "source": [
    "a=input(\"enter your 1st mobile number \" )\n",
    "b=input(\"enter your 2nd mobile number \" )\n",
    "c=a+b\n",
    "print(\"addition\",c);"
   ]
  },
  {
   "cell_type": "code",
   "execution_count": 18,
   "metadata": {},
   "outputs": [
    {
     "name": "stdout",
     "output_type": "stream",
     "text": [
      "enter your first number122\n",
      "enter your second number122\n",
      "addition 244\n"
     ]
    }
   ],
   "source": [
    "p=int(input(\"enter your first number\"))\n",
    "q=int(input(\"enter your second number\"))\n",
    "r=p+q\n",
    "print(\"addition\",r);"
   ]
  },
  {
   "cell_type": "code",
   "execution_count": 24,
   "metadata": {},
   "outputs": [
    {
     "name": "stdout",
     "output_type": "stream",
     "text": [
      "enter your full name sapna rajput\n",
      "enter your age20\n",
      "enter your qualificationbsc\n",
      "sapna rajput 20 bsc\n"
     ]
    }
   ],
   "source": [
    "fullname =input(\"enter your full name \" )\n",
    "age=input(\"enter your age\")\n",
    "qualification=input(\"enter your qualification\")\n",
    "print(fullname,age,qualification)"
   ]
  },
  {
   "cell_type": "code",
   "execution_count": 25,
   "metadata": {},
   "outputs": [
    {
     "name": "stdout",
     "output_type": "stream",
     "text": [
      "7\n"
     ]
    }
   ],
   "source": [
    "a=2\n",
    "b=5\n",
    "c=a+b\n",
    "print(c)"
   ]
  },
  {
   "cell_type": "code",
   "execution_count": null,
   "metadata": {},
   "outputs": [],
   "source": [
    "# what is git and python plzz tell me about its\n"
   ]
  },
  {
   "cell_type": "code",
   "execution_count": 5,
   "metadata": {},
   "outputs": [
    {
     "data": {
      "text/plain": [
       "\"my 'name is sapna rajput. i am form rajgarh.\\ni want to learn many skills because now we are all know that without\\ncomunication skill i can not develop our 'personlity. so i will try my \\nbest\""
      ]
     },
     "execution_count": 5,
     "metadata": {},
     "output_type": "execute_result"
    }
   ],
   "source": [
    "\"\"\"my 'name is sapna rajput. i am form rajgarh.\n",
    "i want to learn many skills because now we are all know that without\n",
    "comunication skill i can not develop our 'personlity. so i will try my \n",
    "best\"\"\""
   ]
  },
  {
   "cell_type": "code",
   "execution_count": 15,
   "metadata": {},
   "outputs": [
    {
     "name": "stdout",
     "output_type": "stream",
     "text": [
      "addition 5 and 10 = 15\n"
     ]
    }
   ],
   "source": [
    "a=5 \n",
    "b=10\n",
    "c=a+b\n",
    "print(\"addition\",a,\"and\",b,\"=\" ,c)"
   ]
  },
  {
   "cell_type": "code",
   "execution_count": 1,
   "metadata": {},
   "outputs": [
    {
     "name": "stdout",
     "output_type": "stream",
     "text": [
      "hear a \n"
     ]
    }
   ],
   "source": [
    "print(\"hear a \")"
   ]
  },
  {
   "cell_type": "code",
   "execution_count": 2,
   "metadata": {},
   "outputs": [
    {
     "name": "stdout",
     "output_type": "stream",
     "text": [
      "hello frnds whatsup\n"
     ]
    }
   ],
   "source": [
    "print(\"hello frnds whatsup\")"
   ]
  },
  {
   "cell_type": "code",
   "execution_count": 4,
   "metadata": {},
   "outputs": [
    {
     "name": "stdout",
     "output_type": "stream",
     "text": [
      "addition 10 and 10 = 20\n"
     ]
    }
   ],
   "source": [
    "a=10\n",
    "b=10\n",
    "c=a+b\n",
    "print('addition',a,\"and\",b,\"=\",c);"
   ]
  },
  {
   "cell_type": "code",
   "execution_count": 11,
   "metadata": {},
   "outputs": [
    {
     "name": "stdout",
     "output_type": "stream",
     "text": [
      "addition 10\n"
     ]
    }
   ],
   "source": [
    "x=5\n",
    "y=5\n",
    "z=x+y\n",
    "print('addition',z);"
   ]
  },
  {
   "cell_type": "code",
   "execution_count": 12,
   "metadata": {},
   "outputs": [
    {
     "name": "stdout",
     "output_type": "stream",
     "text": [
      "enter your full namesapna\n",
      "welcome to sapna\n"
     ]
    }
   ],
   "source": [
    "name=input(\"enter your full name\")\n",
    "print(\"welcome to\",name)"
   ]
  },
  {
   "cell_type": "code",
   "execution_count": 17,
   "metadata": {},
   "outputs": [
    {
     "name": "stdout",
     "output_type": "stream",
     "text": [
      "sapna rajput\n"
     ]
    }
   ],
   "source": [
    "a=\"sapna\"\n",
    "b=\"rajput\"\n",
    "print(a,b)"
   ]
  },
  {
   "cell_type": "code",
   "execution_count": 16,
   "metadata": {},
   "outputs": [
    {
     "name": "stdout",
     "output_type": "stream",
     "text": [
      "enter your namesapna\n",
      "enter your number787988080\n"
     ]
    }
   ],
   "source": [
    "x=input(\"enter your name \" )\n",
    "y=input(\"enter your number \" )"
   ]
  },
  {
   "cell_type": "code",
   "execution_count": 23,
   "metadata": {},
   "outputs": [
    {
     "name": "stdout",
     "output_type": "stream",
     "text": [
      "orangeredpinkyellow\n"
     ]
    }
   ],
   "source": [
    "a,b,c,d,e=\"orange\",\"red\",\"pink\",\"yellow\",\"green\"\n",
    "print(a+b+c+d)\n"
   ]
  },
  {
   "cell_type": "code",
   "execution_count": 7,
   "metadata": {},
   "outputs": [
    {
     "name": "stdout",
     "output_type": "stream",
     "text": [
      "file name sapna\n"
     ]
    }
   ],
   "source": [
    "print(\"file name sapna\")"
   ]
  },
  {
   "cell_type": "code",
   "execution_count": 8,
   "metadata": {},
   "outputs": [
    {
     "name": "stdout",
     "output_type": "stream",
     "text": [
      "codesession class\n"
     ]
    }
   ],
   "source": [
    "print(\"codesession class\")"
   ]
  },
  {
   "cell_type": "code",
   "execution_count": 9,
   "metadata": {},
   "outputs": [
    {
     "name": "stdout",
     "output_type": "stream",
     "text": [
      "what is your name sapna\n",
      "my name is sapna\n"
     ]
    }
   ],
   "source": [
    "name=input(\"what is your name \")\n",
    "print(\"my name is\", name)"
   ]
  },
  {
   "cell_type": "code",
   "execution_count": 10,
   "metadata": {},
   "outputs": [
    {
     "name": "stdout",
     "output_type": "stream",
     "text": [
      "enter your mobile number8478545878\n",
      "8478545878\n"
     ]
    }
   ],
   "source": [
    "a= input(\"enter your mobile number\")\n",
    "print(a)"
   ]
  },
  {
   "cell_type": "code",
   "execution_count": 11,
   "metadata": {},
   "outputs": [
    {
     "name": "stdout",
     "output_type": "stream",
     "text": [
      "enter your 1st mobile number8983498900\n",
      "enter your 2nd mobile number787857858\n",
      "your mobile number is 8983498900787857858\n"
     ]
    }
   ],
   "source": [
    "a=input(\"enter your 1st mobile number\")\n",
    "b=input(\"enter your 2nd mobile number\")\n",
    "c=a+b\n",
    "print(\"your mobile number is\",c)"
   ]
  },
  {
   "cell_type": "code",
   "execution_count": 12,
   "metadata": {},
   "outputs": [
    {
     "name": "stdout",
     "output_type": "stream",
     "text": [
      "enter your full namesapna rajput\n",
      "sapna rajput\n"
     ]
    }
   ],
   "source": [
    "name=input(\"enter your full name\" )\n",
    "print(name)"
   ]
  },
  {
   "cell_type": "code",
   "execution_count": 13,
   "metadata": {},
   "outputs": [
    {
     "name": "stdout",
     "output_type": "stream",
     "text": [
      "enter your name sappu\n",
      "welcoem miss sappu\n"
     ]
    }
   ],
   "source": [
    "name=input(\"enter your name \" )\n",
    "print(\"welcoem miss\",name);"
   ]
  },
  {
   "cell_type": "code",
   "execution_count": 3,
   "metadata": {},
   "outputs": [
    {
     "name": "stdout",
     "output_type": "stream",
     "text": [
      "enter your 1st number11\n",
      "enter your 2nd number11\n",
      "addition 1111\n"
     ]
    }
   ],
   "source": [
    "a=input(\"enter your 1st number\")\n",
    "b=input(\"enter your 2nd number\")\n",
    "c=a+b\n",
    "print(\"addition\" ,c)"
   ]
  },
  {
   "cell_type": "code",
   "execution_count": 4,
   "metadata": {},
   "outputs": [
    {
     "name": "stdout",
     "output_type": "stream",
     "text": [
      "your nameanisha\n",
      "anisha\n"
     ]
    }
   ],
   "source": [
    "name=input(\"your name\")\n",
    "print(name)"
   ]
  },
  {
   "cell_type": "code",
   "execution_count": 5,
   "metadata": {},
   "outputs": [
    {
     "name": "stdout",
     "output_type": "stream",
     "text": [
      "enter your mobile number984984989\n",
      "984984989\n"
     ]
    }
   ],
   "source": [
    "mobile=input(\"enter your mobile number\")\n",
    "print(mobile)"
   ]
  },
  {
   "cell_type": "code",
   "execution_count": 17,
   "metadata": {},
   "outputs": [
    {
     "name": "stdout",
     "output_type": "stream",
     "text": [
      "what is your full namesapna\n",
      "what is your age20\n",
      "your qualificationbcs\n",
      "sapna 20 bcs\n"
     ]
    }
   ],
   "source": [
    "name=input(\"what is your full name\")\n",
    "age=input(\"what is your age\")\n",
    "qualification=input(\"your qualification\")\n",
    "print(name,age,qualification)\n"
   ]
  },
  {
   "cell_type": "code",
   "execution_count": 8,
   "metadata": {},
   "outputs": [],
   "source": [
    "# python is a programing language"
   ]
  },
  {
   "cell_type": "code",
   "execution_count": 9,
   "metadata": {},
   "outputs": [
    {
     "data": {
      "text/plain": [
       "\"jkasjksjdkljklsjkl\\nksdjlsdjklsd\\nkdsjkjsdkjkljsd\\njsdkjsdkjfklsd\\nkdsjsj\\nsdkjlsdjklfj\\n\\njsdkljdskj\\nsdjksdjkf'jsdk\\nsdjfklsdjkflsd\\njsdkljfks\""
      ]
     },
     "execution_count": 9,
     "metadata": {},
     "output_type": "execute_result"
    }
   ],
   "source": [
    "\"\"\"jkasjksjdkljklsjkl\n",
    "ksdjlsdjklsd\n",
    "kdsjkjsdkjkljsd\n",
    "jsdkjsdkjfklsd\n",
    "kdsjsj\n",
    "sdkjlsdjklfj\n",
    "\n",
    "jsdkljdskj\n",
    "sdjksdjkf'jsdk\n",
    "sdjfklsdjkflsd\n",
    "jsdkljfks\"\"\""
   ]
  },
  {
   "cell_type": "code",
   "execution_count": 12,
   "metadata": {},
   "outputs": [
    {
     "name": "stdout",
     "output_type": "stream",
     "text": [
      "sapna sappi\n"
     ]
    }
   ],
   "source": [
    "a=\"sapna\"\n",
    "b=\"sappi\"\n",
    "print(a,b)"
   ]
  },
  {
   "cell_type": "code",
   "execution_count": 14,
   "metadata": {},
   "outputs": [
    {
     "name": "stdout",
     "output_type": "stream",
     "text": [
      "sappu\n"
     ]
    }
   ],
   "source": [
    "name=\"sappu\"\n",
    "print(name)"
   ]
  },
  {
   "cell_type": "code",
   "execution_count": 16,
   "metadata": {},
   "outputs": [
    {
     "name": "stdout",
     "output_type": "stream",
     "text": [
      "yelloyelloyello\n"
     ]
    }
   ],
   "source": [
    "a=b=c=\"yello\"\n",
    "print(a+b+c)"
   ]
  },
  {
   "cell_type": "code",
   "execution_count": 17,
   "metadata": {},
   "outputs": [
    {
     "name": "stdout",
     "output_type": "stream",
     "text": [
      "20 , 30 , 40\n"
     ]
    }
   ],
   "source": [
    "age=20\n",
    "Age=30\n",
    "AGE=40\n",
    "print(age,',',Age,',',AGE)"
   ]
  },
  {
   "cell_type": "code",
   "execution_count": 18,
   "metadata": {},
   "outputs": [
    {
     "name": "stdout",
     "output_type": "stream",
     "text": [
      "red orrange yello pink\n"
     ]
    }
   ],
   "source": [
    "a,b,c,d,=\"red\",\"orrange\",\"yello\",\"pink\"\n",
    "print(a,b,c,d)"
   ]
  },
  {
   "cell_type": "code",
   "execution_count": 19,
   "metadata": {},
   "outputs": [
    {
     "name": "stdout",
     "output_type": "stream",
     "text": [
      "60\n"
     ]
    }
   ],
   "source": [
    "number_1=10\n",
    "number_2=20\n",
    "number_3=30\n",
    "a=number_1+number_2+number_3\n",
    "print(a)"
   ]
  },
  {
   "cell_type": "code",
   "execution_count": 27,
   "metadata": {},
   "outputs": [
    {
     "name": "stdout",
     "output_type": "stream",
     "text": [
      "<class 'NoneType'>\n"
     ]
    }
   ],
   "source": [
    "# None \n",
    "x=None\n",
    "y=None\n",
    "print(type(y))\n"
   ]
  },
  {
   "cell_type": "code",
   "execution_count": 3,
   "metadata": {},
   "outputs": [
    {
     "data": {
      "text/plain": [
       "9"
      ]
     },
     "execution_count": 3,
     "metadata": {},
     "output_type": "execute_result"
    }
   ],
   "source": [
    "x=3\n",
    "x**2"
   ]
  },
  {
   "cell_type": "code",
   "execution_count": 1,
   "metadata": {},
   "outputs": [
    {
     "name": "stdout",
     "output_type": "stream",
     "text": [
      "11\n"
     ]
    }
   ],
   "source": [
    "x=10\n",
    "x+= 1\n",
    "print(x)"
   ]
  },
  {
   "cell_type": "code",
   "execution_count": 2,
   "metadata": {},
   "outputs": [
    {
     "name": "stdout",
     "output_type": "stream",
     "text": [
      "2\n"
     ]
    }
   ],
   "source": [
    "x=12\n",
    "x-= 10\n",
    "print(x)"
   ]
  },
  {
   "cell_type": "code",
   "execution_count": 28,
   "metadata": {},
   "outputs": [
    {
     "name": "stdout",
     "output_type": "stream",
     "text": [
      "1\n"
     ]
    }
   ],
   "source": [
    "y=3\n",
    "y-= 2\n",
    "print(y)"
   ]
  },
  {
   "cell_type": "code",
   "execution_count": 3,
   "metadata": {},
   "outputs": [
    {
     "name": "stdout",
     "output_type": "stream",
     "text": [
      "160\n"
     ]
    }
   ],
   "source": [
    "x=32\n",
    "x *= 5\n",
    "print(x)"
   ]
  },
  {
   "cell_type": "code",
   "execution_count": 4,
   "metadata": {},
   "outputs": [
    {
     "name": "stdout",
     "output_type": "stream",
     "text": [
      "9.0\n"
     ]
    }
   ],
   "source": [
    "x= 45\n",
    "x /= 5\n",
    "print(x)"
   ]
  },
  {
   "cell_type": "code",
   "execution_count": 5,
   "metadata": {},
   "outputs": [
    {
     "name": "stdout",
     "output_type": "stream",
     "text": [
      "0\n"
     ]
    }
   ],
   "source": [
    "x=32\n",
    "x%= 4\n",
    "print(x)"
   ]
  },
  {
   "cell_type": "code",
   "execution_count": 6,
   "metadata": {},
   "outputs": [
    {
     "name": "stdout",
     "output_type": "stream",
     "text": [
      "14\n"
     ]
    }
   ],
   "source": [
    "x=43\n",
    "x //= 3\n",
    "print(x)"
   ]
  },
  {
   "cell_type": "code",
   "execution_count": 7,
   "metadata": {},
   "outputs": [
    {
     "name": "stdout",
     "output_type": "stream",
     "text": [
      "5489649\n"
     ]
    }
   ],
   "source": [
    "x=2343\n",
    "x **=2\n",
    "print(x)"
   ]
  }
 ],
 "metadata": {
  "kernelspec": {
   "display_name": "Python 3",
   "language": "python",
   "name": "python3"
  },
  "language_info": {
   "codemirror_mode": {
    "name": "ipython",
    "version": 3
   },
   "file_extension": ".py",
   "mimetype": "text/x-python",
   "name": "python",
   "nbconvert_exporter": "python",
   "pygments_lexer": "ipython3",
   "version": "3.8.3"
  }
 },
 "nbformat": 4,
 "nbformat_minor": 4
}
