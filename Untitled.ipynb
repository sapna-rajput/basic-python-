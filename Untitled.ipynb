{
 "cells": [
  {
   "cell_type": "code",
   "execution_count": 4,
   "metadata": {},
   "outputs": [
    {
     "name": "stdout",
     "output_type": "stream",
     "text": [
      "100\n"
     ]
    }
   ],
   "source": [
    "a=20\n",
    "b=80\n",
    "c=80\n",
    "x=a+b\n",
    "print(x)"
   ]
  },
  {
   "cell_type": "code",
   "execution_count": 6,
   "metadata": {},
   "outputs": [
    {
     "name": "stdout",
     "output_type": "stream",
     "text": [
      "40\n"
     ]
    }
   ],
   "source": [
    "number_1=10\n",
    "number_2=30\n",
    "x=number_1+number_2\n",
    "print(x)"
   ]
  },
  {
   "cell_type": "code",
   "execution_count": 5,
   "metadata": {
    "scrolled": true
   },
   "outputs": [
    {
     "name": "stdout",
     "output_type": "stream",
     "text": [
      "what is your name sapna rajput\n",
      "what is your school nameswami ganga bharti senior sec school\n"
     ]
    }
   ],
   "source": [
    " x=input(\"what is your name \")\n",
    "y=input(\"what is your school name\")\n",
    "print(y)"
   ]
  },
  {
   "cell_type": "code",
   "execution_count": null,
   "metadata": {},
   "outputs": [],
   "source": [
    "*Data type\n",
    "(1)None\n",
    "(2)Numeric\n",
    "(3)text"
   ]
  },
  {
   "cell_type": "code",
   "execution_count": 3,
   "metadata": {},
   "outputs": [
    {
     "name": "stdout",
     "output_type": "stream",
     "text": [
      "None None\n"
     ]
    }
   ],
   "source": [
    " x=None\n",
    "y=None\n",
    "print(x ,y)"
   ]
  },
  {
   "cell_type": "code",
   "execution_count": 8,
   "metadata": {},
   "outputs": [
    {
     "name": "stdout",
     "output_type": "stream",
     "text": [
      "<class 'NoneType'>\n"
     ]
    }
   ],
   "source": [
    "x=1\n",
    "y=None\n",
    "print(type(y))"
   ]
  },
  {
   "cell_type": "code",
   "execution_count": 34,
   "metadata": {},
   "outputs": [
    {
     "name": "stdout",
     "output_type": "stream",
     "text": [
      "(4767.55+34.35j)\n",
      "4324 <class 'int'>\n"
     ]
    }
   ],
   "source": [
    "x=4324\n",
    "y=443.55\n",
    "z=34.35j\n",
    "r=x+y+z\n",
    "print(r)\n",
    "print(x,type(x))"
   ]
  },
  {
   "cell_type": "code",
   "execution_count": 35,
   "metadata": {},
   "outputs": [
    {
     "name": "stdout",
     "output_type": "stream",
     "text": [
      "hii hello world  <class 'str'>\n",
      "who is she <class 'str'>\n"
     ]
    }
   ],
   "source": [
    "x=\"hii hello world \" \n",
    "y=\"who is she\"\n",
    "print(x,type(x))\n",
    "print(y,type(y))"
   ]
  },
  {
   "cell_type": "code",
   "execution_count": 41,
   "metadata": {},
   "outputs": [
    {
     "name": "stdout",
     "output_type": "stream",
     "text": [
      "(153561.556-5j)\n",
      "77589 <class 'int'>\n",
      "75878 <class 'int'>\n",
      "49.556 <class 'float'>\n",
      "(45-5j) <class 'complex'>\n"
     ]
    }
   ],
   "source": [
    "x=77589\n",
    "y=75878\n",
    "z=49.556\n",
    "q=45-5j\n",
    "w=x+y+z+q\n",
    "print(w)\n",
    "print(x,type(x))\n",
    "print(y,type(y))\n",
    "print(z,type(z))\n",
    "print(q,type(q))"
   ]
  },
  {
   "cell_type": "code",
   "execution_count": 43,
   "metadata": {},
   "outputs": [
    {
     "name": "stdout",
     "output_type": "stream",
     "text": [
      "5876.6856 <class 'float'>\n",
      "(901106.6856-56j)\n"
     ]
    }
   ],
   "source": [
    "p=5876.6856\n",
    "q=894875\n",
    "r=355-56j\n",
    "s=p+q+r\n",
    "print(p,type(p))\n",
    "print(s)"
   ]
  },
  {
   "cell_type": "code",
   "execution_count": 46,
   "metadata": {},
   "outputs": [
    {
     "name": "stdout",
     "output_type": "stream",
     "text": [
      "(76-8j)\n",
      "True <class 'bool'>\n",
      "(75-8j) <class 'complex'>\n"
     ]
    }
   ],
   "source": [
    "s=True\n",
    "p=75-8j\n",
    "q=s+p\n",
    "print(q)\n",
    "print(s,type(s))\n",
    "print(p,type(p))"
   ]
  },
  {
   "cell_type": "code",
   "execution_count": 49,
   "metadata": {},
   "outputs": [
    {
     "name": "stdout",
     "output_type": "stream",
     "text": [
      "whotrue\n",
      "who <class 'str'>\n",
      "true <class 'str'>\n"
     ]
    }
   ],
   "source": [
    "x=\"who\"\n",
    "y='true'\n",
    "z=x+y\n",
    "print(z)\n",
    "print(x,type(x))\n",
    "print(y,type(y))\n"
   ]
  },
  {
   "cell_type": "code",
   "execution_count": 51,
   "metadata": {},
   "outputs": [
    {
     "name": "stdout",
     "output_type": "stream",
     "text": [
      "(43343.676+56j)\n",
      "43343 <class 'int'>\n",
      "45.676 <class 'float'>\n",
      "(-45+56j) <class 'complex'>\n"
     ]
    }
   ],
   "source": [
    "x=43343\n",
    "y=45.676\n",
    "z=-45+56j\n",
    "a=x+y+z\n",
    "print(a)\n",
    "print(x,type(x))\n",
    "print(y,type(y))\n",
    "print(z,type(z))"
   ]
  },
  {
   "cell_type": "code",
   "execution_count": 53,
   "metadata": {},
   "outputs": [
    {
     "name": "stdout",
     "output_type": "stream",
     "text": [
      "where are u from  i am from alwar \n",
      "where are u from  <class 'str'>\n"
     ]
    }
   ],
   "source": [
    "x=\"where are u from \" \n",
    "y=\"i am from alwar \"\n",
    "print(x,y)\n",
    "print(x,type(x))"
   ]
  },
  {
   "cell_type": "code",
   "execution_count": 56,
   "metadata": {},
   "outputs": [
    {
     "name": "stdout",
     "output_type": "stream",
     "text": [
      "sapna rajput\n"
     ]
    }
   ],
   "source": [
    "x=\"sapna\"\n",
    "y=\"rajput\"\n",
    "print(x,y)"
   ]
  },
  {
   "cell_type": "code",
   "execution_count": 57,
   "metadata": {},
   "outputs": [
    {
     "name": "stdout",
     "output_type": "stream",
     "text": [
      "python\n"
     ]
    }
   ],
   "source": [
    "x=15\n",
    "x=\"python\"\n",
    "print(x)"
   ]
  },
  {
   "cell_type": "code",
   "execution_count": 59,
   "metadata": {},
   "outputs": [
    {
     "name": "stdout",
     "output_type": "stream",
     "text": [
      "how are you/n fine\n"
     ]
    }
   ],
   "source": [
    "a=r\"how are you/n fine\"\n",
    "print(a)"
   ]
  },
  {
   "cell_type": "code",
   "execution_count": 60,
   "metadata": {},
   "outputs": [
    {
     "name": "stdout",
     "output_type": "stream",
     "text": [
      "20\n",
      "y\n"
     ]
    }
   ],
   "source": [
    "a=\"what  is  your  name\"\n",
    "print(len(a))\n",
    "print(a[10])"
   ]
  },
  {
   "cell_type": "code",
   "execution_count": null,
   "metadata": {},
   "outputs": [],
   "source": []
  },
  {
   "cell_type": "code",
   "execution_count": 12,
   "metadata": {},
   "outputs": [
    {
     "name": "stdout",
     "output_type": "stream",
     "text": [
      "55732\n"
     ]
    }
   ],
   "source": [
    "x=54653\n",
    "y=543\n",
    "z=536\n",
    "a=x+y+z\n",
    "print(a)\n"
   ]
  },
  {
   "cell_type": "code",
   "execution_count": 28,
   "metadata": {},
   "outputs": [
    {
     "name": "stdout",
     "output_type": "stream",
     "text": [
      "(-3+5j) <class 'complex'>\n",
      "(3-8j) <class 'complex'>\n",
      "566.65 <class 'float'>\n",
      "True <class 'bool'>\n"
     ]
    }
   ],
   "source": [
    "x=-3+5j\n",
    "y=3-8j\n",
    "z=566.65\n",
    "s=True\n",
    "r=x+y+z+s\n",
    "print(x,type(x))\n",
    "print(y,type(y))\n",
    "print(z,type(z))\n",
    "print(s,type(s))"
   ]
  },
  {
   "cell_type": "code",
   "execution_count": 29,
   "metadata": {},
   "outputs": [
    {
     "name": "stdout",
     "output_type": "stream",
     "text": [
      "<class 'bool'>\n"
     ]
    }
   ],
   "source": [
    "x=True\n",
    "print(type(x))"
   ]
  },
  {
   "cell_type": "code",
   "execution_count": 33,
   "metadata": {},
   "outputs": [
    {
     "name": "stdout",
     "output_type": "stream",
     "text": [
      "88477 <class 'int'>\n",
      "(-3-8j) <class 'complex'>\n",
      "464.54 <class 'float'>\n",
      "88477 (-3-8j) 464.54\n"
     ]
    }
   ],
   "source": [
    "s=88477\n",
    "d=-3-8j\n",
    "h=464.54\n",
    "print(s,type(s))\n",
    "print(d,type(d))\n",
    "print(h,type(h))\n",
    "print(s,d,h)\n"
   ]
  },
  {
   "cell_type": "code",
   "execution_count": 28,
   "metadata": {},
   "outputs": [
    {
     "name": "stdout",
     "output_type": "stream",
     "text": [
      "885.78\n",
      "<class 'bool'>\n"
     ]
    }
   ],
   "source": [
    "a=True\n",
    "b=884.78\n",
    "print(a+b)\n",
    "print(type(a))"
   ]
  },
  {
   "cell_type": "code",
   "execution_count": 32,
   "metadata": {},
   "outputs": [
    {
     "name": "stdout",
     "output_type": "stream",
     "text": [
      "454543 <class 'int'>\n"
     ]
    }
   ],
   "source": [
    "q=454543\n",
    "w=43567\n",
    "print(q,type(q))"
   ]
  },
  {
   "cell_type": "code",
   "execution_count": 6,
   "metadata": {},
   "outputs": [
    {
     "name": "stdout",
     "output_type": "stream",
     "text": [
      "enter a number44445\n",
      "enter your namerajni\n",
      "44445\n",
      "rajni\n"
     ]
    }
   ],
   "source": [
    "x=input(\"enter a number\")\n",
    "y=input(\"enter your name\")\n",
    "print(x)\n",
    "print(y)"
   ]
  },
  {
   "cell_type": "code",
   "execution_count": 29,
   "metadata": {},
   "outputs": [
    {
     "name": "stdout",
     "output_type": "stream",
     "text": [
      "enter a number87\n",
      "enter a number88\n"
     ]
    }
   ],
   "source": [
    "x=input(\"enter a number\")\n",
    "y=input(\"enter a number\")"
   ]
  },
  {
   "cell_type": "code",
   "execution_count": 10,
   "metadata": {},
   "outputs": [
    {
     "name": "stdout",
     "output_type": "stream",
     "text": [
      "enter a number123\n",
      "sum of x and y is : 12310\n"
     ]
    }
   ],
   "source": [
    "x = input(\"enter a number\")\n",
    "y= \"10\"\n",
    "z = x+y\n",
    "print(\"sum of x and y is :\",z)"
   ]
  },
  {
   "cell_type": "code",
   "execution_count": 16,
   "metadata": {},
   "outputs": [
    {
     "name": "stdout",
     "output_type": "stream",
     "text": [
      " enter your school name :samnju\n",
      "school namesasa\n",
      "sanju your school name is :  samnju\n"
     ]
    }
   ],
   "source": [
    "sanju = input(\" enter your school name :\") # input(\"school name\")\n",
    "print(\"sanju your school name is : \",sanju)"
   ]
  },
  {
   "cell_type": "markdown",
   "metadata": {},
   "source": [
    "# **string\n",
    "1)string\n",
    "2)indexing in string \n",
    "3) string mathod/function\n",
    "4)string formating"
   ]
  },
  {
   "cell_type": "code",
   "execution_count": 70,
   "metadata": {},
   "outputs": [
    {
     "name": "stdout",
     "output_type": "stream",
     "text": [
      "welcome to 'all of you'\n"
     ]
    }
   ],
   "source": [
    "\"\"\"single quotes use inside double quotes\"\"\"\n",
    "a = \"welcome to 'all of you'\"\n",
    "print(a)"
   ]
  },
  {
   "cell_type": "code",
   "execution_count": 71,
   "metadata": {},
   "outputs": [
    {
     "name": "stdout",
     "output_type": "stream",
     "text": [
      "my hobby \"is listening music\"\n"
     ]
    }
   ],
   "source": [
    "\"\"\"double quotes use inside single quotes\"\"\"\n",
    "b='my hobby \"is listening music\"'\n",
    "print(b)"
   ]
  },
  {
   "cell_type": "code",
   "execution_count": 83,
   "metadata": {},
   "outputs": [
    {
     "name": "stdout",
     "output_type": "stream",
     "text": [
      "this 'is like' drama\n"
     ]
    }
   ],
   "source": [
    "a = \"this 'is like' drama\"\n",
    "print(a)\n"
   ]
  },
  {
   "cell_type": "code",
   "execution_count": 30,
   "metadata": {},
   "outputs": [
    {
     "name": "stdout",
     "output_type": "stream",
     "text": [
      "i ike tiktok\n",
      "<class 'str'>\n"
     ]
    }
   ],
   "source": [
    "b=\"i ike tiktok\"\n",
    "print(b)\n",
    "print(type(b))"
   ]
  },
  {
   "cell_type": "code",
   "execution_count": 98,
   "metadata": {},
   "outputs": [
    {
     "name": "stdout",
     "output_type": "stream",
     "text": [
      "jkdjkjkdvkjkf\n",
      "kjfkjksjfkj\n"
     ]
    }
   ],
   "source": [
    "a= \"\"\"jkdjkjkdvkjkf\n",
    "kjfkjksjfkj\"\"\"\n",
    "print(a)"
   ]
  },
  {
   "cell_type": "markdown",
   "metadata": {},
   "source": [
    "# /n use for new line\n"
   ]
  },
  {
   "cell_type": "code",
   "execution_count": 100,
   "metadata": {},
   "outputs": [
    {
     "name": "stdout",
     "output_type": "stream",
     "text": [
      "hello world \n",
      " sapna\n"
     ]
    }
   ],
   "source": [
    "a=\"hello world \\n sapna\"\n",
    "print(a)"
   ]
  },
  {
   "cell_type": "code",
   "execution_count": 31,
   "metadata": {},
   "outputs": [
    {
     "name": "stdout",
     "output_type": "stream",
     "text": [
      "my princess name \n",
      " saanvi\n"
     ]
    }
   ],
   "source": [
    "b=\"my princess name \\n saanvi\"\n",
    "print(b)"
   ]
  },
  {
   "cell_type": "code",
   "execution_count": 34,
   "metadata": {},
   "outputs": [
    {
     "name": "stdout",
     "output_type": "stream",
     "text": [
      "my cutie \\n shanu\n"
     ]
    }
   ],
   "source": [
    "c=r\"my cutie \\n shanu\"\n",
    "print(c)"
   ]
  },
  {
   "cell_type": "code",
   "execution_count": 102,
   "metadata": {},
   "outputs": [
    {
     "name": "stdout",
     "output_type": "stream",
     "text": [
      "what are u doing now \n",
      " i am sleeping\n"
     ]
    }
   ],
   "source": [
    "a=\"what are u doing now \\n i am sleeping\"\n",
    "print(a)"
   ]
  },
  {
   "cell_type": "code",
   "execution_count": 108,
   "metadata": {},
   "outputs": [
    {
     "name": "stdout",
     "output_type": "stream",
     "text": [
      "i am soo excited \\n do u know\n"
     ]
    }
   ],
   "source": [
    "b=R\"i am soo excited \\n do u know\"\n",
    "print(b)"
   ]
  },
  {
   "cell_type": "markdown",
   "metadata": {},
   "source": [
    "# **indexing in string"
   ]
  },
  {
   "cell_type": "code",
   "execution_count": 115,
   "metadata": {},
   "outputs": [
    {
     "name": "stdout",
     "output_type": "stream",
     "text": [
      "17\n",
      "u\n",
      "a\n",
      "y\n",
      " \n",
      "p\n"
     ]
    }
   ],
   "source": [
    "a=\"how are you payal\"\n",
    "print(len(a))\n",
    "print(a[10])\n",
    "print(a[-2])\n",
    "print(a[8])\n",
    "print(a[7])\n",
    "print(a[-5])"
   ]
  },
  {
   "cell_type": "code",
   "execution_count": 41,
   "metadata": {},
   "outputs": [
    {
     "name": "stdout",
     "output_type": "stream",
     "text": [
      "radha doing some work\n",
      "21\n",
      "e\n",
      "o\n"
     ]
    }
   ],
   "source": [
    "a=\"radha doing some work\"\n",
    "print(a)\n",
    "print(len(a))\n",
    "print(a[-6])\n",
    "print(a[7])"
   ]
  },
  {
   "cell_type": "code",
   "execution_count": 124,
   "metadata": {},
   "outputs": [
    {
     "name": "stdout",
     "output_type": "stream",
     "text": [
      "34\n",
      "k\n",
      "o\n"
     ]
    }
   ],
   "source": [
    "b=\"i am doing some work can u help me\"\n",
    "print(len(b))\n",
    "print(b[-15])\n",
    "print(b[17])"
   ]
  },
  {
   "cell_type": "markdown",
   "metadata": {},
   "source": [
    "# **string mathod function "
   ]
  },
  {
   "cell_type": "code",
   "execution_count": 17,
   "metadata": {},
   "outputs": [
    {
     "name": "stdout",
     "output_type": "stream",
     "text": [
      "8\n"
     ]
    }
   ],
   "source": [
    "a=\"hi hello\"\n",
    "print(len(a))"
   ]
  },
  {
   "cell_type": "code",
   "execution_count": 42,
   "metadata": {},
   "outputs": [
    {
     "name": "stdout",
     "output_type": "stream",
     "text": [
      "20\n"
     ]
    }
   ],
   "source": [
    "a=\"hi manvi how are you\"\n",
    "print(len(a))"
   ]
  },
  {
   "cell_type": "code",
   "execution_count": 5,
   "metadata": {},
   "outputs": [
    {
     "name": "stdout",
     "output_type": "stream",
     "text": [
      "37\n",
      "t\n",
      "a\n"
     ]
    }
   ],
   "source": [
    "b='whta is the name of this type animals'\n",
    "print(len(b))\n",
    "print(b[25])\n",
    "print(b[-34])"
   ]
  },
  {
   "cell_type": "code",
   "execution_count": 133,
   "metadata": {},
   "outputs": [
    {
     "name": "stdout",
     "output_type": "stream",
     "text": [
      "hello world\n"
     ]
    }
   ],
   "source": [
    "# the lower()mathod returnes the string in lower case.\n",
    "b=\"HELLO WORLD\"\n",
    "print(b.lower())"
   ]
  },
  {
   "cell_type": "code",
   "execution_count": 6,
   "metadata": {},
   "outputs": [
    {
     "name": "stdout",
     "output_type": "stream",
     "text": [
      "<class 'str'>\n",
      "whtsapp guys how are you\n"
     ]
    }
   ],
   "source": [
    "a=\"WHTSAPP GUYS HOW ARE YOU\"\n",
    "print(type(a))\n",
    "print(a.lower())"
   ]
  },
  {
   "cell_type": "code",
   "execution_count": 134,
   "metadata": {},
   "outputs": [
    {
     "name": "stdout",
     "output_type": "stream",
     "text": [
      "i am a programmer\n"
     ]
    }
   ],
   "source": [
    "a=\"I AM A PROGRAMMER\"\n",
    "print(a.lower())"
   ]
  },
  {
   "cell_type": "code",
   "execution_count": 137,
   "metadata": {},
   "outputs": [
    {
     "name": "stdout",
     "output_type": "stream",
     "text": [
      "I WANT TO  BE A SOFTWARE DOVELOPER\n"
     ]
    }
   ],
   "source": [
    "#the upper mathod()returens the string in upper case.\n",
    "a=\"i want to  be a software doveloper\"\n",
    "print(a.upper())"
   ]
  },
  {
   "cell_type": "code",
   "execution_count": 7,
   "metadata": {},
   "outputs": [
    {
     "name": "stdout",
     "output_type": "stream",
     "text": [
      "HELLO FRNDS WHAT ARE U DOING\n"
     ]
    }
   ],
   "source": [
    "x=\"hello frnds what are u doing\"\n",
    "print(x.upper())"
   ]
  },
  {
   "cell_type": "code",
   "execution_count": null,
   "metadata": {},
   "outputs": [],
   "source": [
    "# the strip mathod()remove the any whitespace from the begining or ending the string"
   ]
  },
  {
   "cell_type": "code",
   "execution_count": 140,
   "metadata": {},
   "outputs": [
    {
     "name": "stdout",
     "output_type": "stream",
     "text": [
      "hii, hello\n"
     ]
    }
   ],
   "source": [
    "a= \"hii, hello \"\n",
    "print(a.strip())"
   ]
  },
  {
   "cell_type": "code",
   "execution_count": 8,
   "metadata": {},
   "outputs": [
    {
     "name": "stdout",
     "output_type": "stream",
     "text": [
      "hello world wide web\n"
     ]
    }
   ],
   "source": [
    "z=\"  hello world wide web  \"\n",
    "print(z.strip())"
   ]
  },
  {
   "cell_type": "code",
   "execution_count": 138,
   "metadata": {},
   "outputs": [
    {
     "name": "stdout",
     "output_type": "stream",
     "text": [
      "hello what happend\n"
     ]
    }
   ],
   "source": [
    "a=\"  hello what happend  \"\n",
    "print(a.strip())"
   ]
  },
  {
   "cell_type": "code",
   "execution_count": 9,
   "metadata": {},
   "outputs": [
    {
     "name": "stdout",
     "output_type": "stream",
     "text": [
      "mr and mrs how r you i am fine\n"
     ]
    }
   ],
   "source": [
    "y='mr and mrs how r you'\n",
    "z='i am fine'\n",
    "print(y.lstrip(),z)"
   ]
  },
  {
   "cell_type": "code",
   "execution_count": null,
   "metadata": {},
   "outputs": [],
   "source": [
    "#lstrip"
   ]
  },
  {
   "cell_type": "code",
   "execution_count": 146,
   "metadata": {},
   "outputs": [
    {
     "name": "stdout",
     "output_type": "stream",
     "text": [
      "where are u from dear ?  i am form india\n"
     ]
    }
   ],
   "source": [
    "a=\"  where are u from dear ? \"\n",
    "b= \"i am form india\"\n",
    "print(a.lstrip(),b)"
   ]
  },
  {
   "cell_type": "code",
   "execution_count": null,
   "metadata": {},
   "outputs": [],
   "source": [
    "#the rplace() mathod replace a string with another string"
   ]
  },
  {
   "cell_type": "code",
   "execution_count": 149,
   "metadata": {},
   "outputs": [
    {
     "name": "stdout",
     "output_type": "stream",
     "text": [
      "hello,city ,city,city\n"
     ]
    }
   ],
   "source": [
    "a=\"hello,world ,world,world\"\n",
    "print(a.replace(\"world\",\"city\"))"
   ]
  },
  {
   "cell_type": "code",
   "execution_count": 12,
   "metadata": {},
   "outputs": [
    {
     "name": "stdout",
     "output_type": "stream",
     "text": [
      "chemistry based on the latest syllabus\n"
     ]
    }
   ],
   "source": [
    "b=\"math based on the latest syllabus\"\n",
    "print(b.replace(\"math\",\"chemistry\"))"
   ]
  },
  {
   "cell_type": "code",
   "execution_count": 14,
   "metadata": {},
   "outputs": [
    {
     "name": "stdout",
     "output_type": "stream",
     "text": [
      "sapna frnds name abhi mithu abhi\n"
     ]
    }
   ],
   "source": [
    "s=\"sapna frnds name abhi mithu poonm\"\n",
    "print(s.replace(\"poonm\",\"abhi\"))"
   ]
  },
  {
   "cell_type": "code",
   "execution_count": 152,
   "metadata": {},
   "outputs": [
    {
     "name": "stdout",
     "output_type": "stream",
     "text": [
      "my name is sapana, smyra, sappu ,sappu\n"
     ]
    }
   ],
   "source": [
    "b=\"my name is smayra, smyra, sappu ,sappu\"\n",
    "print(b.replace(\"smayra\",\"sapana\"))"
   ]
  },
  {
   "cell_type": "code",
   "execution_count": null,
   "metadata": {},
   "outputs": [],
   "source": [
    "#split =the mathod split is the string into substring if it finds"
   ]
  },
  {
   "cell_type": "code",
   "execution_count": 153,
   "metadata": {},
   "outputs": [
    {
     "name": "stdout",
     "output_type": "stream",
     "text": [
      "['he', '', 'o ,wor', 'd ']\n"
     ]
    }
   ],
   "source": [
    "a=\"hello ,world \"\n",
    "b=a.split(\"l\")\n",
    "print(b)"
   ]
  },
  {
   "cell_type": "code",
   "execution_count": 19,
   "metadata": {},
   "outputs": [
    {
     "name": "stdout",
     "output_type": "stream",
     "text": [
      "['', 'bhi ', 'nd ', 'nit', '']\n"
     ]
    }
   ],
   "source": [
    "x=\"abhi and anita\"\n",
    "y=x.split('a')\n",
    "print(y)"
   ]
  },
  {
   "cell_type": "code",
   "execution_count": 22,
   "metadata": {},
   "outputs": [
    {
     "name": "stdout",
     "output_type": "stream",
     "text": [
      "Mister india\n"
     ]
    }
   ],
   "source": [
    "a=\"mister india\"\n",
    "print(a.capitalize())"
   ]
  },
  {
   "cell_type": "code",
   "execution_count": 154,
   "metadata": {},
   "outputs": [
    {
     "name": "stdout",
     "output_type": "stream",
     "text": [
      "['my n', 'me is s', 'pn', '']\n"
     ]
    }
   ],
   "source": [
    "name=\"my name is sapna\"\n",
    "age=name.split(\"a\")\n",
    "print(age)"
   ]
  },
  {
   "cell_type": "code",
   "execution_count": null,
   "metadata": {},
   "outputs": [],
   "source": [
    "#capitalize"
   ]
  },
  {
   "cell_type": "code",
   "execution_count": 15,
   "metadata": {},
   "outputs": [
    {
     "name": "stdout",
     "output_type": "stream",
     "text": [
      "Hello gyus\n"
     ]
    }
   ],
   "source": [
    "a = 'hello gyus' \n",
    "print(a.capitalize())"
   ]
  },
  {
   "cell_type": "code",
   "execution_count": 27,
   "metadata": {},
   "outputs": [
    {
     "name": "stdout",
     "output_type": "stream",
     "text": [
      "my name is\"sapna and what\"is your name\n"
     ]
    }
   ],
   "source": [
    "a=\"\"\"my name is\"sapna and what\"is your name\"\"\"\n",
    "print(a)"
   ]
  },
  {
   "cell_type": "code",
   "execution_count": 31,
   "metadata": {},
   "outputs": [
    {
     "name": "stdout",
     "output_type": "stream",
     "text": [
      "hello world \n",
      " sapna\n"
     ]
    }
   ],
   "source": [
    "a=\"hello world \\n sapna\"\n",
    "print(a)"
   ]
  },
  {
   "cell_type": "code",
   "execution_count": 29,
   "metadata": {},
   "outputs": [
    {
     "name": "stdout",
     "output_type": "stream",
     "text": [
      "what are you doing\\n dancing\n"
     ]
    }
   ],
   "source": [
    "b=r\"what are you doing\\n dancing\"\n",
    "print(b)"
   ]
  },
  {
   "cell_type": "code",
   "execution_count": 34,
   "metadata": {},
   "outputs": [
    {
     "name": "stdout",
     "output_type": "stream",
     "text": [
      "29\n",
      "o\n"
     ]
    }
   ],
   "source": [
    "a=\"hello sapna what is your name\"\n",
    "print(len(a))\n",
    "print(a[-8])"
   ]
  },
  {
   "cell_type": "code",
   "execution_count": 35,
   "metadata": {},
   "outputs": [
    {
     "name": "stdout",
     "output_type": "stream",
     "text": [
      "WHAT IS THIS\n"
     ]
    }
   ],
   "source": [
    "a=\"what is this\"\n",
    "print(a.upper())"
   ]
  },
  {
   "cell_type": "code",
   "execution_count": 36,
   "metadata": {},
   "outputs": [
    {
     "name": "stdout",
     "output_type": "stream",
     "text": [
      "hello sappu \n"
     ]
    }
   ],
   "source": [
    "a=\"HELLO SAPPU \"\n",
    "print(a.lower())"
   ]
  },
  {
   "cell_type": "code",
   "execution_count": 37,
   "metadata": {},
   "outputs": [
    {
     "name": "stdout",
     "output_type": "stream",
     "text": [
      "what are you saying\n"
     ]
    }
   ],
   "source": [
    "a=\" what are you saying   \"\n",
    "print(a.strip())"
   ]
  },
  {
   "cell_type": "code",
   "execution_count": 38,
   "metadata": {},
   "outputs": [
    {
     "name": "stdout",
     "output_type": "stream",
     "text": [
      "what is name my name is pappu\n"
     ]
    }
   ],
   "source": [
    "a=\"what is name\"\n",
    "b=\"my name is pappu\"\n",
    "print(a.lstrip(),b)"
   ]
  },
  {
   "cell_type": "code",
   "execution_count": 40,
   "metadata": {},
   "outputs": [
    {
     "name": "stdout",
     "output_type": "stream",
     "text": [
      "hello,whole,sappu,sappu,whole\n"
     ]
    }
   ],
   "source": [
    "a=\"hello,whole,well,well,whole\"\n",
    "print(a.replace(\"well\",\"sappu\"))"
   ]
  },
  {
   "cell_type": "code",
   "execution_count": 41,
   "metadata": {},
   "outputs": [
    {
     "name": "stdout",
     "output_type": "stream",
     "text": [
      "['hii g', '', 'd']\n"
     ]
    }
   ],
   "source": [
    "a=\"hii good\"\n",
    "b=a.split(\"o\")\n",
    "print(b)"
   ]
  },
  {
   "cell_type": "code",
   "execution_count": 42,
   "metadata": {},
   "outputs": [
    {
     "name": "stdout",
     "output_type": "stream",
     "text": [
      "Here come\n"
     ]
    }
   ],
   "source": [
    "a=\"here come\"\n",
    "print(a.capitalize())"
   ]
  },
  {
   "cell_type": "code",
   "execution_count": 46,
   "metadata": {},
   "outputs": [
    {
     "name": "stdout",
     "output_type": "stream",
     "text": [
      "what,which\n"
     ]
    }
   ],
   "source": [
    "a=\"what,which\"\n",
    "print(a.strip())"
   ]
  },
  {
   "cell_type": "markdown",
   "metadata": {},
   "source": [
    "# **string formating"
   ]
  },
  {
   "cell_type": "code",
   "execution_count": 32,
   "metadata": {},
   "outputs": [
    {
     "name": "stdout",
     "output_type": "stream",
     "text": [
      "10\n",
      "4\n",
      "my age is 6\n",
      "my age is ,6 ,10\n",
      "this article a is written in hi 4 \n"
     ]
    }
   ],
   "source": [
    "a=int(input(''))\n",
    "b=int(input(''))\n",
    "print('my age is',a-b )\n",
    "print(f'my age is ,{a-b} ,{a}') \n",
    "\n",
    "x=\"this article {1} is written in {0} {2} \"\n",
    "print(x.format(\"hi\",\"a\",b))"
   ]
  },
  {
   "cell_type": "code",
   "execution_count": 68,
   "metadata": {},
   "outputs": [
    {
     "name": "stdout",
     "output_type": "stream",
     "text": [
      "i am 14 from codesession academy 12\n",
      "hi 13 how r you\n"
     ]
    }
   ],
   "source": [
    "a=13\n",
    "print('i am %i from codesession academy' %14,12)\n",
    "print('hi',a,'how r you')"
   ]
  },
  {
   "cell_type": "code",
   "execution_count": 80,
   "metadata": {},
   "outputs": [
    {
     "name": "stdout",
     "output_type": "stream",
     "text": [
      "i am sapna from alwar 12.0000\n"
     ]
    }
   ],
   "source": [
    "print(\"i am %s from %s %.4f\" %(\"sapna\",\"alwar\",12))"
   ]
  },
  {
   "cell_type": "code",
   "execution_count": 24,
   "metadata": {},
   "outputs": [
    {
     "name": "stdout",
     "output_type": "stream",
     "text": [
      "enter your namesapna\n",
      "my name is sapna\n",
      "my name is,sapna\n"
     ]
    }
   ],
   "source": [
    "a=input(\"enter your name\")\n",
    "print(\"my name is\",a)\n",
    "print(f\"my name is,{a}\")"
   ]
  },
  {
   "cell_type": "code",
   "execution_count": 26,
   "metadata": {},
   "outputs": [
    {
     "name": "stdout",
     "output_type": "stream",
     "text": [
      "sunita write some word in own diary with pen\n"
     ]
    }
   ],
   "source": [
    "a=\"sunita write {} word in {} diary with {}\"\n",
    "print(a.format(\"some\",\"own\",\"pen\"))"
   ]
  },
  {
   "cell_type": "code",
   "execution_count": 33,
   "metadata": {},
   "outputs": [
    {
     "name": "stdout",
     "output_type": "stream",
     "text": [
      "somthing is going wrongcreating\n",
      "it is no possible creating\n"
     ]
    }
   ],
   "source": [
    "a= input(\"somthing is going wrong\")\n",
    "print(\"it is no possible\",a)"
   ]
  },
  {
   "cell_type": "code",
   "execution_count": 1,
   "metadata": {},
   "outputs": [
    {
     "name": "stdout",
     "output_type": "stream",
     "text": [
      " 657575\n",
      " 232\n",
      "my  number is  {657343}\n",
      "my number is {232}\n"
     ]
    }
   ],
   "source": [
    "a=int(input(\" \"))\n",
    "b=int(input(\" \"))\n",
    "print('my  number is ', {a-b}  )\n",
    "print(f'my number is', {b} )\n"
   ]
  },
  {
   "cell_type": "code",
   "execution_count": 2,
   "metadata": {},
   "outputs": [
    {
     "name": "stdout",
     "output_type": "stream",
     "text": [
      "accourding to hii my way that hello is not good sapna\n"
     ]
    }
   ],
   "source": [
    "\n",
    "x=\"accourding to {1} my way that {2} is not good {0}\"\n",
    "print(x.format(\"sapna\",\"hii\",\"hello\"))"
   ]
  },
  {
   "cell_type": "code",
   "execution_count": 17,
   "metadata": {},
   "outputs": [
    {
     "name": "stdout",
     "output_type": "stream",
     "text": [
      "i am (4343+9999j) 2.10.550000 from codesession acadmay in\n"
     ]
    }
   ],
   "source": [
    "\n",
    "print('i am %s 2.%f from codesession %s in'%(4343+9999j,10.55,\"acadmay\"))\n"
   ]
  },
  {
   "cell_type": "code",
   "execution_count": 29,
   "metadata": {},
   "outputs": [
    {
     "name": "stdout",
     "output_type": "stream",
     "text": [
      "<class 'int'>\n",
      "i mean 3,7636764398.000000 to like a puzzle for my choise\n",
      "this 879498 like a numbe\n"
     ]
    }
   ],
   "source": [
    "a=879498\n",
    "print(type(a))\n",
    "print(\"i mean 3,%f to like a %s for my choise\" %(7636764398,\"puzzle\"))\n",
    "print(\"this\", a, \"like a numbe\")"
   ]
  },
  {
   "cell_type": "code",
   "execution_count": 39,
   "metadata": {},
   "outputs": [
    {
     "name": "stdout",
     "output_type": "stream",
     "text": [
      "i am sapna from codesession and start 344 just 34\n"
     ]
    }
   ],
   "source": [
    "x,y,z,w = \"sapna\" ,\"codesession\" ,\"344\",\"34\"\n",
    "print('i am %s from %s and start %s just %s'%(x,y,z,w))"
   ]
  },
  {
   "cell_type": "code",
   "execution_count": 45,
   "metadata": {},
   "outputs": [
    {
     "name": "stdout",
     "output_type": "stream",
     "text": [
      "hi welcome to my hotel (545-4343j) thnks\n"
     ]
    }
   ],
   "source": [
    "a=\"welcome to my hotel\"\n",
    "b=545-4343j\n",
    "print(\"hi\",a,b,\"thnks\")"
   ]
  },
  {
   "cell_type": "code",
   "execution_count": 50,
   "metadata": {},
   "outputs": [
    {
     "name": "stdout",
     "output_type": "stream",
     "text": [
      "my work is codewrite\n",
      "my name is sapna\n"
     ]
    }
   ],
   "source": [
    "print('my work is %s' %'codewrite')\n",
    "print('my name is %s' %  'sapna')"
   ]
  },
  {
   "cell_type": "code",
   "execution_count": 52,
   "metadata": {},
   "outputs": [
    {
     "name": "stdout",
     "output_type": "stream",
     "text": [
      "<class 'int'>\n",
      "i wrote 34.000000 book today.\n",
      "i wrote 4.000000 poem today.\n"
     ]
    }
   ],
   "source": [
    "a=34\n",
    "print(type(a))\n",
    "print('i wrote %f book today.' %a)\n",
    "print('i wrote %f poem today.' %4)\n"
   ]
  }
 ],
 "metadata": {
  "kernelspec": {
   "display_name": "Python 3",
   "language": "python",
   "name": "python3"
  },
  "language_info": {
   "codemirror_mode": {
    "name": "ipython",
    "version": 3
   },
   "file_extension": ".py",
   "mimetype": "text/x-python",
   "name": "python",
   "nbconvert_exporter": "python",
   "pygments_lexer": "ipython3",
   "version": "3.8.3"
  }
 },
 "nbformat": 4,
 "nbformat_minor": 4
}
