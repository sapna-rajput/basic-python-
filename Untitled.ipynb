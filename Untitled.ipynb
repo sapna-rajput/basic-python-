{
 "cells": [
  {
   "cell_type": "code",
   "execution_count": 6,
   "metadata": {},
   "outputs": [
    {
     "name": "stdout",
     "output_type": "stream",
     "text": [
      "40\n"
     ]
    }
   ],
   "source": [
    "number_1=10\n",
    "number_2=30\n",
    "x=number_1+number_2\n",
    "print(x)"
   ]
  },
  {
   "cell_type": "code",
   "execution_count": 5,
   "metadata": {
    "scrolled": true
   },
   "outputs": [
    {
     "name": "stdout",
     "output_type": "stream",
     "text": [
      "what is your name sapna rajput\n",
      "what is your school nameswami ganga bharti senior sec school\n"
     ]
    }
   ],
   "source": [
    " x=input(\"what is your name \")\n",
    "y=input(\"what is your school name\")\n",
    "print(y)"
   ]
  },
  {
   "cell_type": "code",
   "execution_count": null,
   "metadata": {},
   "outputs": [],
   "source": [
    "*Data type\n",
    "(1)None\n",
    "(2)Numeric\n",
    "(3)text"
   ]
  },
  {
   "cell_type": "code",
   "execution_count": 3,
   "metadata": {},
   "outputs": [
    {
     "name": "stdout",
     "output_type": "stream",
     "text": [
      "None None\n"
     ]
    }
   ],
   "source": [
    " x=None\n",
    "y=None\n",
    "print(x ,y)"
   ]
  },
  {
   "cell_type": "code",
   "execution_count": 8,
   "metadata": {},
   "outputs": [
    {
     "name": "stdout",
     "output_type": "stream",
     "text": [
      "<class 'NoneType'>\n"
     ]
    }
   ],
   "source": [
    "x=1\n",
    "y=None\n",
    "print(type(y))"
   ]
  },
  {
   "cell_type": "code",
   "execution_count": 34,
   "metadata": {},
   "outputs": [
    {
     "name": "stdout",
     "output_type": "stream",
     "text": [
      "(4767.55+34.35j)\n",
      "4324 <class 'int'>\n"
     ]
    }
   ],
   "source": [
    "x=4324\n",
    "y=443.55\n",
    "z=34.35j\n",
    "r=x+y+z\n",
    "print(r)\n",
    "print(x,type(x))"
   ]
  },
  {
   "cell_type": "code",
   "execution_count": 35,
   "metadata": {},
   "outputs": [
    {
     "name": "stdout",
     "output_type": "stream",
     "text": [
      "hii hello world  <class 'str'>\n",
      "who is she <class 'str'>\n"
     ]
    }
   ],
   "source": [
    "x=\"hii hello world \" \n",
    "y=\"who is she\"\n",
    "print(x,type(x))\n",
    "print(y,type(y))"
   ]
  },
  {
   "cell_type": "code",
   "execution_count": 41,
   "metadata": {},
   "outputs": [
    {
     "name": "stdout",
     "output_type": "stream",
     "text": [
      "(153561.556-5j)\n",
      "77589 <class 'int'>\n",
      "75878 <class 'int'>\n",
      "49.556 <class 'float'>\n",
      "(45-5j) <class 'complex'>\n"
     ]
    }
   ],
   "source": [
    "x=77589\n",
    "y=75878\n",
    "z=49.556\n",
    "q=45-5j\n",
    "w=x+y+z+q\n",
    "print(w)\n",
    "print(x,type(x))\n",
    "print(y,type(y))\n",
    "print(z,type(z))\n",
    "print(q,type(q))"
   ]
  },
  {
   "cell_type": "code",
   "execution_count": 43,
   "metadata": {},
   "outputs": [
    {
     "name": "stdout",
     "output_type": "stream",
     "text": [
      "5876.6856 <class 'float'>\n",
      "(901106.6856-56j)\n"
     ]
    }
   ],
   "source": [
    "p=5876.6856\n",
    "q=894875\n",
    "r=355-56j\n",
    "s=p+q+r\n",
    "print(p,type(p))\n",
    "print(s)"
   ]
  },
  {
   "cell_type": "code",
   "execution_count": 46,
   "metadata": {},
   "outputs": [
    {
     "name": "stdout",
     "output_type": "stream",
     "text": [
      "(76-8j)\n",
      "True <class 'bool'>\n",
      "(75-8j) <class 'complex'>\n"
     ]
    }
   ],
   "source": [
    "s=True\n",
    "p=75-8j\n",
    "q=s+p\n",
    "print(q)\n",
    "print(s,type(s))\n",
    "print(p,type(p))"
   ]
  },
  {
   "cell_type": "code",
   "execution_count": 49,
   "metadata": {},
   "outputs": [
    {
     "name": "stdout",
     "output_type": "stream",
     "text": [
      "whotrue\n",
      "who <class 'str'>\n",
      "true <class 'str'>\n"
     ]
    }
   ],
   "source": [
    "x=\"who\"\n",
    "y='true'\n",
    "z=x+y\n",
    "print(z)\n",
    "print(x,type(x))\n",
    "print(y,type(y))\n"
   ]
  },
  {
   "cell_type": "code",
   "execution_count": 12,
   "metadata": {},
   "outputs": [
    {
     "name": "stdout",
     "output_type": "stream",
     "text": [
      "55732\n"
     ]
    }
   ],
   "source": [
    "x=54653\n",
    "y=543\n",
    "z=536\n",
    "a=x+y+z\n",
    "print(a)\n"
   ]
  },
  {
   "cell_type": "code",
   "execution_count": 28,
   "metadata": {},
   "outputs": [
    {
     "name": "stdout",
     "output_type": "stream",
     "text": [
      "(-3+5j) <class 'complex'>\n",
      "(3-8j) <class 'complex'>\n",
      "566.65 <class 'float'>\n",
      "True <class 'bool'>\n"
     ]
    }
   ],
   "source": [
    "x=-3+5j\n",
    "y=3-8j\n",
    "z=566.65\n",
    "s=True\n",
    "r=x+y+z+s\n",
    "print(x,type(x))\n",
    "print(y,type(y))\n",
    "print(z,type(z))\n",
    "print(s,type(s))"
   ]
  },
  {
   "cell_type": "code",
   "execution_count": 29,
   "metadata": {},
   "outputs": [
    {
     "name": "stdout",
     "output_type": "stream",
     "text": [
      "<class 'bool'>\n"
     ]
    }
   ],
   "source": [
    "x=True\n",
    "print(type(x))"
   ]
  },
  {
   "cell_type": "code",
   "execution_count": 33,
   "metadata": {},
   "outputs": [
    {
     "name": "stdout",
     "output_type": "stream",
     "text": [
      "88477 <class 'int'>\n",
      "(-3-8j) <class 'complex'>\n",
      "464.54 <class 'float'>\n",
      "88477 (-3-8j) 464.54\n"
     ]
    }
   ],
   "source": [
    "s=88477\n",
    "d=-3-8j\n",
    "h=464.54\n",
    "print(s,type(s))\n",
    "print(d,type(d))\n",
    "print(h,type(h))\n",
    "print(s,d,h)\n"
   ]
  },
  {
   "cell_type": "code",
   "execution_count": 32,
   "metadata": {},
   "outputs": [
    {
     "name": "stdout",
     "output_type": "stream",
     "text": [
      "454543 <class 'int'>\n"
     ]
    }
   ],
   "source": [
    "q=454543\n",
    "w=43567\n",
    "print(q,type(q))"
   ]
  },
  {
   "cell_type": "code",
   "execution_count": 6,
   "metadata": {},
   "outputs": [
    {
     "name": "stdout",
     "output_type": "stream",
     "text": [
      "enter a number44445\n",
      "enter your namerajni\n",
      "44445\n",
      "rajni\n"
     ]
    }
   ],
   "source": [
    "x=input(\"enter a number\")\n",
    "y=input(\"enter your name\")\n",
    "print(x)\n",
    "print(y)"
   ]
  },
  {
   "cell_type": "code",
   "execution_count": null,
   "metadata": {},
   "outputs": [],
   "source": [
    "x=input(\"enter a number\")\n",
    "y=input"
   ]
  },
  {
   "cell_type": "code",
   "execution_count": 10,
   "metadata": {},
   "outputs": [
    {
     "name": "stdout",
     "output_type": "stream",
     "text": [
      "enter a number123\n",
      "sum of x and y is : 12310\n"
     ]
    }
   ],
   "source": [
    "x = input(\"enter a number\")\n",
    "y= \"10\"\n",
    "z = x+y\n",
    "print(\"sum of x and y is :\",z)"
   ]
  },
  {
   "cell_type": "code",
   "execution_count": 16,
   "metadata": {},
   "outputs": [
    {
     "name": "stdout",
     "output_type": "stream",
     "text": [
      " enter your school name :samnju\n",
      "school namesasa\n",
      "sanju your school name is :  samnju\n"
     ]
    }
   ],
   "source": [
    "sanju = input(\" enter your school name :\") # input(\"school name\")\n",
    "print(\"sanju your school name is : \",sanju)"
   ]
  },
  {
   "cell_type": "code",
   "execution_count": 17,
   "metadata": {},
   "outputs": [
    {
     "name": "stdout",
     "output_type": "stream",
     "text": [
      "sapna rajput\n"
     ]
    }
   ],
   "source": [
    "print(\"sapna rajput\") #print function use"
   ]
  }
 ],
 "metadata": {
  "kernelspec": {
   "display_name": "Python 3",
   "language": "python",
   "name": "python3"
  },
  "language_info": {
   "codemirror_mode": {
    "name": "ipython",
    "version": 3
   },
   "file_extension": ".py",
   "mimetype": "text/x-python",
   "name": "python",
   "nbconvert_exporter": "python",
   "pygments_lexer": "ipython3",
   "version": "3.8.3"
  }
 },
 "nbformat": 4,
 "nbformat_minor": 4
}
