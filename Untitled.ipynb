{
 "cells": [
  {
   "cell_type": "code",
   "execution_count": 3,
   "metadata": {},
   "outputs": [
    {
     "name": "stdout",
     "output_type": "stream",
     "text": [
      "enter your number sanju\n",
      " enter name codesession\n",
      "codesession\n"
     ]
    }
   ],
   "source": [
    "input(\"enter your number \")\n",
    "x = input(\" enter name \")\n",
    "print(x)"
   ]
  },
  {
   "cell_type": "code",
   "execution_count": 1,
   "metadata": {},
   "outputs": [],
   "source": [
    "# my name is sappu"
   ]
  },
  {
   "cell_type": "code",
   "execution_count": 1,
   "metadata": {},
   "outputs": [
    {
     "data": {
      "text/plain": [
       "'jkdkjdnkd\\njdksjkdjsdkjdksljlskjksdjkldsjfkjhadsh\\njdsjdsskjjfjprint'"
      ]
     },
     "execution_count": 1,
     "metadata": {},
     "output_type": "execute_result"
    }
   ],
   "source": [
    "\"\"\"jkdkjdnkd\n",
    "jdksjkdjsdkjdksljlskjksdjkldsjfkjhadsh\n",
    "jdsjdsskjjfjprint\"\"\"\n"
   ]
  },
  {
   "cell_type": "code",
   "execution_count": 1,
   "metadata": {},
   "outputs": [
    {
     "name": "stdout",
     "output_type": "stream",
     "text": [
      "apps\n"
     ]
    }
   ],
   "source": [
    "print('apps')"
   ]
  },
  {
   "cell_type": "code",
   "execution_count": 2,
   "metadata": {},
   "outputs": [
    {
     "data": {
      "text/plain": [
       "'\\nprint(\"btdfgsdgdfgdfhgdf\\nsghdfgdfgdfgfdgh\\ndf\\n\\ns\\n\\n\\nhdfg\\nhfg\\nh\\nfg\\nh\\n\\nfgh\\nfg\\njfgj\\nf'"
      ]
     },
     "execution_count": 2,
     "metadata": {},
     "output_type": "execute_result"
    }
   ],
   "source": [
    "\"\"\"\n",
    "print(\"btdfgsdgdfgdfhgdf\n",
    "sghdfgdfgdfgfdgh\n",
    "df\n",
    "\n",
    "s\n",
    "\n",
    "\n",
    "hdfg\n",
    "hfg\n",
    "h\n",
    "fg\n",
    "h\n",
    "\n",
    "fgh\n",
    "fg\n",
    "jfgj\n",
    "f\"\"\""
   ]
  },
  {
   "cell_type": "code",
   "execution_count": 4,
   "metadata": {},
   "outputs": [
    {
     "name": "stdout",
     "output_type": "stream",
     "text": [
      "100\n"
     ]
    }
   ],
   "source": [
    "a=20\n",
    "b=80\n",
    "c=80\n",
    "x=a+b\n",
    "print(x)"
   ]
  },
  {
   "cell_type": "code",
   "execution_count": 6,
   "metadata": {},
   "outputs": [
    {
     "name": "stdout",
     "output_type": "stream",
     "text": [
      "40\n"
     ]
    }
   ],
   "source": [
    "number_1=10\n",
    "number_2=30\n",
    "x=number_1+number_2\n",
    "print(x)"
   ]
  },
  {
   "cell_type": "code",
   "execution_count": 5,
   "metadata": {},
   "outputs": [
    {
     "name": "stdout",
     "output_type": "stream",
     "text": [
      "what is your name sapna rajput\n",
      "what is your school nameswami ganga bharti senior sec school\n"
     ]
    }
   ],
   "source": [
    " x=input(\"what is your name \")\n",
    "y=input(\"what is your school name\")\n",
    "print(y)"
   ]
  },
  {
   "cell_type": "code",
   "execution_count": 6,
   "metadata": {},
   "outputs": [
    {
     "name": "stdout",
     "output_type": "stream",
     "text": [
      "enter a number44445\n",
      "enter your namerajni\n",
      "44445\n",
      "rajni\n"
     ]
    }
   ],
   "source": [
    "x=input(\"enter a number\")\n",
    "y=input(\"enter your name\")\n",
    "print(x)\n",
    "print(y)"
   ]
  },
  {
   "cell_type": "code",
   "execution_count": null,
   "metadata": {},
   "outputs": [],
   "source": [
    "x=input(\"enter a number\")\n",
    "y=input"
   ]
  },
  {
   "cell_type": "code",
   "execution_count": 10,
   "metadata": {},
   "outputs": [
    {
     "name": "stdout",
     "output_type": "stream",
     "text": [
      "enter a number123\n",
      "sum of x and y is : 12310\n"
     ]
    }
   ],
   "source": [
    "x = input(\"enter a number\")\n",
    "y= \"10\"\n",
    "z = x+y\n",
    "print(\"sum of x and y is :\",z)"
   ]
  },
  {
   "cell_type": "code",
   "execution_count": 16,
   "metadata": {},
   "outputs": [
    {
     "name": "stdout",
     "output_type": "stream",
     "text": [
      " enter your school name :samnju\n",
      "school namesasa\n",
      "sanju your school name is :  samnju\n"
     ]
    }
   ],
   "source": [
    "sanju = input(\" enter your school name :\") # input(\"school name\")\n",
    "print(\"sanju your school name is : \",sanju)"
   ]
  },
  {
   "cell_type": "code",
   "execution_count": 17,
   "metadata": {},
   "outputs": [
    {
     "name": "stdout",
     "output_type": "stream",
     "text": [
      "sapna rajput\n"
     ]
    }
   ],
   "source": [
    "print(\"sapna rajput\") #print function use"
   ]
  }
 ],
 "metadata": {
  "kernelspec": {
   "display_name": "Python 3",
   "language": "python",
   "name": "python3"
  },
  "language_info": {
   "codemirror_mode": {
    "name": "ipython",
    "version": 3
   },
   "file_extension": ".py",
   "mimetype": "text/x-python",
   "name": "python",
   "nbconvert_exporter": "python",
   "pygments_lexer": "ipython3",
   "version": "3.8.3"
  }
 },
 "nbformat": 4,
 "nbformat_minor": 4
}
