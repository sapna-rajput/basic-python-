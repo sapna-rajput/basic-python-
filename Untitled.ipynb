{
 "cells": [
  {
   "cell_type": "code",
   "execution_count": 6,
   "metadata": {},
   "outputs": [
    {
     "name": "stdout",
     "output_type": "stream",
     "text": [
      "40\n"
     ]
    }
   ],
   "source": [
    "number_1=10\n",
    "number_2=30\n",
    "x=number_1+number_2\n",
    "print(x)"
   ]
  },
  {
   "cell_type": "code",
   "execution_count": 5,
   "metadata": {
    "scrolled": true
   },
   "outputs": [
    {
     "name": "stdout",
     "output_type": "stream",
     "text": [
      "what is your name sapna rajput\n",
      "what is your school nameswami ganga bharti senior sec school\n"
     ]
    }
   ],
   "source": [
    " x=input(\"what is your name \")\n",
    "y=input(\"what is your school name\")\n",
    "print(y)"
   ]
  },
  {
   "cell_type": "code",
   "execution_count": null,
   "metadata": {},
   "outputs": [],
   "source": [
    "*Data type\n",
    "(1)None\n",
    "(2)Numeric\n",
    "(3)text"
   ]
  },
  {
   "cell_type": "code",
   "execution_count": 3,
   "metadata": {},
   "outputs": [
    {
     "name": "stdout",
     "output_type": "stream",
     "text": [
      "None None\n"
     ]
    }
   ],
   "source": [
    " x=None\n",
    "y=None\n",
    "print(x ,y)"
   ]
  },
  {
   "cell_type": "code",
   "execution_count": 8,
   "metadata": {},
   "outputs": [
    {
     "name": "stdout",
     "output_type": "stream",
     "text": [
      "<class 'NoneType'>\n"
     ]
    }
   ],
   "source": [
    "x=1\n",
    "y=None\n",
    "print(type(y))"
   ]
  },
  {
   "cell_type": "code",
   "execution_count": 34,
   "metadata": {},
   "outputs": [
    {
     "name": "stdout",
     "output_type": "stream",
     "text": [
      "(4767.55+34.35j)\n",
      "4324 <class 'int'>\n"
     ]
    }
   ],
   "source": [
    "x=4324\n",
    "y=443.55\n",
    "z=34.35j\n",
    "r=x+y+z\n",
    "print(r)\n",
    "print(x,type(x))"
   ]
  },
  {
   "cell_type": "code",
   "execution_count": 35,
   "metadata": {},
   "outputs": [
    {
     "name": "stdout",
     "output_type": "stream",
     "text": [
      "hii hello world  <class 'str'>\n",
      "who is she <class 'str'>\n"
     ]
    }
   ],
   "source": [
    "x=\"hii hello world \" \n",
    "y=\"who is she\"\n",
    "print(x,type(x))\n",
    "print(y,type(y))"
   ]
  },
  {
   "cell_type": "code",
   "execution_count": 41,
   "metadata": {},
   "outputs": [
    {
     "name": "stdout",
     "output_type": "stream",
     "text": [
      "(153561.556-5j)\n",
      "77589 <class 'int'>\n",
      "75878 <class 'int'>\n",
      "49.556 <class 'float'>\n",
      "(45-5j) <class 'complex'>\n"
     ]
    }
   ],
   "source": [
    "x=77589\n",
    "y=75878\n",
    "z=49.556\n",
    "q=45-5j\n",
    "w=x+y+z+q\n",
    "print(w)\n",
    "print(x,type(x))\n",
    "print(y,type(y))\n",
    "print(z,type(z))\n",
    "print(q,type(q))"
   ]
  },
  {
   "cell_type": "code",
   "execution_count": 43,
   "metadata": {},
   "outputs": [
    {
     "name": "stdout",
     "output_type": "stream",
     "text": [
      "5876.6856 <class 'float'>\n",
      "(901106.6856-56j)\n"
     ]
    }
   ],
   "source": [
    "p=5876.6856\n",
    "q=894875\n",
    "r=355-56j\n",
    "s=p+q+r\n",
    "print(p,type(p))\n",
    "print(s)"
   ]
  },
  {
   "cell_type": "code",
   "execution_count": 46,
   "metadata": {},
   "outputs": [
    {
     "name": "stdout",
     "output_type": "stream",
     "text": [
      "(76-8j)\n",
      "True <class 'bool'>\n",
      "(75-8j) <class 'complex'>\n"
     ]
    }
   ],
   "source": [
    "s=True\n",
    "p=75-8j\n",
    "q=s+p\n",
    "print(q)\n",
    "print(s,type(s))\n",
    "print(p,type(p))"
   ]
  },
  {
   "cell_type": "code",
   "execution_count": 49,
   "metadata": {},
   "outputs": [
    {
     "name": "stdout",
     "output_type": "stream",
     "text": [
      "whotrue\n",
      "who <class 'str'>\n",
      "true <class 'str'>\n"
     ]
    }
   ],
   "source": [
    "x=\"who\"\n",
    "y='true'\n",
    "z=x+y\n",
    "print(z)\n",
    "print(x,type(x))\n",
    "print(y,type(y))\n"
   ]
  },
  {
   "cell_type": "code",
   "execution_count": 51,
   "metadata": {},
   "outputs": [
    {
     "name": "stdout",
     "output_type": "stream",
     "text": [
      "(43343.676+56j)\n",
      "43343 <class 'int'>\n",
      "45.676 <class 'float'>\n",
      "(-45+56j) <class 'complex'>\n"
     ]
    }
   ],
   "source": [
    "x=43343\n",
    "y=45.676\n",
    "z=-45+56j\n",
    "a=x+y+z\n",
    "print(a)\n",
    "print(x,type(x))\n",
    "print(y,type(y))\n",
    "print(z,type(z))"
   ]
  },
  {
   "cell_type": "code",
   "execution_count": 53,
   "metadata": {},
   "outputs": [
    {
     "name": "stdout",
     "output_type": "stream",
     "text": [
      "where are u from  i am from alwar \n",
      "where are u from  <class 'str'>\n"
     ]
    }
   ],
   "source": [
    "x=\"where are u from \" \n",
    "y=\"i am from alwar \"\n",
    "print(x,y)\n",
    "print(x,type(x))"
   ]
  },
  {
   "cell_type": "code",
   "execution_count": 56,
   "metadata": {},
   "outputs": [
    {
     "name": "stdout",
     "output_type": "stream",
     "text": [
      "sapna rajput\n"
     ]
    }
   ],
   "source": [
    "x=\"sapna\"\n",
    "y=\"rajput\"\n",
    "print(x,y)"
   ]
  },
  {
   "cell_type": "code",
   "execution_count": 57,
   "metadata": {},
   "outputs": [
    {
     "name": "stdout",
     "output_type": "stream",
     "text": [
      "python\n"
     ]
    }
   ],
   "source": [
    "x=15\n",
    "x=\"python\"\n",
    "print(x)"
   ]
  },
  {
   "cell_type": "code",
   "execution_count": 59,
   "metadata": {},
   "outputs": [
    {
     "name": "stdout",
     "output_type": "stream",
     "text": [
      "how are you/n fine\n"
     ]
    }
   ],
   "source": [
    "a=r\"how are you/n fine\"\n",
    "print(a)"
   ]
  },
  {
   "cell_type": "code",
   "execution_count": 60,
   "metadata": {},
   "outputs": [
    {
     "name": "stdout",
     "output_type": "stream",
     "text": [
      "20\n",
      "y\n"
     ]
    }
   ],
   "source": [
    "a=\"what  is  your  name\"\n",
    "print(len(a))\n",
    "print(a[10])"
   ]
  },
  {
   "cell_type": "code",
   "execution_count": null,
   "metadata": {},
   "outputs": [],
   "source": []
  },
  {
   "cell_type": "code",
   "execution_count": 12,
   "metadata": {},
   "outputs": [
    {
     "name": "stdout",
     "output_type": "stream",
     "text": [
      "55732\n"
     ]
    }
   ],
   "source": [
    "x=54653\n",
    "y=543\n",
    "z=536\n",
    "a=x+y+z\n",
    "print(a)\n"
   ]
  },
  {
   "cell_type": "code",
   "execution_count": 28,
   "metadata": {},
   "outputs": [
    {
     "name": "stdout",
     "output_type": "stream",
     "text": [
      "(-3+5j) <class 'complex'>\n",
      "(3-8j) <class 'complex'>\n",
      "566.65 <class 'float'>\n",
      "True <class 'bool'>\n"
     ]
    }
   ],
   "source": [
    "x=-3+5j\n",
    "y=3-8j\n",
    "z=566.65\n",
    "s=True\n",
    "r=x+y+z+s\n",
    "print(x,type(x))\n",
    "print(y,type(y))\n",
    "print(z,type(z))\n",
    "print(s,type(s))"
   ]
  },
  {
   "cell_type": "code",
   "execution_count": 29,
   "metadata": {},
   "outputs": [
    {
     "name": "stdout",
     "output_type": "stream",
     "text": [
      "<class 'bool'>\n"
     ]
    }
   ],
   "source": [
    "x=True\n",
    "print(type(x))"
   ]
  },
  {
   "cell_type": "code",
   "execution_count": 33,
   "metadata": {},
   "outputs": [
    {
     "name": "stdout",
     "output_type": "stream",
     "text": [
      "88477 <class 'int'>\n",
      "(-3-8j) <class 'complex'>\n",
      "464.54 <class 'float'>\n",
      "88477 (-3-8j) 464.54\n"
     ]
    }
   ],
   "source": [
    "s=88477\n",
    "d=-3-8j\n",
    "h=464.54\n",
    "print(s,type(s))\n",
    "print(d,type(d))\n",
    "print(h,type(h))\n",
    "print(s,d,h)\n"
   ]
  },
  {
   "cell_type": "code",
   "execution_count": 28,
   "metadata": {},
   "outputs": [
    {
     "name": "stdout",
     "output_type": "stream",
     "text": [
      "885.78\n",
      "<class 'bool'>\n"
     ]
    }
   ],
   "source": [
    "a=True\n",
    "b=884.78\n",
    "print(a+b)\n",
    "print(type(a))"
   ]
  },
  {
   "cell_type": "code",
   "execution_count": 32,
   "metadata": {},
   "outputs": [
    {
     "name": "stdout",
     "output_type": "stream",
     "text": [
      "454543 <class 'int'>\n"
     ]
    }
   ],
   "source": [
    "q=454543\n",
    "w=43567\n",
    "print(q,type(q))"
   ]
  },
  {
   "cell_type": "code",
   "execution_count": 6,
   "metadata": {},
   "outputs": [
    {
     "name": "stdout",
     "output_type": "stream",
     "text": [
      "enter a number44445\n",
      "enter your namerajni\n",
      "44445\n",
      "rajni\n"
     ]
    }
   ],
   "source": [
    "x=input(\"enter a number\")\n",
    "y=input(\"enter your name\")\n",
    "print(x)\n",
    "print(y)"
   ]
  },
  {
   "cell_type": "code",
   "execution_count": 29,
   "metadata": {},
   "outputs": [
    {
     "name": "stdout",
     "output_type": "stream",
     "text": [
      "enter a number87\n",
      "enter a number88\n"
     ]
    }
   ],
   "source": [
    "x=input(\"enter a number\")\n",
    "y=input(\"enter a number\")"
   ]
  },
  {
   "cell_type": "code",
   "execution_count": 10,
   "metadata": {},
   "outputs": [
    {
     "name": "stdout",
     "output_type": "stream",
     "text": [
      "enter a number123\n",
      "sum of x and y is : 12310\n"
     ]
    }
   ],
   "source": [
    "x = input(\"enter a number\")\n",
    "y= \"10\"\n",
    "z = x+y\n",
    "print(\"sum of x and y is :\",z)"
   ]
  },
  {
   "cell_type": "code",
   "execution_count": 16,
   "metadata": {},
   "outputs": [
    {
     "name": "stdout",
     "output_type": "stream",
     "text": [
      " enter your school name :samnju\n",
      "school namesasa\n",
      "sanju your school name is :  samnju\n"
     ]
    }
   ],
   "source": [
    "sanju = input(\" enter your school name :\") # input(\"school name\")\n",
    "print(\"sanju your school name is : \",sanju)"
   ]
  },
  {
   "cell_type": "markdown",
   "metadata": {},
   "source": [
    "# **string\n",
    "1)string\n",
    "2)indexing in string \n",
    "3) string mathod/function\n",
    "4)string formating"
   ]
  },
  {
   "cell_type": "code",
   "execution_count": 70,
   "metadata": {},
   "outputs": [
    {
     "name": "stdout",
     "output_type": "stream",
     "text": [
      "welcome to 'all of you'\n"
     ]
    }
   ],
   "source": [
    "\"\"\"single quotes use inside double quotes\"\"\"\n",
    "a = \"welcome to 'all of you'\"\n",
    "print(a)"
   ]
  },
  {
   "cell_type": "code",
   "execution_count": 71,
   "metadata": {},
   "outputs": [
    {
     "name": "stdout",
     "output_type": "stream",
     "text": [
      "my hobby \"is listening music\"\n"
     ]
    }
   ],
   "source": [
    "\"\"\"double quotes use inside single quotes\"\"\"\n",
    "b='my hobby \"is listening music\"'\n",
    "print(b)"
   ]
  },
  {
   "cell_type": "code",
   "execution_count": 83,
   "metadata": {},
   "outputs": [
    {
     "name": "stdout",
     "output_type": "stream",
     "text": [
      "this 'is like' drama\n"
     ]
    }
   ],
   "source": [
    "a = \"this 'is like' drama\"\n",
    "print(a)\n"
   ]
  },
  {
   "cell_type": "code",
   "execution_count": 30,
   "metadata": {},
   "outputs": [
    {
     "name": "stdout",
     "output_type": "stream",
     "text": [
      "i ike tiktok\n",
      "<class 'str'>\n"
     ]
    }
   ],
   "source": [
    "b=\"i ike tiktok\"\n",
    "print(b)\n",
    "print(type(b))"
   ]
  },
  {
   "cell_type": "code",
   "execution_count": 98,
   "metadata": {},
   "outputs": [
    {
     "name": "stdout",
     "output_type": "stream",
     "text": [
      "jkdjkjkdvkjkf\n",
      "kjfkjksjfkj\n"
     ]
    }
   ],
   "source": [
    "a= \"\"\"jkdjkjkdvkjkf\n",
    "kjfkjksjfkj\"\"\"\n",
    "print(a)"
   ]
  },
  {
   "cell_type": "markdown",
   "metadata": {},
   "source": [
    "# /n use for new line\n"
   ]
  },
  {
   "cell_type": "code",
   "execution_count": 100,
   "metadata": {},
   "outputs": [
    {
     "name": "stdout",
     "output_type": "stream",
     "text": [
      "hello world \n",
      " sapna\n"
     ]
    }
   ],
   "source": [
    "a=\"hello world \\n sapna\"\n",
    "print(a)"
   ]
  },
  {
   "cell_type": "code",
   "execution_count": 31,
   "metadata": {},
   "outputs": [
    {
     "name": "stdout",
     "output_type": "stream",
     "text": [
      "my princess name \n",
      " saanvi\n"
     ]
    }
   ],
   "source": [
    "b=\"my princess name \\n saanvi\"\n",
    "print(b)"
   ]
  },
  {
   "cell_type": "code",
   "execution_count": 34,
   "metadata": {},
   "outputs": [
    {
     "name": "stdout",
     "output_type": "stream",
     "text": [
      "my cutie \\n shanu\n"
     ]
    }
   ],
   "source": [
    "c=r\"my cutie \\n shanu\"\n",
    "print(c)"
   ]
  },
  {
   "cell_type": "code",
   "execution_count": 102,
   "metadata": {},
   "outputs": [
    {
     "name": "stdout",
     "output_type": "stream",
     "text": [
      "what are u doing now \n",
      " i am sleeping\n"
     ]
    }
   ],
   "source": [
    "a=\"what are u doing now \\n i am sleeping\"\n",
    "print(a)"
   ]
  },
  {
   "cell_type": "code",
   "execution_count": 108,
   "metadata": {},
   "outputs": [
    {
     "name": "stdout",
     "output_type": "stream",
     "text": [
      "i am soo excited \\n do u know\n"
     ]
    }
   ],
   "source": [
    "b=R\"i am soo excited \\n do u know\"\n",
    "print(b)"
   ]
  },
  {
   "cell_type": "markdown",
   "metadata": {},
   "source": [
    "# **indexing in string"
   ]
  },
  {
   "cell_type": "code",
   "execution_count": 115,
   "metadata": {},
   "outputs": [
    {
     "name": "stdout",
     "output_type": "stream",
     "text": [
      "17\n",
      "u\n",
      "a\n",
      "y\n",
      " \n",
      "p\n"
     ]
    }
   ],
   "source": [
    "a=\"how are you payal\"\n",
    "print(len(a))\n",
    "print(a[10])\n",
    "print(a[-2])\n",
    "print(a[8])\n",
    "print(a[7])\n",
    "print(a[-5])"
   ]
  },
  {
   "cell_type": "code",
   "execution_count": 41,
   "metadata": {},
   "outputs": [
    {
     "name": "stdout",
     "output_type": "stream",
     "text": [
      "radha doing some work\n",
      "21\n",
      "e\n",
      "o\n"
     ]
    }
   ],
   "source": [
    "a=\"radha doing some work\"\n",
    "print(a)\n",
    "print(len(a))\n",
    "print(a[-6])\n",
    "print(a[7])"
   ]
  },
  {
   "cell_type": "code",
   "execution_count": 124,
   "metadata": {},
   "outputs": [
    {
     "name": "stdout",
     "output_type": "stream",
     "text": [
      "34\n",
      "k\n",
      "o\n"
     ]
    }
   ],
   "source": [
    "b=\"i am doing some work can u help me\"\n",
    "print(len(b))\n",
    "print(b[-15])\n",
    "print(b[17])"
   ]
  },
  {
   "cell_type": "markdown",
   "metadata": {},
   "source": [
    "# **string mathod function "
   ]
  },
  {
   "cell_type": "code",
   "execution_count": 17,
   "metadata": {},
   "outputs": [
    {
     "name": "stdout",
     "output_type": "stream",
     "text": [
      "8\n"
     ]
    }
   ],
   "source": [
    "a=\"hi hello\"\n",
    "print(len(a))"
   ]
  },
  {
   "cell_type": "code",
   "execution_count": 42,
   "metadata": {},
   "outputs": [
    {
     "name": "stdout",
     "output_type": "stream",
     "text": [
      "20\n"
     ]
    }
   ],
   "source": [
    "a=\"hi manvi how are you\"\n",
    "print(len(a))"
   ]
  },
  {
   "cell_type": "code",
   "execution_count": 5,
   "metadata": {},
   "outputs": [
    {
     "name": "stdout",
     "output_type": "stream",
     "text": [
      "37\n",
      "t\n",
      "a\n"
     ]
    }
   ],
   "source": [
    "b='whta is the name of this type animals'\n",
    "print(len(b))\n",
    "print(b[25])\n",
    "print(b[-34])"
   ]
  },
  {
   "cell_type": "code",
   "execution_count": 133,
   "metadata": {},
   "outputs": [
    {
     "name": "stdout",
     "output_type": "stream",
     "text": [
      "hello world\n"
     ]
    }
   ],
   "source": [
    "# the lower()mathod returnes the string in lower case.\n",
    "b=\"HELLO WORLD\"\n",
    "print(b.lower())"
   ]
  },
  {
   "cell_type": "code",
   "execution_count": 6,
   "metadata": {},
   "outputs": [
    {
     "name": "stdout",
     "output_type": "stream",
     "text": [
      "<class 'str'>\n",
      "whtsapp guys how are you\n"
     ]
    }
   ],
   "source": [
    "a=\"WHTSAPP GUYS HOW ARE YOU\"\n",
    "print(type(a))\n",
    "print(a.lower())"
   ]
  },
  {
   "cell_type": "code",
   "execution_count": 134,
   "metadata": {},
   "outputs": [
    {
     "name": "stdout",
     "output_type": "stream",
     "text": [
      "i am a programmer\n"
     ]
    }
   ],
   "source": [
    "a=\"I AM A PROGRAMMER\"\n",
    "print(a.lower())"
   ]
  },
  {
   "cell_type": "code",
   "execution_count": 137,
   "metadata": {},
   "outputs": [
    {
     "name": "stdout",
     "output_type": "stream",
     "text": [
      "I WANT TO  BE A SOFTWARE DOVELOPER\n"
     ]
    }
   ],
   "source": [
    "#the upper mathod()returens the string in upper case.\n",
    "a=\"i want to  be a software doveloper\"\n",
    "print(a.upper())"
   ]
  },
  {
   "cell_type": "code",
   "execution_count": 7,
   "metadata": {},
   "outputs": [
    {
     "name": "stdout",
     "output_type": "stream",
     "text": [
      "HELLO FRNDS WHAT ARE U DOING\n"
     ]
    }
   ],
   "source": [
    "x=\"hello frnds what are u doing\"\n",
    "print(x.upper())"
   ]
  },
  {
   "cell_type": "code",
   "execution_count": null,
   "metadata": {},
   "outputs": [],
   "source": [
    "# the strip mathod()remove the any whitespace from the begining or ending the string"
   ]
  },
  {
   "cell_type": "code",
   "execution_count": 140,
   "metadata": {},
   "outputs": [
    {
     "name": "stdout",
     "output_type": "stream",
     "text": [
      "hii, hello\n"
     ]
    }
   ],
   "source": [
    "a= \"hii, hello \"\n",
    "print(a.strip())"
   ]
  },
  {
   "cell_type": "code",
   "execution_count": 8,
   "metadata": {},
   "outputs": [
    {
     "name": "stdout",
     "output_type": "stream",
     "text": [
      "hello world wide web\n"
     ]
    }
   ],
   "source": [
    "z=\"  hello world wide web  \"\n",
    "print(z.strip())"
   ]
  },
  {
   "cell_type": "code",
   "execution_count": 138,
   "metadata": {},
   "outputs": [
    {
     "name": "stdout",
     "output_type": "stream",
     "text": [
      "hello what happend\n"
     ]
    }
   ],
   "source": [
    "a=\"  hello what happend  \"\n",
    "print(a.strip())"
   ]
  },
  {
   "cell_type": "code",
   "execution_count": 9,
   "metadata": {},
   "outputs": [
    {
     "name": "stdout",
     "output_type": "stream",
     "text": [
      "mr and mrs how r you i am fine\n"
     ]
    }
   ],
   "source": [
    "y='mr and mrs how r you'\n",
    "z='i am fine'\n",
    "print(y.lstrip(),z)"
   ]
  },
  {
   "cell_type": "code",
   "execution_count": null,
   "metadata": {},
   "outputs": [],
   "source": [
    "#lstrip"
   ]
  },
  {
   "cell_type": "code",
   "execution_count": 146,
   "metadata": {},
   "outputs": [
    {
     "name": "stdout",
     "output_type": "stream",
     "text": [
      "where are u from dear ?  i am form india\n"
     ]
    }
   ],
   "source": [
    "a=\"  where are u from dear ? \"\n",
    "b= \"i am form india\"\n",
    "print(a.lstrip(),b)"
   ]
  },
  {
   "cell_type": "code",
   "execution_count": null,
   "metadata": {},
   "outputs": [],
   "source": [
    "#the rplace() mathod replace a string with another string"
   ]
  },
  {
   "cell_type": "code",
   "execution_count": 149,
   "metadata": {},
   "outputs": [
    {
     "name": "stdout",
     "output_type": "stream",
     "text": [
      "hello,city ,city,city\n"
     ]
    }
   ],
   "source": [
    "a=\"hello,world ,world,world\"\n",
    "print(a.replace(\"world\",\"city\"))"
   ]
  },
  {
   "cell_type": "code",
   "execution_count": 12,
   "metadata": {},
   "outputs": [
    {
     "name": "stdout",
     "output_type": "stream",
     "text": [
      "chemistry based on the latest syllabus\n"
     ]
    }
   ],
   "source": [
    "b=\"math based on the latest syllabus\"\n",
    "print(b.replace(\"math\",\"chemistry\"))"
   ]
  },
  {
   "cell_type": "code",
   "execution_count": 14,
   "metadata": {},
   "outputs": [
    {
     "name": "stdout",
     "output_type": "stream",
     "text": [
      "sapna frnds name abhi mithu abhi\n"
     ]
    }
   ],
   "source": [
    "s=\"sapna frnds name abhi mithu poonm\"\n",
    "print(s.replace(\"poonm\",\"abhi\"))"
   ]
  },
  {
   "cell_type": "code",
   "execution_count": 152,
   "metadata": {},
   "outputs": [
    {
     "name": "stdout",
     "output_type": "stream",
     "text": [
      "my name is sapana, smyra, sappu ,sappu\n"
     ]
    }
   ],
   "source": [
    "b=\"my name is smayra, smyra, sappu ,sappu\"\n",
    "print(b.replace(\"smayra\",\"sapana\"))"
   ]
  },
  {
   "cell_type": "code",
   "execution_count": null,
   "metadata": {},
   "outputs": [],
   "source": [
    "#split =the mathod split is the string into substring if it finds"
   ]
  },
  {
   "cell_type": "code",
   "execution_count": 153,
   "metadata": {},
   "outputs": [
    {
     "name": "stdout",
     "output_type": "stream",
     "text": [
      "['he', '', 'o ,wor', 'd ']\n"
     ]
    }
   ],
   "source": [
    "a=\"hello ,world \"\n",
    "b=a.split(\"l\")\n",
    "print(b)"
   ]
  },
  {
   "cell_type": "code",
   "execution_count": 19,
   "metadata": {},
   "outputs": [
    {
     "name": "stdout",
     "output_type": "stream",
     "text": [
      "['', 'bhi ', 'nd ', 'nit', '']\n"
     ]
    }
   ],
   "source": [
    "x=\"abhi and anita\"\n",
    "y=x.split('a')\n",
    "print(y)"
   ]
  },
  {
   "cell_type": "code",
   "execution_count": 22,
   "metadata": {},
   "outputs": [
    {
     "name": "stdout",
     "output_type": "stream",
     "text": [
      "Mister india\n"
     ]
    }
   ],
   "source": [
    "a=\"mister india\"\n",
    "print(a.capitalize())"
   ]
  },
  {
   "cell_type": "code",
   "execution_count": 154,
   "metadata": {},
   "outputs": [
    {
     "name": "stdout",
     "output_type": "stream",
     "text": [
      "['my n', 'me is s', 'pn', '']\n"
     ]
    }
   ],
   "source": [
    "name=\"my name is sapna\"\n",
    "age=name.split(\"a\")\n",
    "print(age)"
   ]
  },
  {
   "cell_type": "code",
   "execution_count": null,
   "metadata": {},
   "outputs": [],
   "source": [
    "#capitalize"
   ]
  },
  {
   "cell_type": "code",
   "execution_count": 15,
   "metadata": {},
   "outputs": [
    {
     "name": "stdout",
     "output_type": "stream",
     "text": [
      "Hello gyus\n"
     ]
    }
   ],
   "source": [
    "a = 'hello gyus' \n",
    "print(a.capitalize())"
   ]
  },
  {
   "cell_type": "code",
   "execution_count": 27,
   "metadata": {},
   "outputs": [
    {
     "name": "stdout",
     "output_type": "stream",
     "text": [
      "my name is\"sapna and what\"is your name\n"
     ]
    }
   ],
   "source": [
    "a=\"\"\"my name is\"sapna and what\"is your name\"\"\"\n",
    "print(a)"
   ]
  },
  {
   "cell_type": "code",
   "execution_count": 31,
   "metadata": {},
   "outputs": [
    {
     "name": "stdout",
     "output_type": "stream",
     "text": [
      "hello world \n",
      " sapna\n"
     ]
    }
   ],
   "source": [
    "a=\"hello world \\n sapna\"\n",
    "print(a)"
   ]
  },
  {
   "cell_type": "code",
   "execution_count": 29,
   "metadata": {},
   "outputs": [
    {
     "name": "stdout",
     "output_type": "stream",
     "text": [
      "what are you doing\\n dancing\n"
     ]
    }
   ],
   "source": [
    "b=r\"what are you doing\\n dancing\"\n",
    "print(b)"
   ]
  },
  {
   "cell_type": "code",
   "execution_count": 34,
   "metadata": {},
   "outputs": [
    {
     "name": "stdout",
     "output_type": "stream",
     "text": [
      "29\n",
      "o\n"
     ]
    }
   ],
   "source": [
    "a=\"hello sapna what is your name\"\n",
    "print(len(a))\n",
    "print(a[-8])"
   ]
  },
  {
   "cell_type": "code",
   "execution_count": 35,
   "metadata": {},
   "outputs": [
    {
     "name": "stdout",
     "output_type": "stream",
     "text": [
      "WHAT IS THIS\n"
     ]
    }
   ],
   "source": [
    "a=\"what is this\"\n",
    "print(a.upper())"
   ]
  },
  {
   "cell_type": "code",
   "execution_count": 36,
   "metadata": {},
   "outputs": [
    {
     "name": "stdout",
     "output_type": "stream",
     "text": [
      "hello sappu \n"
     ]
    }
   ],
   "source": [
    "a=\"HELLO SAPPU \"\n",
    "print(a.lower())"
   ]
  },
  {
   "cell_type": "code",
   "execution_count": 37,
   "metadata": {},
   "outputs": [
    {
     "name": "stdout",
     "output_type": "stream",
     "text": [
      "what are you saying\n"
     ]
    }
   ],
   "source": [
    "a=\" what are you saying   \"\n",
    "print(a.strip())"
   ]
  },
  {
   "cell_type": "code",
   "execution_count": 38,
   "metadata": {},
   "outputs": [
    {
     "name": "stdout",
     "output_type": "stream",
     "text": [
      "what is name my name is pappu\n"
     ]
    }
   ],
   "source": [
    "a=\"what is name\"\n",
    "b=\"my name is pappu\"\n",
    "print(a.lstrip(),b)"
   ]
  },
  {
   "cell_type": "code",
   "execution_count": 40,
   "metadata": {},
   "outputs": [
    {
     "name": "stdout",
     "output_type": "stream",
     "text": [
      "hello,whole,sappu,sappu,whole\n"
     ]
    }
   ],
   "source": [
    "a=\"hello,whole,well,well,whole\"\n",
    "print(a.replace(\"well\",\"sappu\"))"
   ]
  },
  {
   "cell_type": "code",
   "execution_count": 41,
   "metadata": {},
   "outputs": [
    {
     "name": "stdout",
     "output_type": "stream",
     "text": [
      "['hii g', '', 'd']\n"
     ]
    }
   ],
   "source": [
    "a=\"hii good\"\n",
    "b=a.split(\"o\")\n",
    "print(b)"
   ]
  },
  {
   "cell_type": "code",
   "execution_count": 42,
   "metadata": {},
   "outputs": [
    {
     "name": "stdout",
     "output_type": "stream",
     "text": [
      "Here come\n"
     ]
    }
   ],
   "source": [
    "a=\"here come\"\n",
    "print(a.capitalize())"
   ]
  },
  {
   "cell_type": "code",
   "execution_count": 46,
   "metadata": {},
   "outputs": [
    {
     "name": "stdout",
     "output_type": "stream",
     "text": [
      "what,which\n"
     ]
    }
   ],
   "source": [
    "a=\"what,which\"\n",
    "print(a.strip())"
   ]
  },
  {
   "cell_type": "markdown",
   "metadata": {},
   "source": [
    "# **string formating"
   ]
  },
  {
   "cell_type": "code",
   "execution_count": 32,
   "metadata": {},
   "outputs": [
    {
     "name": "stdout",
     "output_type": "stream",
     "text": [
      "10\n",
      "4\n",
      "my age is 6\n",
      "my age is ,6 ,10\n",
      "this article a is written in hi 4 \n"
     ]
    }
   ],
   "source": [
    "a=int(input(''))\n",
    "b=int(input(''))\n",
    "print('my age is',a-b )\n",
    "print(f'my age is ,{a-b} ,{a}') \n",
    "\n",
    "x=\"this article {1} is written in {0} {2} \"\n",
    "print(x.format(\"hi\",\"a\",b))"
   ]
  },
  {
   "cell_type": "code",
   "execution_count": 51,
   "metadata": {},
   "outputs": [
    {
     "name": "stdout",
     "output_type": "stream",
     "text": [
      "i am 34.300000 from codesession academy 12\n",
      "hi (13-9j) how r you\n"
     ]
    }
   ],
   "source": [
    "a=13-9j\n",
    "print('i am %f from codesession academy' % 34.3,12)\n",
    "print('hi',a,'how r you')"
   ]
  },
  {
   "cell_type": "code",
   "execution_count": 80,
   "metadata": {},
   "outputs": [
    {
     "name": "stdout",
     "output_type": "stream",
     "text": [
      "i am sapna from alwar 12.0000\n"
     ]
    }
   ],
   "source": [
    "print(\"i am %s from %s %.4f\" %(\"sapna\",\"alwar\",12))"
   ]
  },
  {
   "cell_type": "code",
   "execution_count": 24,
   "metadata": {},
   "outputs": [
    {
     "name": "stdout",
     "output_type": "stream",
     "text": [
      "enter your namesapna\n",
      "my name is sapna\n",
      "my name is,sapna\n"
     ]
    }
   ],
   "source": [
    "a=input(\"enter your name\")\n",
    "print(\"my name is\",a)\n",
    "print(f\"my name is,{a}\")"
   ]
  },
  {
   "cell_type": "code",
   "execution_count": 26,
   "metadata": {},
   "outputs": [
    {
     "name": "stdout",
     "output_type": "stream",
     "text": [
      "sunita write some word in own diary with pen\n"
     ]
    }
   ],
   "source": [
    "a=\"sunita write {} word in {} diary with {}\"\n",
    "print(a.format(\"some\",\"own\",\"pen\"))"
   ]
  },
  {
   "cell_type": "code",
   "execution_count": 33,
   "metadata": {},
   "outputs": [
    {
     "name": "stdout",
     "output_type": "stream",
     "text": [
      "somthing is going wrongcreating\n",
      "it is no possible creating\n"
     ]
    }
   ],
   "source": [
    "a= input(\"somthing is going wrong\")\n",
    "print(\"it is no possible\",a)"
   ]
  },
  {
   "cell_type": "code",
   "execution_count": 54,
   "metadata": {},
   "outputs": [
    {
     "name": "stdout",
     "output_type": "stream",
     "text": [
      " 4784\n",
      " 22\n",
      "my  number is  4762\n",
      "my number is {22}\n"
     ]
    }
   ],
   "source": [
    "a=int(input(\" \"))\n",
    "b=int(input(\" \"))\n",
    "print('my  number is ', a-b  )\n",
    "print(f'my number is', {b} )\n"
   ]
  },
  {
   "cell_type": "code",
   "execution_count": 2,
   "metadata": {},
   "outputs": [
    {
     "name": "stdout",
     "output_type": "stream",
     "text": [
      "accourding to hii my way that hello is not good sapna\n"
     ]
    }
   ],
   "source": [
    "\n",
    "x=\"accourding to {1} my way that {2} is not good {0}\"\n",
    "print(x.format(\"sapna\",\"hii\",\"hello\"))"
   ]
  },
  {
   "cell_type": "code",
   "execution_count": 17,
   "metadata": {},
   "outputs": [
    {
     "name": "stdout",
     "output_type": "stream",
     "text": [
      "i am (4343+9999j) 2.10.550000 from codesession acadmay in\n"
     ]
    }
   ],
   "source": [
    "\n",
    "print('i am %s 2.%f from codesession %s in'%(4343+9999j,10.55,\"acadmay\"))\n"
   ]
  },
  {
   "cell_type": "code",
   "execution_count": 29,
   "metadata": {},
   "outputs": [
    {
     "name": "stdout",
     "output_type": "stream",
     "text": [
      "<class 'int'>\n",
      "i mean 3,7636764398.000000 to like a puzzle for my choise\n",
      "this 879498 like a numbe\n"
     ]
    }
   ],
   "source": [
    "a=879498\n",
    "print(type(a))\n",
    "print(\"i mean 3,%f to like a %s for my choise\" %(7636764398,\"puzzle\"))\n",
    "print(\"this\", a, \"like a numbe\")"
   ]
  },
  {
   "cell_type": "code",
   "execution_count": 39,
   "metadata": {},
   "outputs": [
    {
     "name": "stdout",
     "output_type": "stream",
     "text": [
      "i am sapna from codesession and start 344 just 34\n"
     ]
    }
   ],
   "source": [
    "x,y,z,w = \"sapna\" ,\"codesession\" ,\"344\",\"34\"\n",
    "print('i am %s from %s and start %s just %s'%(x,y,z,w))"
   ]
  },
  {
   "cell_type": "code",
   "execution_count": 45,
   "metadata": {},
   "outputs": [
    {
     "name": "stdout",
     "output_type": "stream",
     "text": [
      "hi welcome to my hotel (545-4343j) thnks\n"
     ]
    }
   ],
   "source": [
    "a=\"welcome to my hotel\"\n",
    "b=545-4343j\n",
    "print(\"hi\",a,b,\"thnks\")"
   ]
  },
  {
   "cell_type": "code",
   "execution_count": 50,
   "metadata": {},
   "outputs": [
    {
     "name": "stdout",
     "output_type": "stream",
     "text": [
      "my work is codewrite\n",
      "my name is sapna\n"
     ]
    }
   ],
   "source": [
    "print('my work is %s' %'codewrite')\n",
    "print('my name is %s' %  'sapna')"
   ]
  },
  {
   "cell_type": "code",
   "execution_count": 52,
   "metadata": {},
   "outputs": [
    {
     "name": "stdout",
     "output_type": "stream",
     "text": [
      "<class 'int'>\n",
      "i wrote 34.000000 book today.\n",
      "i wrote 4.000000 poem today.\n"
     ]
    }
   ],
   "source": [
    "a=34\n",
    "print(type(a))\n",
    "print('i wrote %f book today.' %a)\n",
    "print('i wrote %f poem today.' %4)\n"
   ]
  },
  {
   "cell_type": "code",
   "execution_count": 60,
   "metadata": {},
   "outputs": [
    {
     "name": "stdout",
     "output_type": "stream",
     "text": [
      "my name is sapna rajput new and she likesand with singing singing\n"
     ]
    }
   ],
   "source": [
    "x=\"my name is sapna rajput {2} and she likes{0} with {1} singing\"\n",
    "print(x.format(\"and\",\"singing\",\"new\" ))"
   ]
  },
  {
   "cell_type": "code",
   "execution_count": 2,
   "metadata": {},
   "outputs": [
    {
     "name": "stdout",
     "output_type": "stream",
     "text": [
      "enter 1st number857498\n",
      "enter 2nd number433\n",
      "my 1st number is 857498\n"
     ]
    }
   ],
   "source": [
    "x=input(\"enter 1st number\")\n",
    "y=input(\"enter 2nd number\")\n",
    "print('my 1st number is',x)\n"
   ]
  },
  {
   "cell_type": "code",
   "execution_count": 9,
   "metadata": {},
   "outputs": [
    {
     "name": "stdout",
     "output_type": "stream",
     "text": [
      "748\n",
      "332\n",
      "my age is 332\n",
      "my age is 416\n",
      "my age is,748,433\n"
     ]
    }
   ],
   "source": [
    "x=int(input(''))\n",
    "a=int(input(''))\n",
    "print('my age is',a)\n",
    "print('my age is',x-a)\n",
    "print(f\"my age is,{x},{y}\")"
   ]
  },
  {
   "cell_type": "code",
   "execution_count": 11,
   "metadata": {},
   "outputs": [
    {
     "name": "stdout",
     "output_type": "stream",
     "text": [
      "my favourit pink is because i love this 10\n"
     ]
    }
   ],
   "source": [
    "print('my favourit %s is %s i love this %s'%('pink','because',10))"
   ]
  },
  {
   "cell_type": "code",
   "execution_count": 27,
   "metadata": {},
   "outputs": [
    {
     "name": "stdout",
     "output_type": "stream",
     "text": [
      "my number 4333333333 this is 34.440000 like\n"
     ]
    }
   ],
   "source": [
    "print('my number %s this is %f like'%(4333333333,34.44))"
   ]
  },
  {
   "cell_type": "code",
   "execution_count": 33,
   "metadata": {},
   "outputs": [
    {
     "name": "stdout",
     "output_type": "stream",
     "text": [
      "my no 289.000000 uhfd 43.430000  hfdjhfkjd (43-8j) kjkdfjk jkkjkj try\n"
     ]
    }
   ],
   "source": [
    "a,b,c,d =289,43.43,43-8j,\"try\"\n",
    "print('my no %f uhfd %f  hfdjhfkjd %s kjkdfjk jkkjkj %s'%(a,b,c,d))"
   ]
  },
  {
   "cell_type": "code",
   "execution_count": 45,
   "metadata": {},
   "outputs": [
    {
     "name": "stdout",
     "output_type": "stream",
     "text": [
      "my copy 32 mentain.\n"
     ]
    }
   ],
   "source": [
    "print('my copy %i mentain.' % 32.44)"
   ]
  },
  {
   "cell_type": "markdown",
   "metadata": {},
   "source": [
    "# casting\n"
   ]
  },
  {
   "cell_type": "code",
   "execution_count": 41,
   "metadata": {},
   "outputs": [
    {
     "name": "stdout",
     "output_type": "stream",
     "text": [
      "66\n"
     ]
    }
   ],
   "source": [
    "a=10\n",
    "b=56\n",
    "c=a+b\n",
    "print(c)"
   ]
  },
  {
   "cell_type": "code",
   "execution_count": 12,
   "metadata": {},
   "outputs": [
    {
     "name": "stdout",
     "output_type": "stream",
     "text": [
      "enter a number5556\n",
      "5556\n",
      "5556.0\n",
      "5556\n"
     ]
    }
   ],
   "source": [
    "a=input(\"enter a number\")\n",
    "b=int(a)\n",
    "c=float(b)\n",
    "print(a)\n",
    "print(c)\n",
    "print(b)"
   ]
  },
  {
   "cell_type": "code",
   "execution_count": 1,
   "metadata": {},
   "outputs": [
    {
     "name": "stdout",
     "output_type": "stream",
     "text": [
      "enter a number34\n",
      "(34+0j)\n",
      "34.0\n",
      "(34+0j)\n"
     ]
    }
   ],
   "source": [
    "a=input(\"enter a number\")\n",
    "b=complex(a)\n",
    "print(b)\n",
    "c=float(a)\n",
    "print(c)\n",
    "d=complex(c)\n",
    "print(d)"
   ]
  },
  {
   "cell_type": "code",
   "execution_count": 15,
   "metadata": {},
   "outputs": [
    {
     "name": "stdout",
     "output_type": "stream",
     "text": [
      "enter  1st number4\n",
      "4.0\n",
      "4\n"
     ]
    }
   ],
   "source": [
    "x=input(\"enter  1st number\")\n",
    "y=float(x)\n",
    "z=int(y)\n",
    "print(y)\n",
    "print(z)"
   ]
  },
  {
   "cell_type": "code",
   "execution_count": 3,
   "metadata": {},
   "outputs": [
    {
     "name": "stdout",
     "output_type": "stream",
     "text": [
      "2\n",
      "3\n",
      "4\n"
     ]
    }
   ],
   "source": [
    "x=int(2)      #integer casting-int() \n",
    "y=int(4.5)\n",
    "z=int(3.5)    #can't convert complex to int\n",
    "print(x)    #can't convert complex to flot\n",
    "print(z)\n",
    "print(y)"
   ]
  },
  {
   "cell_type": "code",
   "execution_count": 23,
   "metadata": {},
   "outputs": [
    {
     "name": "stdout",
     "output_type": "stream",
     "text": [
      "32\n",
      "(45+5j)\n"
     ]
    }
   ],
   "source": [
    "a=32.45\n",
    "b=45+5j\n",
    "c=int(a)\n",
    "print(c)\n",
    "print(b)"
   ]
  },
  {
   "cell_type": "code",
   "execution_count": 32,
   "metadata": {},
   "outputs": [
    {
     "name": "stdout",
     "output_type": "stream",
     "text": [
      "-34.0\n",
      "44.3\n",
      "53.0\n",
      "34.34\n",
      "<class 'float'> <class 'float'>\n"
     ]
    }
   ],
   "source": [
    "a=float(53)\n",
    "b=float(\"34.34\")      #float casting-float()\n",
    "c=float(44.3)\n",
    "d=float(-34)\n",
    "print(d)\n",
    "print(c)\n",
    "print(a)\n",
    "print(b)\n",
    "print(type(a),type(b),)"
   ]
  },
  {
   "cell_type": "code",
   "execution_count": 1,
   "metadata": {},
   "outputs": [
    {
     "name": "stdout",
     "output_type": "stream",
     "text": [
      "a,'\\n',b,'\\n',c,'\\n',d\n",
      "<class 'str'> <class 'str'> <class 'str'> <class 'str'>\n"
     ]
    }
   ],
   "source": [
    "a=(\"43.34\")\n",
    "b=(\"-43\")\n",
    "c=(\"435\")                  #########ask a question\n",
    "d=(\"5\")\n",
    "print( r\"a,'\\n',b,'\\n',c,'\\n',d\")\n",
    "print(type(a),type(b),type(c),type(d))"
   ]
  },
  {
   "cell_type": "code",
   "execution_count": 40,
   "metadata": {},
   "outputs": [
    {
     "name": "stdout",
     "output_type": "stream",
     "text": [
      "455555555\n",
      "34.43\n",
      "44-4j\n",
      "4355\n",
      "<class 'str'> <class 'str'> <class 'str'> <class 'str'>\n"
     ]
    }
   ],
   "source": [
    "a=str(\"455555555\")\n",
    "b=str(\"34.43\")\n",
    "c=str(\"44-4j\")\n",
    "d=str(\"4355\")\n",
    "print(a)\n",
    "print(b)\n",
    "print(c)\n",
    "print(d)\n",
    "print(type(a),type(b),type(c),type(d))\n"
   ]
  },
  {
   "cell_type": "markdown",
   "metadata": {},
   "source": [
    "# operation"
   ]
  },
  {
   "cell_type": "code",
   "execution_count": 51,
   "metadata": {},
   "outputs": [
    {
     "name": "stdout",
     "output_type": "stream",
     "text": [
      "enter your first number : 10\n",
      "enter your second number : 20\n",
      "sum of 10 or 20 is = 30\n",
      "sub of 10 or 20 is = -10\n",
      " division of 10 or 20 is =0.5\n",
      " module of 10 or 20 is = 10\n",
      "exponentitation 10 or 20 is = 100000000000000000000\n"
     ]
    }
   ],
   "source": [
    "# + addition        x+y\n",
    "# - subtraction     x-y\n",
    "# * multiplication  x*y\n",
    "# / division        x/y\n",
    "# % modules         x%y\n",
    "# ** exponentitation x**y\n",
    "# // floor division  x//y\n",
    "\n",
    "number_1 = input(\"enter your first number : \")\n",
    "number_2 = input(\"enter your second number : \")\n",
    "a =int(number_1)\n",
    "b = int(number_2)\n",
    "c = a+b\n",
    "d = a-b\n",
    "f =a/b\n",
    "g=a%b\n",
    "h=a**b\n",
    "print(f\"sum of {a} or {b} is = {c}\")\n",
    "print(f\"sub of {a} or {b} is = {d}\")\n",
    "print(f\" division of {a} or {b} is ={f}\")\n",
    "print(f\" module of {a} or {b} is = {g}\")\n",
    "print(f\"exponentitation {a} or {b} is = {h}\")"
   ]
  },
  {
   "cell_type": "code",
   "execution_count": 8,
   "metadata": {},
   "outputs": [
    {
     "name": "stdout",
     "output_type": "stream",
     "text": [
      "enter a number5\n",
      "enter number10\n",
      "sum of 2 or 3=5\n",
      "sub of 2 or 3=-1\n"
     ]
    }
   ],
   "source": [
    "a=int(input(\"enter a number\"))\n",
    "b=int(input(\"enter number\"))\n",
    "a=2\n",
    "b=3\n",
    "c=a+b\n",
    "d=a-b\n",
    "e=a*b\n",
    "f=a/b\n",
    "g=a**b\n",
    "h=a//b\n",
    "i=a%b\n",
    "print(f\"sum of {a} or {b}={c}\")\n",
    "print(f\"sub of {a} or {b}={d}\")"
   ]
  },
  {
   "cell_type": "markdown",
   "metadata": {},
   "source": [
    "# b. python assignment operators\n",
    "assigment operators are used to assign value to vribles"
   ]
  },
  {
   "cell_type": "code",
   "execution_count": 31,
   "metadata": {},
   "outputs": [
    {
     "name": "stdout",
     "output_type": "stream",
     "text": [
      "my number is, 45.4, (56-8j)\n"
     ]
    }
   ],
   "source": [
    "num=45.4\n",
    "name=56-8j\n",
    "print(f'my number is, {num}, {name}')"
   ]
  },
  {
   "cell_type": "code",
   "execution_count": 48,
   "metadata": {
    "scrolled": true
   },
   "outputs": [
    {
     "name": "stdout",
     "output_type": "stream",
     "text": [
      "my name is sapna,my number is 8889\n"
     ]
    },
    {
     "data": {
      "text/plain": [
       "3"
      ]
     },
     "execution_count": 48,
     "metadata": {},
     "output_type": "execute_result"
    }
   ],
   "source": [
    "x=\"sapna\"\n",
    "y=8889\n",
    "print(f\"my name is {x},my number is {y}\")"
   ]
  },
  {
   "cell_type": "code",
   "execution_count": 36,
   "metadata": {},
   "outputs": [
    {
     "name": "stdout",
     "output_type": "stream",
     "text": [
      "my age is 355.32\n",
      "my age is -291.32\n"
     ]
    }
   ],
   "source": [
    "x=32\n",
    "y=323.32\n",
    "print(f\"my age is {x+y}\")\n",
    "print(f\"my age is {x-y}\")"
   ]
  },
  {
   "cell_type": "code",
   "execution_count": 37,
   "metadata": {},
   "outputs": [
    {
     "name": "stdout",
     "output_type": "stream",
     "text": [
      " my name is sapna rajput\n"
     ]
    }
   ],
   "source": [
    "a=\"sapna\"\n",
    "b=\"rajput\"\n",
    "print(f\" my name is {a} {b}\")"
   ]
  },
  {
   "cell_type": "markdown",
   "metadata": {},
   "source": [
    "# c.python comparison operators\n",
    "comparison operators are used to compare two value:"
   ]
  },
  {
   "cell_type": "code",
   "execution_count": 39,
   "metadata": {},
   "outputs": [
    {
     "name": "stdout",
     "output_type": "stream",
     "text": [
      "False\n",
      "True\n",
      "False\n",
      "True\n",
      "False\n"
     ]
    }
   ],
   "source": [
    "a=45\n",
    "b=67\n",
    "print(a==b)\n",
    "print(a!=b)\n",
    "print(a>=b)\n",
    "print(b>=a)\n",
    "print(b<=a)"
   ]
  },
  {
   "cell_type": "code",
   "execution_count": 40,
   "metadata": {},
   "outputs": [
    {
     "name": "stdout",
     "output_type": "stream",
     "text": [
      "True\n",
      "False\n",
      "False\n"
     ]
    }
   ],
   "source": [
    "a=45\n",
    "b=45\n",
    "print(a==b)\n",
    "print(a!=b)\n",
    "print(a>b)"
   ]
  },
  {
   "cell_type": "code",
   "execution_count": 1,
   "metadata": {},
   "outputs": [
    {
     "name": "stdout",
     "output_type": "stream",
     "text": [
      "True\n",
      "False\n",
      "True\n",
      "True\n",
      "True\n",
      "True\n"
     ]
    }
   ],
   "source": [
    "a=43\n",
    "b=43\n",
    "print(a==b)\n",
    "print(a!=b)\n",
    "print(a>=b)\n",
    "print(b>=a)\n",
    "print(a<=b)\n",
    "print(b>=a)"
   ]
  },
  {
   "cell_type": "code",
   "execution_count": null,
   "metadata": {},
   "outputs": [],
   "source": [
    "==  equal                     x==y\n",
    "!   not Equal                 x!=y\n",
    ">   greater than              x>y\n",
    "<   less than                 x<y\n",
    ">=  greater than or equal to  x>=y\n",
    "<=  less than or equal to     x<=y\n"
   ]
  },
  {
   "cell_type": "markdown",
   "metadata": {},
   "source": [
    "# python logical operators\n",
    "\n",
    " logical operater are used to combine condition statemantes "
   ]
  },
  {
   "cell_type": "code",
   "execution_count": null,
   "metadata": {},
   "outputs": [],
   "source": [
    "and  Returnes true if both statementes are true\n",
    "or   returnes true if one of the statementes is true\n",
    "not   reverse the result, returnes false if the result is true"
   ]
  },
  {
   "cell_type": "code",
   "execution_count": 17,
   "metadata": {},
   "outputs": [
    {
     "name": "stdout",
     "output_type": "stream",
     "text": [
      "False\n"
     ]
    }
   ],
   "source": [
    "a=23\n",
    "b=34\n",
    "c=67\n",
    "print(a>b and b<a)"
   ]
  },
  {
   "cell_type": "code",
   "execution_count": 36,
   "metadata": {},
   "outputs": [
    {
     "name": "stdout",
     "output_type": "stream",
     "text": [
      "True\n"
     ]
    }
   ],
   "source": [
    "a=34\n",
    "b=45\n",
    "c=23\n",
    "print(a<b and b>a)"
   ]
  },
  {
   "cell_type": "code",
   "execution_count": 37,
   "metadata": {},
   "outputs": [
    {
     "name": "stdout",
     "output_type": "stream",
     "text": [
      "False\n"
     ]
    }
   ],
   "source": [
    "a=34\n",
    "b=32\n",
    "c=22\n",
    "print(a>b and b<c)"
   ]
  },
  {
   "cell_type": "code",
   "execution_count": 13,
   "metadata": {},
   "outputs": [
    {
     "name": "stdout",
     "output_type": "stream",
     "text": [
      "True\n"
     ]
    }
   ],
   "source": [
    "x=78\n",
    "y=33\n",
    "z=34\n",
    "print(not(x<y and z<y ))"
   ]
  },
  {
   "cell_type": "code",
   "execution_count": 38,
   "metadata": {},
   "outputs": [
    {
     "name": "stdout",
     "output_type": "stream",
     "text": [
      "False\n"
     ]
    }
   ],
   "source": [
    "x=23\n",
    "y=45\n",
    "z=36\n",
    "print(not(y>x and x<z))"
   ]
  },
  {
   "cell_type": "code",
   "execution_count": 39,
   "metadata": {},
   "outputs": [
    {
     "name": "stdout",
     "output_type": "stream",
     "text": [
      "True\n"
     ]
    }
   ],
   "source": [
    "x=45\n",
    "y=67\n",
    "z=12\n",
    "print(not(x>z and y<z))"
   ]
  },
  {
   "cell_type": "markdown",
   "metadata": {},
   "source": [
    "# logical or operation"
   ]
  },
  {
   "cell_type": "code",
   "execution_count": 6,
   "metadata": {},
   "outputs": [
    {
     "name": "stdout",
     "output_type": "stream",
     "text": [
      "True\n"
     ]
    }
   ],
   "source": [
    "a=34\n",
    "b=22\n",
    "c=35\n",
    "print(a<c or b<a)"
   ]
  },
  {
   "cell_type": "code",
   "execution_count": 14,
   "metadata": {},
   "outputs": [
    {
     "name": "stdout",
     "output_type": "stream",
     "text": [
      "False\n"
     ]
    }
   ],
   "source": [
    "a=34\n",
    "b=45\n",
    "c=33\n",
    "print(b<a or a<c)"
   ]
  },
  {
   "cell_type": "code",
   "execution_count": 40,
   "metadata": {},
   "outputs": [
    {
     "name": "stdout",
     "output_type": "stream",
     "text": [
      "True\n"
     ]
    }
   ],
   "source": [
    "a=32\n",
    "b=19\n",
    "c=34\n",
    "print(a>b or c<b)"
   ]
  },
  {
   "cell_type": "code",
   "execution_count": 41,
   "metadata": {},
   "outputs": [
    {
     "name": "stdout",
     "output_type": "stream",
     "text": [
      "False\n"
     ]
    }
   ],
   "source": [
    "a=34\n",
    "b=90\n",
    "c=12\n",
    "print(not(a>c or b<c))"
   ]
  },
  {
   "cell_type": "code",
   "execution_count": 16,
   "metadata": {},
   "outputs": [
    {
     "name": "stdout",
     "output_type": "stream",
     "text": [
      "False\n"
     ]
    }
   ],
   "source": [
    "a=34\n",
    "b=3\n",
    "c=42\n",
    "print(not(a>b or c<a))"
   ]
  },
  {
   "cell_type": "code",
   "execution_count": 9,
   "metadata": {},
   "outputs": [
    {
     "name": "stdout",
     "output_type": "stream",
     "text": [
      "True\n"
     ]
    }
   ],
   "source": [
    "a=45\n",
    "b=23\n",
    "c=67\n",
    "print(not(a<b or b>a))"
   ]
  },
  {
   "cell_type": "code",
   "execution_count": 10,
   "metadata": {},
   "outputs": [
    {
     "name": "stdout",
     "output_type": "stream",
     "text": [
      "False\n"
     ]
    }
   ],
   "source": [
    "a=67\n",
    "b=34\n",
    "c=23\n",
    "print(not(a>b or b>c))"
   ]
  },
  {
   "cell_type": "code",
   "execution_count": 35,
   "metadata": {},
   "outputs": [
    {
     "name": "stdout",
     "output_type": "stream",
     "text": [
      "False\n"
     ]
    }
   ],
   "source": [
    "a=18\n",
    "b=18\n",
    "c=10\n",
    "print(a>b or b>a)"
   ]
  },
  {
   "cell_type": "markdown",
   "metadata": {},
   "source": [
    "# python identity operators"
   ]
  },
  {
   "cell_type": "code",
   "execution_count": null,
   "metadata": {},
   "outputs": [],
   "source": [
    "idenity operations are used to compare the obeject,not if they are actually\n",
    "the same object,with the same memory location:"
   ]
  },
  {
   "cell_type": "code",
   "execution_count": 42,
   "metadata": {},
   "outputs": [
    {
     "name": "stdout",
     "output_type": "stream",
     "text": [
      "True\n",
      "True\n"
     ]
    }
   ],
   "source": [
    "'''is     return true if both veriable are not the same object  x is y '''\n",
    "x=44\n",
    "y=44\n",
    "print(x is y)\n",
    "\n",
    "''' is not    return the if both veriablr are not the same object x is not y'''\n",
    "x=43\n",
    "y=45\n",
    "print(x is not y)\n"
   ]
  },
  {
   "cell_type": "code",
   "execution_count": 15,
   "metadata": {},
   "outputs": [
    {
     "name": "stdout",
     "output_type": "stream",
     "text": [
      "False\n",
      " id x  : 1930528224\n",
      " id  y  : 91341792\n",
      "id x   : 91341424\n",
      "4545 267\n"
     ]
    }
   ],
   "source": [
    "x=20\n",
    "y=267\n",
    "print(x is y)\n",
    "print(\" id x  :\", id(x))\n",
    "print(\" id  y  :\",id(y))\n",
    "\n",
    "\n",
    "x=4545\n",
    "print(\"id x   :\",id(x))\n",
    "print(x,y)"
   ]
  },
  {
   "cell_type": "code",
   "execution_count": 11,
   "metadata": {},
   "outputs": [
    {
     "name": "stdout",
     "output_type": "stream",
     "text": [
      "32 43\n",
      "id x  : 1558939296\n",
      "id x  : 1558939472\n"
     ]
    }
   ],
   "source": [
    "x=32\n",
    "y=43\n",
    "print(x,y)\n",
    "print(\"id x  :\",id(x))\n",
    "print(\"id x  :\",id(y))"
   ]
  },
  {
   "cell_type": "code",
   "execution_count": 10,
   "metadata": {},
   "outputs": [
    {
     "name": "stdout",
     "output_type": "stream",
     "text": [
      "id x  : 1558938848\n",
      "id x   : 1558938848\n"
     ]
    }
   ],
   "source": [
    "x=34\n",
    "x=4\n",
    "print(\"id x  :\",id(x))\n",
    "print(\"id x   :\",id(x))"
   ]
  },
  {
   "cell_type": "code",
   "execution_count": 24,
   "metadata": {},
   "outputs": [
    {
     "name": "stdout",
     "output_type": "stream",
     "text": [
      "1558939104\n",
      "1558939104\n",
      "True\n",
      "False\n"
     ]
    }
   ],
   "source": [
    "x=34\n",
    "x=20\n",
    "x1=int(x)\n",
    "print(id(x))\n",
    "print(id(x))\n",
    "print(x is x)\n",
    "print(x is not x)"
   ]
  },
  {
   "cell_type": "code",
   "execution_count": 23,
   "metadata": {
    "scrolled": true
   },
   "outputs": [
    {
     "name": "stdout",
     "output_type": "stream",
     "text": [
      "True\n",
      "False\n",
      "1558939104\n",
      "1558939104\n"
     ]
    }
   ],
   "source": [
    "x=20\n",
    "y=20\n",
    "print(x is y)\n",
    "print(x is not y)\n",
    "print(id(x))\n",
    "print(id(y))"
   ]
  },
  {
   "cell_type": "code",
   "execution_count": 30,
   "metadata": {},
   "outputs": [
    {
     "name": "stdout",
     "output_type": "stream",
     "text": [
      "1558939856\n",
      "1558939680\n",
      "1558939328\n",
      "False\n",
      "True\n"
     ]
    }
   ],
   "source": [
    "x=67\n",
    "z=56\n",
    "y=34\n",
    "print(id(x))\n",
    "print(id(z))\n",
    "print(id(y))\n",
    "print(x is z)\n",
    "print(x is not z)"
   ]
  },
  {
   "cell_type": "code",
   "execution_count": 33,
   "metadata": {},
   "outputs": [
    {
     "name": "stdout",
     "output_type": "stream",
     "text": [
      "id x : 1558939856\n",
      "id  y : 1558939968\n",
      "67 74\n"
     ]
    }
   ],
   "source": [
    "x=67\n",
    "y=74\n",
    "print(\"id x :\",id(x))\n",
    "print(\"id  y :\",id(y))\n",
    "print(x,y)"
   ]
  },
  {
   "cell_type": "markdown",
   "metadata": {},
   "source": [
    "# python membership operators\n",
    "\n",
    "membership operators are used to test if a sequence is presented in an object:\n"
   ]
  },
  {
   "cell_type": "code",
   "execution_count": 44,
   "metadata": {},
   "outputs": [
    {
     "name": "stdout",
     "output_type": "stream",
     "text": [
      "False\n",
      "False\n"
     ]
    }
   ],
   "source": [
    "''' in    returns true if a sequencee with the specified value is present in the object'''\n",
    "\n",
    "l=[ 1,2,3,4]\n",
    "e=5\n",
    "print(e in l)\n",
    "\n",
    "\n",
    "\n",
    "''' not in     returns true if a sequence with the specified value is  not present in the obeject'''\n",
    "l=[1,2,3,4]\n",
    "e=4\n",
    "print(e not in l)"
   ]
  },
  {
   "cell_type": "code",
   "execution_count": 46,
   "metadata": {},
   "outputs": [
    {
     "name": "stdout",
     "output_type": "stream",
     "text": [
      "True\n"
     ]
    }
   ],
   "source": [
    "x=\"sapna is a good d girl\"\n",
    "y=\"pna\"\n",
    "print(y in x)"
   ]
  },
  {
   "cell_type": "code",
   "execution_count": 48,
   "metadata": {},
   "outputs": [
    {
     "name": "stdout",
     "output_type": "stream",
     "text": [
      "False\n"
     ]
    }
   ],
   "source": [
    "str_1=\"sapana\"\n",
    "str_2=\"as\"\n",
    "print(str_2 in str_1)"
   ]
  },
  {
   "cell_type": "code",
   "execution_count": 9,
   "metadata": {},
   "outputs": [
    {
     "name": "stdout",
     "output_type": "stream",
     "text": [
      "False\n"
     ]
    }
   ],
   "source": [
    "x={2332,324,344,23,43}\n",
    "y=2\n",
    "print(y in x)"
   ]
  },
  {
   "cell_type": "code",
   "execution_count": 56,
   "metadata": {},
   "outputs": [
    {
     "name": "stdout",
     "output_type": "stream",
     "text": [
      "False\n"
     ]
    }
   ],
   "source": [
    "x=342 ,54 ,35, 35 ,343, 453\n",
    "y=34\n",
    "print(y in x)"
   ]
  },
  {
   "cell_type": "code",
   "execution_count": 60,
   "metadata": {},
   "outputs": [
    {
     "name": "stdout",
     "output_type": "stream",
     "text": [
      "True\n"
     ]
    }
   ],
   "source": [
    "x=\"rtreterte\"\n",
    "y=\"re\"\n",
    "print(y in x)"
   ]
  },
  {
   "cell_type": "code",
   "execution_count": 13,
   "metadata": {},
   "outputs": [
    {
     "name": "stdout",
     "output_type": "stream",
     "text": [
      "True\n"
     ]
    }
   ],
   "source": [
    "x=33,34,4,3,2\n",
    "y=345\n",
    "print(y  not in x)"
   ]
  },
  {
   "cell_type": "markdown",
   "metadata": {},
   "source": [
    "# collecton datatype\n",
    "there are four collection data types in the python programming language\n",
    "\n",
    "(1)list  : [squrae brackets]\n",
    "(2)tuple : (round brackets)\n",
    "(3)set   : {curly brackets}\n",
    "(4)dictionary : {\"key\":value,}     \n",
    "\n",
    "\n",
    "there are four collection data types in the python programming language."
   ]
  },
  {
   "cell_type": "code",
   "execution_count": null,
   "metadata": {},
   "outputs": [],
   "source": [
    "(1) list is a collection which is orderd indexed and changeable allow\n",
    "duplicate members"
   ]
  },
  {
   "cell_type": "code",
   "execution_count": null,
   "metadata": {},
   "outputs": [],
   "source": [
    "(2)touple is a collection which is ordered indexed and unchangeble allow duplicate \n",
    "members"
   ]
  },
  {
   "cell_type": "code",
   "execution_count": null,
   "metadata": {},
   "outputs": [],
   "source": [
    "(3)set is a collection which is unindexed ,unordered and changeable no duplicate\n",
    "members"
   ]
  },
  {
   "cell_type": "code",
   "execution_count": null,
   "metadata": {},
   "outputs": [],
   "source": [
    "(4)dictionary is a collection which is unordered but indexed with keys,and changeble\n",
    "no duplicate keys"
   ]
  },
  {
   "cell_type": "markdown",
   "metadata": {},
   "source": [
    "# choosing a collection type it is necessary to understand the properties of that \n",
    "type"
   ]
  },
  {
   "cell_type": "code",
   "execution_count": 17,
   "metadata": {},
   "outputs": [
    {
     "name": "stdout",
     "output_type": "stream",
     "text": [
      "<class 'dict'>\n",
      "<class 'tuple'>\n",
      "7\n",
      "payl\n",
      "3\n"
     ]
    }
   ],
   "source": [
    "this_list=(2,4,5,7,\"sappu\",45.7)\n",
    "this_touple=(2,4,5,'payl')\n",
    "this_set={4,6,8}\n",
    "this_dict={'sappu':1,'tanwar':2,3:3}\n",
    "\n",
    "print(type(this_dict))\n",
    "print(type(this_list))\n",
    "print(this_list[3])\n",
    "print(this_touple[3])\n",
    "\n",
    "print(this_dict[3])\n",
    "\n",
    "\n",
    "\n",
    "\n"
   ]
  },
  {
   "cell_type": "markdown",
   "metadata": {},
   "source": [
    "1  # list"
   ]
  },
  {
   "cell_type": "code",
   "execution_count": null,
   "metadata": {},
   "outputs": [],
   "source": [
    "a list is a collection which is ordered and changeable in python lists are\n",
    "written with square brackets."
   ]
  },
  {
   "cell_type": "code",
   "execution_count": null,
   "metadata": {},
   "outputs": [],
   "source": [
    "a.getting started\n",
    "b.list methods\n",
    "c.conditional statements on list"
   ]
  },
  {
   "cell_type": "markdown",
   "metadata": {},
   "source": [
    "# 1(a)getting started"
   ]
  },
  {
   "cell_type": "code",
   "execution_count": 19,
   "metadata": {},
   "outputs": [
    {
     "name": "stdout",
     "output_type": "stream",
     "text": [
      "this_ list: ['apple', 4, 'sapna', True, [1, 2, 3, 4], (10, 20), {'brand': 'honda', 'name': 'city'}]\n",
      "[1, 2, 3, 4]\n",
      "{'brand': 'honda', 'name': 'city'}\n",
      "(10, 20)\n",
      "a\n",
      "element at position 0: apple\n",
      "element at position 5: (10, 20)\n",
      "before: ['apple', 4, 'sapna', True, [1, 2, 3, 4], (10, 20), {'brand': 'honda', 'name': 'city'}]\n",
      "104758504\n",
      "after: ['mango', 4, 'sapna', True, [1, 2, 3, 4], (10, 20), {'brand': 'honda', 'name': 'city'}]\n",
      "104758504\n",
      "this_list: ['mango', 4, 'sapna']\n",
      "['mango', 'sapna', [1, 2, 3, 4]]\n",
      "['mango', True]\n",
      "['mango', 4]\n",
      "['sapna', True, [1, 2, 3, 4], (10, 20), {'brand': 'honda', 'name': 'city'}]\n"
     ]
    }
   ],
   "source": [
    "# 'creating a list'\n",
    "this_list = [\"apple\", 4 , 'sapna' ,True, [1,2,3,4] , (10,20) , {'brand':'honda','name':'city',}]\n",
    "print('this_ list:' , this_list)\n",
    "\n",
    "\n",
    "print(this_list[4])\n",
    "print(this_list[6])\n",
    "print(this_list[-2])\n",
    "print(this_list[-5][-1])\n",
    " \n",
    "'accessing an element:'\n",
    "print('element at position 0:', this_list[0])\n",
    "print('element at position 5:',this_list[5])\n",
    "\n",
    "\n",
    "\n",
    "\n",
    "'change item value:'\n",
    "print('before:',this_list)\n",
    "this_list[0]='mango'\n",
    "print(id(this_list))\n",
    "print('after:', this_list)\n",
    "print(id(this_list))\n",
    "\n",
    "'getting a sub list'\n",
    "print(\"this_list:\",this_list[0:3])#(start:end)\n",
    "print(this_list[0:5:2])\n",
    "print(this_list[0:5:3])\n",
    "print(this_list[0:2])\n",
    "print(this_list[2::])"
   ]
  },
  {
   "cell_type": "code",
   "execution_count": 159,
   "metadata": {},
   "outputs": [
    {
     "name": "stdout",
     "output_type": "stream",
     "text": [
      "name_ [(23, 2), 65, 456.67, {8, 9, 6, 0}, 'sapna', 'rajput', [2, 5, 56], {'12': 'sappu', '34': 'sappuu'}]\n",
      "p\n",
      "{'12': 'sappu', '34': 'sappuu'}\n",
      "r\n",
      "{'12': 'sappu', '34': 'sappuu'}\n",
      "sappu\n",
      "elememt at position 1: 65\n",
      "element at position 2: [2, 5, 56]\n",
      "element at position 3: {'12': 'sappu', '34': 'sappuu'}\n",
      "before this: [(23, 2), 65, 456.67, {8, 9, 6, 0}, 'sapna', 'rajput', [2, 5, 56], {'12': 'sappu', '34': 'sappuu'}]\n",
      "after this: [(23, 2), 65, 456.67, {8, 9, 6, 0}, 'sapna', (4, 5, 5), [2, 5, 56], {'12': 'sappu', '34': 'sappuu'}]\n",
      "[(23, 2), 65, 456.67]\n",
      "[(23, 2), 65, 456.67]\n",
      "[(23, 2)]\n"
     ]
    }
   ],
   "source": [
    "name_=[(23,2),65,456.67,{8,6,9,0,9,0,9},\"sapna\",\"rajput\",[2,5,56],{'12':'sappu','34':'sappuu'}]\n",
    "print('name_',name_)\n",
    "\n",
    "\n",
    "print(name_[4][-3])\n",
    "print(name_[7])\n",
    "print(name_[5][0])\n",
    "print(name_[-1])\n",
    "print(name_[-1]['12'])\n",
    "\n",
    "\n",
    "'accessing an element'\n",
    "print('elememt at position 1:',name_[1])\n",
    "print('element at position 2:',name_[6])\n",
    "print('element at position 3:',name_[7])\n",
    "\n",
    "\n",
    "\n",
    "'change item value'\n",
    "print('before this:',name_)\n",
    "name_[5]=(4,5,5)\n",
    "print('after this:',name_)\n",
    "\n",
    "'getting a sub list'\n",
    "print(name_[0:3])\n",
    "print(name_[0:3:1])\n",
    "print(name_[0:1])"
   ]
  },
  {
   "cell_type": "code",
   "execution_count": 20,
   "metadata": {},
   "outputs": [
    {
     "name": "stdout",
     "output_type": "stream",
     "text": [
      "['plan', 'function', (32, 234, 4, 43), {64, 4, 5, 6, 455, 54}, 45.66, (54-6j), {'plan': '12', 'schime': 23424, 'tv': 24.45}]\n",
      "<class 'list'>\n",
      "(54-6j)\n",
      "{64, 4, 5, 6, 455, 54}\n",
      "234\n",
      "43\n",
      "element of position 1: (54-6j)\n",
      "element of position3: 45.66\n",
      "element of position 8: {64, 4, 5, 6, 455, 54}\n",
      "before this: ['plan', 'function', (32, 234, 4, 43), {64, 4, 5, 6, 455, 54}, 45.66, (54-6j), {'plan': '12', 'schime': 23424, 'tv': 24.45}]\n",
      "after this: ['plan', 'function', (32, 234, 4, 43), (34, 43.4, (4+5j)), 45.66, (54-6j), {'plan': '12', 'schime': 23424, 'tv': 24.45}]\n",
      "['plan', 'function', (32, 234, 4, 43), 10, 45.66, (54-6j), {'plan': '12', 'schime': 23424, 'tv': 24.45}]\n",
      "['plan', 'function', (32, 234, 4, 43), 10]\n",
      "[10]\n",
      "['function']\n",
      "['plan']\n",
      "['plan']\n"
     ]
    }
   ],
   "source": [
    "x=[\"plan\",'function',(32,234,4, 43),{5,54,455,6,64,4},45.66,54-6j,{'plan':'12','schime':23424,'tv':24.45}]\n",
    "print(x)\n",
    "print(type(x))\n",
    "\n",
    "print(x[5])\n",
    "print(x[-4])\n",
    "print(x[2][-3])\n",
    "print(x[2][-1])\n",
    "\n",
    "print('element of position 1:',x[5])\n",
    "print('element of position3:',x[4])\n",
    "print('element of position 8:',x[-4])\n",
    "\n",
    "\n",
    "\n",
    "print('before this:',x)\n",
    "x[3]=(34,43.4,4+5j)\n",
    "print('after this:',x) \n",
    "x[3]=10\n",
    "print(x)\n",
    "\n",
    "\n",
    "\n",
    "\n",
    "print(x[0:4])\n",
    "print(x[3:4:5])\n",
    "print(x[1:2:3])\n",
    "print(x[0:1:2])\n",
    "print(x[0:3:5])"
   ]
  },
  {
   "cell_type": "markdown",
   "metadata": {},
   "source": [
    "# list method "
   ]
  },
  {
   "cell_type": "code",
   "execution_count": 7,
   "metadata": {},
   "outputs": [
    {
     "name": "stdout",
     "output_type": "stream",
     "text": [
      "['sapna', 345, 34, 34.45, (34+6j), 'rajput']\n",
      "6\n"
     ]
    }
   ],
   "source": [
    "# (1)lenth\n",
    "\n",
    "lst_=[\"sapna\",345,34,34.45,34+6j,'rajput']\n",
    "print(lst_)\n",
    "print(len(lst_))"
   ]
  },
  {
   "cell_type": "code",
   "execution_count": 8,
   "metadata": {},
   "outputs": [
    {
     "name": "stdout",
     "output_type": "stream",
     "text": [
      "4\n"
     ]
    }
   ],
   "source": [
    "s=[43,34.53343,34-3599j,\"sapna is a good girl\"]\n",
    "print(len(s))"
   ]
  },
  {
   "cell_type": "code",
   "execution_count": 28,
   "metadata": {},
   "outputs": [
    {
     "name": "stdout",
     "output_type": "stream",
     "text": [
      "['file', 'copy', 'most', 23434, 355.546, (34+43j), 'practics', '546']\n",
      "8\n"
     ]
    }
   ],
   "source": [
    "# (2)append():-the append mathod add a single item to the existing list\n",
    "#                      or\n",
    "#     'to add an item to the end of the list use the append () method'\n",
    "    \n",
    "    \n",
    "lst_=[\"file\", \"copy\",\"most\",23434,355.546,34+43j,\"practics\"]\n",
    "lst_.append(\"546\")\n",
    "print(lst_)\n",
    "print(len(lst_))\n"
   ]
  },
  {
   "cell_type": "code",
   "execution_count": 30,
   "metadata": {},
   "outputs": [
    {
     "name": "stdout",
     "output_type": "stream",
     "text": [
      "['sapna rajput', 99, (445-5j), (343+665j), 'rajput is the best', 'loyal']\n",
      "6\n"
     ]
    }
   ],
   "source": [
    "name=[\"sapna rajput\",99,445-5j,343+665j,'rajput is the best']\n",
    "name.append('loyal')\n",
    "print(name)\n",
    "print(len(name))\n"
   ]
  },
  {
   "cell_type": "code",
   "execution_count": 21,
   "metadata": {},
   "outputs": [
    {
     "name": "stdout",
     "output_type": "stream",
     "text": [
      "['sing', 'singh', 'song', 345, 35.54, (34-34j)]\n",
      "['sing', 'singh', 'song', 345, 'pool', 35.54, 34, (34-34j)]\n"
     ]
    }
   ],
   "source": [
    "# (3)insert():-'to add an item at  the specifid index use the insert()  method'\n",
    "#     it use to add new item in list valid inde\n",
    "\n",
    "\n",
    "list_=[\"sing\",'singh','song',345,35.54,34-34j]\n",
    "print(list_)\n",
    "list_.insert( 4,'pool')\n",
    "list_.insert(-1,34)\n",
    "print(list_)"
   ]
  },
  {
   "cell_type": "code",
   "execution_count": 23,
   "metadata": {},
   "outputs": [
    {
     "name": "stdout",
     "output_type": "stream",
     "text": [
      "['sapna', 4324, (345-3j), (344+34j), 'code']\n"
     ]
    }
   ],
   "source": [
    "# (4)remove():-'remove item form a list'or,remove the specifide item:-\n",
    "sapna=['sapna','good',4324,345-3j,344+34j,34.345,'code']\n",
    "sapna.remove('good')\n",
    "sapna.remove(34.345)\n",
    "print(sapna)"
   ]
  },
  {
   "cell_type": "code",
   "execution_count": 28,
   "metadata": {},
   "outputs": [
    {
     "data": {
      "text/plain": [
       "'app'"
      ]
     },
     "execution_count": 28,
     "metadata": {},
     "output_type": "execute_result"
    }
   ],
   "source": [
    "# (5)pop method():-remove the specified index(or the last item of index is not specified)\n",
    "list_=[\"app\",\"roma\",\"rahul\"]\n",
    "list_.pop()\n",
    "list_.pop(0)\n",
    "    "
   ]
  },
  {
   "cell_type": "code",
   "execution_count": 31,
   "metadata": {},
   "outputs": [
    {
     "name": "stdout",
     "output_type": "stream",
     "text": [
      "[32, 34.34, (3433-9j), 343, 'mamta']\n",
      "[34.34]\n"
     ]
    }
   ],
   "source": [
    "# (6)del():-'the del keyword remove the specified index:'\n",
    "lst=[32,34.34,3433-9j,343,'sapna is a good','mamta']\n",
    "del lst[-2] \n",
    "print(lst)\n",
    "print(lst[1:3:4])"
   ]
  },
  {
   "cell_type": "code",
   "execution_count": 32,
   "metadata": {},
   "outputs": [
    {
     "name": "stdout",
     "output_type": "stream",
     "text": [
      "['sappu', 'she', 'logic', 'print']\n",
      "['she', 'logic', 'print']\n",
      "['she', 'logic', 'print'] sappu\n",
      "['she', 'logic', 'print']\n"
     ]
    }
   ],
   "source": [
    "this_list=['sappu','she','logic','print']\n",
    "print(this_list)\n",
    "del this_list[0]\n",
    "print(this_list)\n",
    "print(this_list,'sappu')\n",
    "print(this_list[0:4])\n"
   ]
  },
  {
   "cell_type": "code",
   "execution_count": 3,
   "metadata": {},
   "outputs": [
    {
     "name": "stdout",
     "output_type": "stream",
     "text": [
      "['adaf', 3253425, 2424, 'klslkgj']\n",
      "[]\n"
     ]
    }
   ],
   "source": [
    "# (7)clear:-'the clear mathod empties the list'\n",
    "\n",
    "sapna=['adaf',3253425,2424,'klslkgj']\n",
    "print(sapna)\n",
    "sapna.clear()\n",
    "print(sapna)"
   ]
  },
  {
   "cell_type": "code",
   "execution_count": 24,
   "metadata": {},
   "outputs": [
    {
     "name": "stdout",
     "output_type": "stream",
     "text": [
      "['maya', 'shanvi', 'neha', 'mohit']\n"
     ]
    }
   ],
   "source": [
    "# (8)copy:-'copy a list'/use to copy a dictionary\n",
    "#     there are two way is to use the built in list mathod copy()\n",
    "\n",
    "\n",
    "file=['maya','shanvi','neha','mohit']\n",
    "# myfile=file.copy()\n",
    "# print(myfile)\n",
    "lst=file\n",
    "print(lst)"
   ]
  },
  {
   "cell_type": "code",
   "execution_count": 19,
   "metadata": {},
   "outputs": [
    {
     "name": "stdout",
     "output_type": "stream",
     "text": [
      "1\n"
     ]
    }
   ],
   "source": [
    "# (9)count:-return the number of occurences of value\n",
    "post=['sagar','marketing','newplan',854,435,43,43,34.4,'newplan','setup']\n",
    "a=post.count(34.4)\n",
    "print(a)"
   ]
  },
  {
   "cell_type": "code",
   "execution_count": 23,
   "metadata": {},
   "outputs": [
    {
     "name": "stdout",
     "output_type": "stream",
     "text": [
      "0\n"
     ]
    }
   ],
   "source": [
    "# (10)index:-the index() mathod returns the position at the first occurrece of\n",
    "#     the specified\n",
    "cards=['invite',7687,98,'shadule','master']\n",
    "y=cards.index(7687)\n",
    "y=cards.index('invite')\n",
    "print(y)"
   ]
  },
  {
   "cell_type": "code",
   "execution_count": 26,
   "metadata": {},
   "outputs": [
    {
     "name": "stdout",
     "output_type": "stream",
     "text": [
      "['apple', 'graps', 'nudels', 'papaya', 'potato', 'tomato', 'ladyfinger', 34, (344-34j), 34.34]\n"
     ]
    }
   ],
   "source": [
    "# (11)extend:-\"add elements of one list to another\"\n",
    "\n",
    "fruits=['apple','graps','nudels','papaya']\n",
    "veg=('potato','tomato','ladyfinger',34,344-34j,34.34)\n",
    "fruits.extend(veg)\n",
    "print(fruits)"
   ]
  },
  {
   "cell_type": "code",
   "execution_count": 28,
   "metadata": {},
   "outputs": [
    {
     "name": "stdout",
     "output_type": "stream",
     "text": [
      "[34.345, (43-6j), 245, 24, 24334]\n"
     ]
    }
   ],
   "source": [
    "# (12)reverse:-reverse the order of the list:\n",
    "x=[24334,24,245,43-6j,34.345,]\n",
    "x.reverse()\n",
    "print(x)"
   ]
  },
  {
   "cell_type": "code",
   "execution_count": 29,
   "metadata": {},
   "outputs": [
    {
     "name": "stdout",
     "output_type": "stream",
     "text": [
      "['templerum', 'pubg', 'ludo']\n"
     ]
    }
   ],
   "source": [
    "game=['ludo','pubg','templerum']\n",
    "game.reverse()\n",
    "print(game)"
   ]
  },
  {
   "cell_type": "code",
   "execution_count": 36,
   "metadata": {},
   "outputs": [
    {
     "name": "stdout",
     "output_type": "stream",
     "text": [
      "[3, 12, 23, 23, 23, 123, 232, 234, 324, 2432]\n",
      "['c', 'b', 'a']\n",
      "['a', 'b', 'c']\n"
     ]
    }
   ],
   "source": [
    "# (13)sort():-sort the element in list\n",
    "name=[324,234,2432,23,232,12,123,3,23,23]\n",
    "name.sort()\n",
    "print(name)\n",
    "\n",
    "list=cars[::-1]\n",
    "print(list)\n",
    "\n",
    "cars=['a','b','c']\n",
    "cars.sort(reverse=True)\n",
    "cars.sort(reverse=False)\n",
    "print(cars)\n"
   ]
  },
  {
   "cell_type": "markdown",
   "metadata": {},
   "source": [
    "# 1(c)conditional statement on list"
   ]
  },
  {
   "cell_type": "code",
   "execution_count": 71,
   "metadata": {},
   "outputs": [
    {
     "name": "stdout",
     "output_type": "stream",
     "text": [
      "apple\n",
      "banana\n",
      "cherry\n",
      "yes\n",
      "\n"
     ]
    }
   ],
   "source": [
    "# 'print all item in the list ,one by one:'\n",
    "this_list=['apple','banana','cherry']\n",
    "for i in this_list:\n",
    "    print(i)\n",
    "    \n",
    "    \n",
    "'check if \"apple\" is present in the list:'\n",
    "this_list=[\"spna\",\"priya\",\"salonii\"]\n",
    "if \"spna\" in this_list:\n",
    "    print(\"yes\")\n",
    "else:\n",
    "    print(\"no\")\n",
    "print()"
   ]
  },
  {
   "cell_type": "markdown",
   "metadata": {},
   "source": [
    "#                   (2)Tuple"
   ]
  },
  {
   "cell_type": "code",
   "execution_count": null,
   "metadata": {},
   "outputs": [],
   "source": [
    "\"a tuple is a collection  which is ordered and unchangeable in python tuples are written in round brackets\"\n",
    "\n",
    "(a)getting started\n",
    "(b)tuple method\n",
    "(c)what dose not work from tuple\n",
    "(d)conditional statement tuple"
   ]
  },
  {
   "cell_type": "code",
   "execution_count": 2,
   "metadata": {},
   "outputs": [
    {
     "name": "stdout",
     "output_type": "stream",
     "text": [
      "('pending', 'programme', 'releif', 56, 567.7, (687-8j))\n",
      "<class 'tuple'>\n"
     ]
    }
   ],
   "source": [
    "# (a)getting started:-'create a tuple'\n",
    "lst=('pending','programme','releif',56,567.7,687-8j)\n",
    "print(lst)\n",
    "print(type(lst))\n"
   ]
  },
  {
   "cell_type": "code",
   "execution_count": 35,
   "metadata": {},
   "outputs": [
    {
     "name": "stdout",
     "output_type": "stream",
     "text": [
      "34.34\n",
      "(3433-9j)\n",
      "[32, 34.34, (3433-9j)]\n",
      "[32]\n",
      "[32, 34.34, (3433-9j), 343, 'mamta']\n"
     ]
    }
   ],
   "source": [
    "# \"accessing an element\"\n",
    "\n",
    "print(lst[1])\n",
    "print(lst[2])\n",
    "\n",
    "\n",
    "'getting a sub list'\n",
    "print(lst[0:3])\n",
    "print(lst[0:2:3])\n",
    "print(lst[0::1])\n"
   ]
  },
  {
   "cell_type": "markdown",
   "metadata": {},
   "source": [
    "# tuple-method/function"
   ]
  },
  {
   "cell_type": "code",
   "execution_count": 12,
   "metadata": {},
   "outputs": [
    {
     "name": "stdout",
     "output_type": "stream",
     "text": [
      "8\n",
      "4\n"
     ]
    }
   ],
   "source": [
    "# (1)len()mathod -print the number of item in tuple\n",
    "tuple_is=('number','is', 'the',245,43554,34-46j,356,536.4534 )\n",
    "print(len(tuple_is))\n",
    "\n",
    "\n",
    "mytuple=(\"my hobby is singing\",35345636,356.465,68)\n",
    "print(len(mytuple))"
   ]
  },
  {
   "cell_type": "code",
   "execution_count": 18,
   "metadata": {},
   "outputs": [
    {
     "name": "stdout",
     "output_type": "stream",
     "text": [
      "1\n",
      "1\n"
     ]
    }
   ],
   "source": [
    "# (2)'count()mathod :- return the number of occurences of a value\n",
    "\n",
    "tuple_side=(3453,345.4,35363,\"the number of value\",24-24j,'comb')\n",
    "print(tuple_side.count(3453))\n",
    "print(tuple_side.count('comb'))"
   ]
  },
  {
   "cell_type": "code",
   "execution_count": 24,
   "metadata": {},
   "outputs": [
    {
     "name": "stdout",
     "output_type": "stream",
     "text": [
      "<class 'tuple'>\n",
      "6\n",
      "4\n"
     ]
    }
   ],
   "source": [
    "# (3)'index()method':- return first index of value\n",
    "x=('sdfjksd','rahul','diksha','rahul',324,324)\n",
    "print(type(x))\n",
    "print(len(x))\n",
    "print(x.index(324))"
   ]
  },
  {
   "cell_type": "code",
   "execution_count": 31,
   "metadata": {},
   "outputs": [
    {
     "ename": "NameError",
     "evalue": "name 'this' is not defined",
     "output_type": "error",
     "traceback": [
      "\u001b[1;31m---------------------------------------------------------------------------\u001b[0m",
      "\u001b[1;31mNameError\u001b[0m                                 Traceback (most recent call last)",
      "\u001b[1;32m<ipython-input-31-78186d00b3d2>\u001b[0m in \u001b[0;36m<module>\u001b[1;34m\u001b[0m\n\u001b[0;32m      2\u001b[0m \u001b[0mthis\u001b[0m\u001b[1;33m=\u001b[0m\u001b[1;33m(\u001b[0m\u001b[1;36m324\u001b[0m\u001b[1;33m,\u001b[0m\u001b[1;36m55.35\u001b[0m\u001b[1;33m,\u001b[0m\u001b[1;36m5\u001b[0m\u001b[1;33m,\u001b[0m\u001b[1;36m45\u001b[0m\u001b[1;33m,\u001b[0m\u001b[1;36m5\u001b[0m\u001b[1;33m,\u001b[0m\u001b[1;36m6\u001b[0m\u001b[1;33m,\u001b[0m\u001b[1;36m7.6\u001b[0m\u001b[1;33m,\u001b[0m\u001b[1;34m'name'\u001b[0m\u001b[1;33m,\u001b[0m\u001b[1;34m'sapna'\u001b[0m\u001b[1;33m,\u001b[0m\u001b[1;34m'tost'\u001b[0m\u001b[1;33m)\u001b[0m\u001b[1;33m\u001b[0m\u001b[1;33m\u001b[0m\u001b[0m\n\u001b[0;32m      3\u001b[0m \u001b[1;32mdel\u001b[0m \u001b[0mthis\u001b[0m\u001b[1;33m\u001b[0m\u001b[1;33m\u001b[0m\u001b[0m\n\u001b[1;32m----> 4\u001b[1;33m \u001b[0mprint\u001b[0m\u001b[1;33m(\u001b[0m\u001b[0mthis\u001b[0m\u001b[1;33m)\u001b[0m\u001b[1;33m\u001b[0m\u001b[1;33m\u001b[0m\u001b[0m\n\u001b[0m",
      "\u001b[1;31mNameError\u001b[0m: name 'this' is not defined"
     ]
    }
   ],
   "source": [
    "# (4)'the del keyword delete the tuple completly'\n",
    "this=(324,55.35,5,45,5,6,7.6,'name','sapna','tost')\n",
    "del this\n",
    "print(this)"
   ]
  },
  {
   "cell_type": "markdown",
   "metadata": {},
   "source": [
    "# 2(c)what doesn't work for tuples"
   ]
  },
  {
   "cell_type": "code",
   "execution_count": 39,
   "metadata": {},
   "outputs": [],
   "source": [
    "'add item'\n",
    "'once a tuple is created,you cannot add item to it tuple are unchangeable'\n",
    " \n",
    "'change item value:'\n",
    "# thistuple[3]='tiger'\n",
    "# thistuple\n",
    "\n",
    "\n",
    "# thistuple=('mango','papaya','orange')\n",
    "# # thistuple.append('fruits')              error bcoz tuple not allow\n",
    "# print(thistuple)\n",
    "\n",
    "\n",
    "'remove item'\n",
    "'once a tuple is created you can not remove otem in tuple are unchangeable'\n",
    "\n",
    "# y=(7678,97,44,7.78,87,'mosam')\n",
    "# print(y)\n",
    "# print(y.remove(87))          we also find in this case error\n",
    "\n",
    "\n",
    "\n",
    "'del item at spasific index'\n",
    "x=('saroj','komal','neelam')\n",
    "# del(x[0])                    also error tuple not allow\n",
    "# print(x)\n",
    "del(x)"
   ]
  },
  {
   "cell_type": "markdown",
   "metadata": {},
   "source": [
    "# 2(d)conditional statement on tuple"
   ]
  },
  {
   "cell_type": "code",
   "execution_count": 66,
   "metadata": {},
   "outputs": [
    {
     "name": "stdout",
     "output_type": "stream",
     "text": [
      "yes,'sappu' is in the name tuple\n",
      "\n"
     ]
    }
   ],
   "source": [
    "'iterate through the item and print the values:-'\n",
    "# thistuple=('sappu','rathore','radhe','rani',443,34.43)\n",
    "# for x in thistuple:\n",
    "#     print(x)\n",
    " \n",
    "'check if \"rathore\" is present in this tuple:'\n",
    "thistuple=(\"sappu\",\"rathore\",\"radhe\")\n",
    "if \"sappu\" in thistuple:\n",
    "    print(\"yes,'sappu' is in the name tuple\")\n",
    "else:\n",
    "    print(\"not in thistuple\")\n",
    "print()\n"
   ]
  },
  {
   "cell_type": "code",
   "execution_count": 91,
   "metadata": {},
   "outputs": [
    {
     "name": "stdout",
     "output_type": "stream",
     "text": [
      "ajay\n",
      "rahul\n",
      "rita\n",
      "rashmi\n",
      "23432\n",
      "(234-34j)\n",
      "43.34\n",
      "3\n",
      "3\n",
      "3\n",
      "not in thi tuple_\n",
      "\n"
     ]
    }
   ],
   "source": [
    "tuple_=('ajay','rahul','rita','rashmi', 23432,234-34j,43.34,3,3,3)\n",
    "for y in tuple_:\n",
    "     print(y)\n",
    "if 'sapna' in tuple_:\n",
    "    print(\"yes 'sapna' in this tuple_\")          \n",
    "else:\n",
    "    print('not in thi tuple_')\n",
    "print()"
   ]
  },
  {
   "cell_type": "code",
   "execution_count": 94,
   "metadata": {},
   "outputs": [
    {
     "name": "stdout",
     "output_type": "stream",
     "text": [
      "sona rajput\n",
      "34\n",
      "35\n",
      "55\n",
      "65\n",
      "65.54\n",
      "(45-54j)\n",
      "54\n",
      "45\n",
      "45\n",
      "45\n",
      "yes\n"
     ]
    }
   ],
   "source": [
    "tupletype=(\"sona rajput\",34,35,55,65,65.54,45-54j,54,45,45,45,)\n",
    "for x in tupletype:\n",
    "    print(x)\n",
    "if 54 in tupletype:\n",
    "    print(\"yes\")\n",
    "else:\n",
    "    print(\"not\")"
   ]
  },
  {
   "cell_type": "markdown",
   "metadata": {},
   "source": [
    "# (3)set"
   ]
  },
  {
   "cell_type": "code",
   "execution_count": null,
   "metadata": {},
   "outputs": [],
   "source": [
    "set is a collection which is unorders unindexed and changeable and \n",
    "not allow duplicate members\n",
    "\n",
    "(a)getting start\n",
    "(b)set methods\n",
    "(c)what doesnot work for sets\n",
    "(d)conditional statements on set"
   ]
  },
  {
   "cell_type": "code",
   "execution_count": 4,
   "metadata": {},
   "outputs": [
    {
     "name": "stdout",
     "output_type": "stream",
     "text": [
      "{'code', 'sappu', 876.78, (876-8j), 8798}\n"
     ]
    }
   ],
   "source": [
    "\"getting start\"\n",
    "3(a)# \"create a set\"\n",
    "set_1={\"sappu\",8798,876.78,876-8j,\"sappu\",\"code\"}\n",
    "print(set_1)\n"
   ]
  },
  {
   "cell_type": "markdown",
   "metadata": {},
   "source": [
    "# 3(b)set methods function"
   ]
  },
  {
   "cell_type": "code",
   "execution_count": 44,
   "metadata": {},
   "outputs": [
    {
     "name": "stdout",
     "output_type": "stream",
     "text": [
      "{32, 'manshi', 67.9, 'sapna', 23, 2233, 34.34, 'dfef'}\n"
     ]
    }
   ],
   "source": [
    "# \"add item to set\"\n",
    "# (1)add method:- add()\n",
    "set_1={\"sapna\",\"manshi\",2233,23,32,32,\"sapna\",34.34}\n",
    "set_1.add(67.9)\n",
    "set_1.add(\"dfef\")\n",
    "print(set_1)"
   ]
  },
  {
   "cell_type": "code",
   "execution_count": 12,
   "metadata": {},
   "outputs": [
    {
     "name": "stdout",
     "output_type": "stream",
     "text": [
      "{'yes', (89-8j), 'code', 'parul', 'session', 9, 79, 89.98, 'code is here', (98+9j)}\n",
      "{'yes', (89-8j), 'code', 'parul', 'session', 9, 79, 89.98, 'code is here', (98+9j)}\n"
     ]
    }
   ],
   "source": [
    "(2)'add multiple items to a set,using the \"update()\" method'\n",
    "set_1={79,9,89-8j,98+9j,89.98,\"parul\",\"code\",\"session\"}\n",
    "set_2={\"yes\",\"code is here\"}\n",
    "set_1.update(set_2)\n",
    "print(set_1)\n",
    "set_2.update(set_1)\n",
    "print(set_2)"
   ]
  },
  {
   "cell_type": "code",
   "execution_count": 54,
   "metadata": {},
   "outputs": [
    {
     "name": "stdout",
     "output_type": "stream",
     "text": [
      "{'jam', 'trap', 'payal'}\n",
      "{'trap', 'payal'}\n",
      "{3, 356, 454, 6, 456, 'rert', 77, 25}\n",
      "{4545, 3, 868, 6, 45.454, 88886}\n",
      "{'trap'}\n",
      "{356, 454, 6, 456, 'rert', 77, 25} {4545, 3, 868, 6, 45.454, 88886}\n",
      "{4545, 3, 868, 6, 45.454, 88886} {356, 454, 6, 456, 'rert', 77, 25}\n"
     ]
    }
   ],
   "source": [
    "# (3)\"remove item\"\n",
    "# 'to remove an item in a set, use the \"remove()\", or the \"discard()\"\n",
    "# method'\n",
    "\n",
    "set1={\"jam\",\"trap\",\"net\",\"payal\"}\n",
    "set1.remove(\"net\")\n",
    "print(set1)\n",
    "set1.remove(\"jam\")\n",
    "print(set1)\n",
    "\n",
    "x={345,456,454,3,25,356,6,77,\"rert\"}\n",
    "y={45.454,4545,3,88886,6,868,567}\n",
    "x.remove(345)\n",
    "y.remove(567)\n",
    "print(x)\n",
    "print(y)\n",
    "# print(x+y) - error\n",
    "\n",
    "\n",
    "\n",
    "\n",
    "'discard()'\n",
    "set1.discard('payal')\n",
    "print(set1)\n",
    "\n",
    "\n",
    "x.discard(3)\n",
    "print(x,y)\n",
    "\n",
    "y.discard(567)\n",
    "print(y,x)"
   ]
  },
  {
   "cell_type": "code",
   "execution_count": 58,
   "metadata": {},
   "outputs": [
    {
     "name": "stdout",
     "output_type": "stream",
     "text": [
      "234\n",
      "{'sanvi'}\n"
     ]
    }
   ],
   "source": [
    " (4)# 'you can also use the \"pop()\",method or remove an item, but this method\n",
    "# 'will remove the last remeber the sets are unordered, so you will not\n",
    "# 'know what,item that gets remove.\n",
    "\n",
    "'the return value of the \"pop()\" methodis the remove the item'\n",
    "\n",
    "the_set={\"pari\",234,\"sanvi\",45.5,\"guddu\"}\n",
    "x=the_set.pop()\n",
    "the_set.pop()\n",
    "the_set.pop()\n",
    "the_set.pop()\n",
    "print(x)\n",
    "print(the_set)"
   ]
  },
  {
   "cell_type": "code",
   "execution_count": 60,
   "metadata": {},
   "outputs": [
    {
     "name": "stdout",
     "output_type": "stream",
     "text": [
      "{1, 53}\n",
      "{2, 'will', 'try', 'sap', 'not'} \n",
      " {3, 4, 5, 45, 333, 'test', 23, 'na'} \n",
      " None\n",
      "\n"
     ]
    }
   ],
   "source": [
    "# (5)'difference() - remove all element of another set from this set.'\n",
    "\n",
    "x_1={34,3,4,5,3,5,6}\n",
    "x_2={1,3,4,53,34,5}\n",
    "# x={'sappu',\"raju\",\"radha\",\"palm\"}\n",
    "# x1={'test','easy','sappu'}\n",
    "y_=x_2.difference(x_1)\n",
    "\n",
    "print(y_)\n",
    "# x2=x1.difference(x)\n",
    "# print(x2)\n",
    "\n",
    "\n",
    "\n",
    "'difference_update() - remove all element of another set from this set.'\n",
    "'the difference_update() returns none indicating the object (set) is mutated'\n",
    "\n",
    "a={\"sap\",'na','will','not','try',23,3,2,5,45}\n",
    "b={'na',23,5,45,3,333,5,4 ,\"test\"}\n",
    "c=a.difference_update(b)\n",
    "print(a,'\\n',b,'\\n',c)\n",
    "print()"
   ]
  },
  {
   "cell_type": "code",
   "execution_count": 63,
   "metadata": {},
   "outputs": [
    {
     "name": "stdout",
     "output_type": "stream",
     "text": [
      "{6}\n",
      "{4, 5, 6} \n",
      " {2, 4, 5, 6, 9, 78} \n",
      " None\n",
      "\n"
     ]
    }
   ],
   "source": [
    "(6)'intersection()- return the intersecttion of two sets an a new set.'\n",
    "this_set={4,45,54,6,43,}\n",
    "that_set={34,35,7,6}\n",
    "inter_set=that_set.intersection(this_set)\n",
    "print(inter_set)\n",
    "\n",
    "\n",
    "\n",
    "# 'intersection_update()- return the intersection of two sets as a new set\n",
    "# 'the intersection_update() return none indicating the object (set)\n",
    "# is muted.\n",
    "\n",
    "\n",
    "set={2,4,5,6,78,9}\n",
    "set1={1,6,8,0,5,4,8,989}\n",
    "this=set1.intersection_update(set)\n",
    "print(set1,'\\n',set,'\\n',this)\n",
    "print()\n"
   ]
  },
  {
   "cell_type": "code",
   "execution_count": 10,
   "metadata": {},
   "outputs": [
    {
     "name": "stdout",
     "output_type": "stream",
     "text": [
      "{1, 't', 3, 's', 'y', 4, 'a', 23}\n",
      "None\n",
      "{1, 't', 3, 4, 's', 'y', 'a', 23}\n"
     ]
    }
   ],
   "source": [
    "# (7)'union() - return the value of set as a new set.'\n",
    "myset={1,23,3,4,4,}\n",
    "thisset={'a','s','t','y'}\n",
    "union=thisset.union(myset)\n",
    "print(union)\n",
    "\n",
    "x=myset.update(thisset)\n",
    "print(x)\n",
    "\n",
    "\n",
    "thisset.update(myset)\n",
    "print(myset)\n",
    "\n"
   ]
  },
  {
   "cell_type": "code",
   "execution_count": 21,
   "metadata": {},
   "outputs": [
    {
     "name": "stdout",
     "output_type": "stream",
     "text": [
      "{'g', 1, 2, 3, 4, 5, 6, 7, 'k', 's', 'd', 'f'}\n",
      "None\n",
      "{'g', 'k', 1, 2, 3, 5, 6, 7, 4, 's', 'd', 'f'}\n"
     ]
    }
   ],
   "source": [
    "set_1={1,3,4,2,6,7,5}\n",
    "set_2={5,6,7,'d','s','f','g','k'} \n",
    "union_=set_1.union(set_2)\n",
    "print(union_)\n",
    "\n",
    "x=set_2.update(set_1)\n",
    "print(x)\n",
    "\n",
    "set_1.update(set_2)\n",
    "print(set_2)"
   ]
  },
  {
   "cell_type": "code",
   "execution_count": 2,
   "metadata": {},
   "outputs": [],
   "source": [
    "# dir(set)"
   ]
  },
  {
   "cell_type": "code",
   "execution_count": 26,
   "metadata": {},
   "outputs": [
    {
     "name": "stdout",
     "output_type": "stream",
     "text": [
      "first operation: False\n",
      "second operation: True\n",
      "True\n",
      "False\n",
      "True\n"
     ]
    }
   ],
   "source": [
    "# (8)'isdisjoint()' -'return True if two set have a null intersection.'\n",
    "my_set={3,5,7,4,2}\n",
    "your_set={4,5,3,22,5}\n",
    "print(\"first operation:\",my_set.isdisjoint(your_set))\n",
    "\n",
    "this_set={6,8}\n",
    "\n",
    "print(\"second operation:\",my_set.isdisjoint(this_set))\n",
    "\n",
    "\n",
    "# 'issubset()'-'report whether another set contain this set,'\n",
    "x={1,4,7,8,3,2}\n",
    "y={3,2,1}\n",
    "# y={9,1,2}           #'y' is subset of x when 'y' all eliment are in x\n",
    "print(y.issubset(x))\n",
    "\n",
    "\n",
    "# 'issuperset()' -'report whether another set contain another set.'\n",
    "\n",
    "a={3,56,67,3,7,734.56,4}\n",
    "b={34,34,6,7,8,99,}\n",
    "print(a.issuperset(b))\n",
    "\n",
    "\n",
    "a={'a','b','c',1,4,6,7}\n",
    "b={'a',1,4}\n",
    "print(a.issuperset(b))\n",
    "\n",
    "# note-if b is a subset of a then a is a superset of b\n"
   ]
  },
  {
   "cell_type": "code",
   "execution_count": 28,
   "metadata": {},
   "outputs": [
    {
     "name": "stdout",
     "output_type": "stream",
     "text": [
      "9\n"
     ]
    }
   ],
   "source": [
    "(9)'get len of a set'\n",
    "'to determine how many item a set has,use the\"len()\"method.'\n",
    "myset={34,35,5,34.45,45-45j,45,\"sapna\",'[2,43,5,]',(23,2345,34)}\n",
    "print(len(myset))"
   ]
  },
  {
   "cell_type": "code",
   "execution_count": 29,
   "metadata": {},
   "outputs": [
    {
     "name": "stdout",
     "output_type": "stream",
     "text": [
      "set()\n"
     ]
    }
   ],
   "source": [
    "(10)'clear set'\n",
    "'the \"clear()\" method empities the set'\n",
    "your_set={35,\"sapna\",34-43j,34,\"raj\",235}\n",
    "your_set.clear()\n",
    "print(your_set)"
   ]
  },
  {
   "cell_type": "code",
   "execution_count": 36,
   "metadata": {},
   "outputs": [],
   "source": [
    "(11)'delete set'\n",
    "'the del keyword will delete the set completely'\n",
    "myset={23,3,'a',\"sapna\",(23,34,43,34.3)}\n",
    "# print(myset)\n",
    "del myset\n"
   ]
  },
  {
   "cell_type": "markdown",
   "metadata": {},
   "source": [
    "# (3)c what dose't work for sets"
   ]
  },
  {
   "cell_type": "code",
   "execution_count": 41,
   "metadata": {},
   "outputs": [
    {
     "name": "stdout",
     "output_type": "stream",
     "text": [
      "{3, 4, 6, 7, 8, 'sap', 'na'}\n"
     ]
    }
   ],
   "source": [
    "# \"indexing won't work foe set sincesets are unordered and unindexed\"\n",
    "# that={1,3,3,4}\n",
    "# print(that[1])\n",
    "\n",
    "\n",
    "'set do not support duplicate item'\n",
    "this={3,3,6,4,7,8,3,\"sap\",\"na\",\"sap\"}\n",
    "print(this)"
   ]
  },
  {
   "cell_type": "markdown",
   "metadata": {},
   "source": [
    "# 3(d)conditional statements on sets\n",
    "help access elements of a set also"
   ]
  },
  {
   "cell_type": "code",
   "execution_count": 43,
   "metadata": {},
   "outputs": [
    {
     "name": "stdout",
     "output_type": "stream",
     "text": [
      "34\n",
      "sapna\n",
      "apple\n",
      "(34+3j)\n",
      "rajput\n",
      "(34-5j)\n",
      "343.3\n",
      "yes\n"
     ]
    }
   ],
   "source": [
    "\n",
    "\n",
    "\n",
    "\n",
    "'loop through this set,and print the values:'\n",
    "thisset={\"sapna\",34,\"rajput\",34-5j,343.3,34+3j,\"apple\"}\n",
    "for y in thisset:\n",
    "    print(y)\n",
    "    \n",
    "\n",
    "'check if an item present in the set'\n",
    "myset={23,23,\"ajlsd\",345634,\"koml\",\"aashu\"}\n",
    "if 23 in myset:\n",
    "    print(\"yes\")\n",
    "else:\n",
    "    print(\"no\")\n",
    "    \n",
    "  \n"
   ]
  },
  {
   "cell_type": "markdown",
   "metadata": {},
   "source": [
    "# 4 dictionaries"
   ]
  },
  {
   "cell_type": "code",
   "execution_count": null,
   "metadata": {},
   "outputs": [],
   "source": [
    "dictionary is a collection which is unorderd,chandeable ans support\n",
    "duplicate values.\n",
    "in python dictionary is written with curly brackets.and they have key\n",
    "and values\n",
    "\n",
    "\n",
    "(a)getting start \n",
    "(b)dictionary mathod\n",
    "(c)control flow using dictionary"
   ]
  },
  {
   "cell_type": "markdown",
   "metadata": {},
   "source": [
    "# (a)getting start"
   ]
  },
  {
   "cell_type": "code",
   "execution_count": 10,
   "metadata": {},
   "outputs": [
    {
     "name": "stdout",
     "output_type": "stream",
     "text": [
      "{'sapna': 'rajput', 'room': 'clean', 'pen': 'book'}\n",
      "clean\n"
     ]
    }
   ],
   "source": [
    "### 'creating a list'\n",
    "this_dict={\"sapna\":\"rajput\",\"room\":\"clean\",\"pen\":\"book\"}\n",
    "print(this_dict)\n",
    "\n",
    "\n",
    "'accessing an element'\n",
    "a=this_dict[\"room\"]\n",
    "#  a=this_dict[2]  #there are indexing in \"key\" and \"value\"\n",
    "# print(a)\n",
    "print(a)\n",
    "\n",
    "\n",
    "# 'changing and adding a value in the dictionary'\n",
    "# this_dict={\"more\":\"then\",\"number\":2435,\"sapna\":\"math\"}\n",
    "# this_dict[\"more\"]=23445\n",
    "# this_dict[\"then\"]=23-4j\n",
    "# this_dict[\"cool\"]=\"hot\"\n",
    "# print(this_dict)\n"
   ]
  },
  {
   "cell_type": "markdown",
   "metadata": {},
   "source": [
    "# 3(b)dictionary method"
   ]
  },
  {
   "cell_type": "code",
   "execution_count": 11,
   "metadata": {},
   "outputs": [
    {
     "name": "stdout",
     "output_type": "stream",
     "text": [
      "rajput\n",
      "clean\n",
      "{'sapna': 'rajput', 'room': 87.8, 'pen': 7576, 'shoot': 'red', 45545: 4555555}\n"
     ]
    }
   ],
   "source": [
    "'get() accessing an element'\n",
    "this_dict={\"sapna\":\"rajput\",\"room\":\"clean\",\"pen\":\"book\"}\n",
    "a=this_dict.get('sapna')\n",
    "print(a)\n",
    "\n",
    "room=this_dict.get('room')\n",
    "print(room)\n",
    "\n",
    "\n",
    "\n",
    "'update() add item of one dict into another'\n",
    "this_dict={\"sapna\":\"rajput\",\"room\":87.8,\"pen\":7576}\n",
    "that_dict={\"shoot\":'red',45545:4555555}\n",
    "this_dict.update(that_dict)\n",
    "print(this_dict)"
   ]
  },
  {
   "cell_type": "code",
   "execution_count": 5,
   "metadata": {},
   "outputs": [
    {
     "name": "stdout",
     "output_type": "stream",
     "text": [
      "{'mom': 'dad', 3453: 34, 34: 45}\n",
      "('sapna', 8478) {'toy': 'baby', 'number': 4899}\n"
     ]
    }
   ],
   "source": [
    "'removing item from the dictionary'\n",
    "'the pop() method remove the item with the specified key name:'\n",
    "this_dict={\"name\":\"sapna\",\"mom\":\"dad\",3453:34,34:45}\n",
    "this_dict.pop(\"name\")\n",
    "print(this_dict)\n",
    "# print(this_dict.values())\n",
    "  \n",
    "\n",
    "'popitem() - remove and return some{key,value} pair as a tuple'\n",
    "_mydict={\"toy\":\"baby\",\"number\":4899,\"sapna\":8478}\n",
    "item=_mydict.popitem()\n",
    "print(item,_mydict)\n",
    "\n",
    "\n"
   ]
  },
  {
   "cell_type": "code",
   "execution_count": 1,
   "metadata": {},
   "outputs": [
    {
     "name": "stdout",
     "output_type": "stream",
     "text": [
      "True\n"
     ]
    }
   ],
   "source": [
    "print(bool(\"abc\"))"
   ]
  },
  {
   "cell_type": "code",
   "execution_count": 6,
   "metadata": {},
   "outputs": [
    {
     "name": "stdout",
     "output_type": "stream",
     "text": [
      "dict_keys(['kite', 'walk', 'weather'])\n"
     ]
    }
   ],
   "source": [
    "\"keys() - a set like object providing a view on dicionary's keys\"\n",
    "this_dict={\"kite\":\"like\",\"walk\":\"ride\",\"weather\":2442}\n",
    "print(this_dict.keys())"
   ]
  },
  {
   "cell_type": "code",
   "execution_count": 13,
   "metadata": {},
   "outputs": [
    {
     "name": "stdout",
     "output_type": "stream",
     "text": [
      "dict_values(['sapna', 'night', 43])\n",
      "<class 'dict'>\n",
      "dict_items([('23', 23.4), ('32', (23-4j)), ('fly', 232), ('234', 2)])\n",
      "<class 'builtin_function_or_method'>\n"
     ]
    }
   ],
   "source": [
    "\"values() - an object providing a view on dictionary's value\"\n",
    "my_dict={\"name\":\"sapna\",\"last\":\"night\",\"view\":43}\n",
    "print(my_dict.values())\n",
    "print(type(my_dict))\n",
    "\n",
    "\n",
    "\n",
    "x={\"23\":23.4,\"32\":23-4j,\"fly\":232,\"234\":2}\n",
    "print(x.items())\n",
    "print(type(x.items))"
   ]
  },
  {
   "cell_type": "markdown",
   "metadata": {},
   "source": [
    "# 4(c)control flow using dictionaries"
   ]
  },
  {
   "cell_type": "code",
   "execution_count": 17,
   "metadata": {},
   "outputs": [
    {
     "name": "stdout",
     "output_type": "stream",
     "text": [
      "sapna\n",
      "colon\n",
      "single\n",
      "mam\n",
      "orange\n",
      "sell\n",
      "yes\n",
      "no\n"
     ]
    }
   ],
   "source": [
    "'print all key name in the dictionary,one by one:'\n",
    "this_dict={\"sapna\":\"code\",\"colon\":\"paranthies\",\"single\":\"double\"}\n",
    "for h in this_dict:\n",
    "    print(h)\n",
    "    \n",
    "'print all value in the ditionary, one by one:'\n",
    "this_dict={\"sapna\":\"mam\",\"red\":\"orange\",\"buy\":\"sell\"}\n",
    "for i in this_dict.values():\n",
    "    print(i)\n",
    "    \n",
    "    \n",
    "'check if a key is there in the dictionary'\n",
    "my_={\"sapna\":\"mam\",\"red\":\"orange\",\"buy\":\"sell\"}\n",
    "if \"sapna\" in my_:\n",
    "    print(\"yes\")\n",
    "else:\n",
    "    print(\"no\")\n",
    "    \n",
    "    \n",
    "'check if a value is there in the dictionary'\n",
    "if \"red\" in my_.values():\n",
    "    print('yes')\n",
    "    \n",
    "else:\n",
    "    print(\"no\")\n",
    "          \n",
    "\n",
    "        \n",
    "this_list=[24.5,35,345,\"papa\",45345,35-4j,]\n",
    "\n"
   ]
  },
  {
   "cell_type": "code",
   "execution_count": 14,
   "metadata": {},
   "outputs": [
    {
     "name": "stdout",
     "output_type": "stream",
     "text": [
      "('sapna', 3453, 'sham', 'rita', 56, 5, 4, 6, 7, 5)\n",
      "<class 'list'>\n",
      "<class 'tuple'>\n",
      "{4, 5, 6, 7, 'rita', 'sham', 56, 'sapna', 3453}\n",
      "<class 'set'>\n",
      "[4, 5, 6, 7, 'rita', 'sham', 56, 'sapna', 3453]\n",
      "['sapna', 3453, 'sham', 'rita', 56, 5, 4, 6, 7, 5]\n",
      "<class 'list'>\n",
      "{4, 5, 6, 7, 'rita', 'sham', 56, 'sapna', 3453}\n",
      "<class 'set'>\n",
      "(4, 5, 6, 7, 'rita', 'sham', 56, 'sapna', 3453)\n",
      "<class 'tuple'>\n"
     ]
    }
   ],
   "source": [
    "'converting a datatype to another'\n",
    "\n",
    "lst_1=[\"sapna\",3453,\"sham\",\"rita\",56,5,4,6,7,5]\n",
    "tuple_=tuple(lst_1)\n",
    "print(tuple_)\n",
    "print(type(lst_1)),print(type(tuple_))\n",
    "\n",
    "set2=set(lst_1)\n",
    "print(set2)\n",
    "print(type(set2))\n",
    "\n",
    "lst=list(set2)\n",
    "print(lst)\n",
    "\n",
    "lst=list(tuple_)\n",
    "print(lst)\n",
    "print(type(lst))\n",
    "\n",
    "set_1=set(tuple_)\n",
    "print(set_1)\n",
    "print(type(set_1))\n",
    "\n",
    "\n",
    "tuple2=tuple(set_1)\n",
    "print(tuple2)\n",
    "print(type(tuple2))"
   ]
  },
  {
   "cell_type": "code",
   "execution_count": null,
   "metadata": {},
   "outputs": [],
   "source": [
    "'''content\n",
    "1.if conditions\n",
    "2.while loops\n",
    "3.functions\n",
    "4.practice questions'''\n",
    "print()"
   ]
  },
  {
   "cell_type": "markdown",
   "metadata": {},
   "source": [
    "# 1. if conditions"
   ]
  },
  {
   "cell_type": "code",
   "execution_count": null,
   "metadata": {},
   "outputs": [],
   "source": [
    "python condition and if statements\n",
    "\n",
    "python supports the usal coparision conditions from mathematics\n",
    "\n",
    "\n",
    "\n",
    "equals: a=b\n",
    "\n",
    "not equales: a!= b\n",
    "\n",
    "less then: a < b\n",
    "\n",
    "less then or equal to: a <= b\n",
    "    \n",
    "greater then: a > b\n",
    "    \n",
    "greater than or equal to: a >= b\n",
    "    \n",
    "    \n",
    "these condition can be used in servel ways, most commonly\n",
    "\"if statement\" and loops.\n",
    "\n",
    "an \"if statement\" is written by using the if keyword.\n"
   ]
  },
  {
   "cell_type": "code",
   "execution_count": null,
   "metadata": {},
   "outputs": [],
   "source": [
    "'syntax'\n",
    "if condition:\n",
    "    statements to be executed\n",
    "elif condition:\n",
    "    statements to be executed\n",
    "else :\n",
    "    statements to be executed"
   ]
  },
  {
   "cell_type": "code",
   "execution_count": 9,
   "metadata": {},
   "outputs": [
    {
     "name": "stdout",
     "output_type": "stream",
     "text": [
      "sorry a is greater then 20\n",
      "\n"
     ]
    }
   ],
   "source": [
    "'basic example'\n",
    "\n",
    "a=34\n",
    "b=20\n",
    "\n",
    "if a>b:\n",
    "    print(\"sorry a is greater then 20\")\n",
    "    \n",
    "elif a<b:\n",
    "    print(\"a is less then b\")\n",
    "     \n",
    "else:\n",
    "    print(\"error\")\n",
    "print()"
   ]
  },
  {
   "cell_type": "code",
   "execution_count": 9,
   "metadata": {},
   "outputs": [
    {
     "name": "stdout",
     "output_type": "stream",
     "text": [
      "yes a and is equal \n"
     ]
    }
   ],
   "source": [
    "a=\"monday\"\n",
    "b=\"monday\"\n",
    "if a==b :\n",
    "    print(\"yes a and is equal \")\n",
    "elif a!=b:\n",
    "    print(\"no  a and b is not equal\")\n",
    "    print(\"no\")\n",
    "else:\n",
    "    print(\"today is holiday\")"
   ]
  },
  {
   "cell_type": "code",
   "execution_count": 22,
   "metadata": {},
   "outputs": [
    {
     "name": "stdout",
     "output_type": "stream",
     "text": [
      "enter first number45\n",
      "enter second number23\n",
      "45 is greater\n",
      " a and b addition is 68\n",
      "True\n"
     ]
    }
   ],
   "source": [
    "''' input 2 number from the user and print out the greater'''\n",
    "a=int(input('enter first number'))\n",
    "b=int(input('enter second number'))\n",
    "\n",
    "\n",
    "# if a>b:\n",
    "#     print('yes is greater then')\n",
    "    \n",
    "# elif a<b:\n",
    "#     print('no is not')\n",
    "    \n",
    "# else:\n",
    "#     print('error')\n",
    "    \n",
    "    \n",
    "    \n",
    "    \n",
    "    \n",
    "    \n",
    "if a>b:\n",
    "    print(f\"{a} is greater\")\n",
    "    print(f\" a and b addition is {a+b}\")\n",
    "    if a+b==68:\n",
    "        print(\"True\")\n",
    "    \n",
    "    \n",
    "elif b>a:\n",
    "    print(f\" {b} is greater\")\n",
    "\n",
    "else:\n",
    "    print(f\"{a} is equal to {b}\")\n",
    "    "
   ]
  },
  {
   "cell_type": "code",
   "execution_count": 23,
   "metadata": {},
   "outputs": [
    {
     "name": "stdout",
     "output_type": "stream",
     "text": [
      "enter your 1st number24\n",
      "enter your 2nd number24\n",
      "this is equal 24 and 24\n"
     ]
    }
   ],
   "source": [
    "x= int(input('enter your 1st number'))\n",
    "y= int(input('enter your 2nd number'))\n",
    "\n",
    "if x>y:\n",
    "    print(\"its true x is greater then y\")\n",
    "#     print(f\"sum of a and b is {x+y}\")\n",
    "#     print('sum % a and b %' %('of','like'))\n",
    "        \n",
    "elif x==y:\n",
    "        print(f\"this is equal {x} and {y}\")\n",
    "        \n",
    "          \n",
    "          "
   ]
  },
  {
   "cell_type": "code",
   "execution_count": 25,
   "metadata": {},
   "outputs": [
    {
     "name": "stdout",
     "output_type": "stream",
     "text": [
      "yes\n"
     ]
    }
   ],
   "source": [
    "'''if there is only one statement to be executed,\n",
    "thr if condition are statement can be written in the same line'''\n",
    "\n",
    "\n",
    "a=24\n",
    "b=79\n",
    "\n",
    "if a<b:print(\"yes\")\n",
    "    \n",
    "elif a==b:print('it is equal')\n",
    "    \n",
    "else :print('b is greater then a')\n"
   ]
  },
  {
   "cell_type": "code",
   "execution_count": 28,
   "metadata": {},
   "outputs": [
    {
     "name": "stdout",
     "output_type": "stream",
     "text": [
      "no\n"
     ]
    }
   ],
   "source": [
    "a=\"sapna rajput\"\n",
    "b=346\n",
    "if a==b:print(f\"a and b is equal\")\n",
    "elif a!=b:print(\"no\")\n",
    "else:print(\"error\")"
   ]
  },
  {
   "cell_type": "code",
   "execution_count": 27,
   "metadata": {},
   "outputs": [
    {
     "name": "stdout",
     "output_type": "stream",
     "text": [
      "b\n"
     ]
    }
   ],
   "source": [
    "'''another way to writing one line if statements'''\n",
    "\n",
    "a,b= 20,26     #multiple assine\n",
    " \n",
    "print('right') if a>b else print(\"b\")"
   ]
  },
  {
   "cell_type": "code",
   "execution_count": 32,
   "metadata": {},
   "outputs": [
    {
     "name": "stdout",
     "output_type": "stream",
     "text": [
      "yess\n",
      "no \n",
      "not\n"
     ]
    }
   ],
   "source": [
    "a=234535\n",
    "b=43\n",
    "c=21\n",
    "print('yess') if a>b else print('wrong')\n",
    "print('no ')if c<a else print('yes')\n",
    "print(\"ryt\")if b>a else print('not')"
   ]
  },
  {
   "cell_type": "code",
   "execution_count": 37,
   "metadata": {},
   "outputs": [
    {
     "name": "stdout",
     "output_type": "stream",
     "text": [
      "b\n"
     ]
    }
   ],
   "source": [
    "a=30\n",
    "b=78\n",
    "print(\"a\") if a>b else print(\"error\") if a==b else print(\"b\")  #ask question\n"
   ]
  },
  {
   "cell_type": "code",
   "execution_count": 33,
   "metadata": {},
   "outputs": [
    {
     "name": "stdout",
     "output_type": "stream",
     "text": [
      "enter 1st number12\n",
      "enter 2nd number56\n",
      "enter 3rd number8\n",
      "yes\n",
      "error\n"
     ]
    }
   ],
   "source": [
    "'''input three number from the user and print out the greatest'''\n",
    "\n",
    "a=int(input(\"enter 1st number\"))\n",
    "b=int(input(\"enter 2nd number\"))\n",
    "c=int(input(\"enter 3rd number\"))\n",
    "\n",
    "if a>b:\n",
    "    print(\"a is greater then b\")\n",
    "print(\"yes\")\n",
    "if a>b<c:\n",
    "    print('false')\n",
    "elif a==b:\n",
    "    print(\" a is equal to b\")\n",
    "elif a==b==c:\n",
    "    print(\"its right\")\n",
    "else:\n",
    "    print(\"error\")"
   ]
  },
  {
   "cell_type": "code",
   "execution_count": 42,
   "metadata": {},
   "outputs": [
    {
     "name": "stdout",
     "output_type": "stream",
     "text": [
      "element i  in list\n",
      "sappu\n",
      "ryt\n"
     ]
    }
   ],
   "source": [
    "'if else for collection datatypes'\n",
    "\n",
    "l=[1,3,5,8,9,23]\n",
    "i=23\n",
    "\n",
    "if i in l:\n",
    "     print('element i  in list')\n",
    "        \n",
    "else:\n",
    "    print('element not list')\n",
    "    \n",
    "    \n",
    "# d = {4:78,3:67}\n",
    "# if i in d.keys():\n",
    "#        print('True')\n",
    "        \n",
    "        \n",
    "d= {23:2,\"sapna\":234}\n",
    "if 23 in d.keys():\n",
    "    print('sappu')\n",
    "    \n",
    "if 234 in d.values():\n",
    "    print(\"ryt\")"
   ]
  },
  {
   "cell_type": "markdown",
   "metadata": {},
   "source": [
    "# 2 while loops"
   ]
  },
  {
   "cell_type": "code",
   "execution_count": 4,
   "metadata": {},
   "outputs": [
    {
     "name": "stdout",
     "output_type": "stream",
     "text": [
      "1 2 3 4 5 6 "
     ]
    }
   ],
   "source": [
    "# with the while loop we can execute a set of statements as long as a\n",
    "# condition\n",
    "\n",
    "\n",
    "'''print hi 5 times'''\n",
    "num = 1\n",
    "while (num<=6):\n",
    "    print(num, end = ' ')\n",
    "    num = num+1\n"
   ]
  },
  {
   "cell_type": "code",
   "execution_count": 3,
   "metadata": {},
   "outputs": [
    {
     "name": "stdout",
     "output_type": "stream",
     "text": [
      "15 16 17 18 19 20 21 22 23 24 25 26 27 28 29 30 "
     ]
    }
   ],
   "source": [
    "a=15\n",
    "while (a<=30):\n",
    "    print(a, end=' ')\n",
    "    a= a+1"
   ]
  },
  {
   "cell_type": "code",
   "execution_count": 2,
   "metadata": {},
   "outputs": [
    {
     "name": "stdout",
     "output_type": "stream",
     "text": [
      "100 99 98 97 96 95 94 93 92 91 90 89 88 87 86 85 84 83 82 81 80 79 78 77 76 75 74 73 72 71 70 69 68 67 66 65 64 63 62 61 60 59 58 57 56 55 54 53 52 51 50 49 48 47 46 45 44 43 42 41 40 39 38 37 36 35 34 33 32 31 30 29 28 27 26 25 24 23 22 21 20 19 18 17 16 15 14 13 12 11 10 "
     ]
    }
   ],
   "source": [
    "x=100\n",
    "while(x>=10):\n",
    "    print(x,end = ' ')\n",
    "    x= x-1"
   ]
  },
  {
   "cell_type": "code",
   "execution_count": 2,
   "metadata": {},
   "outputs": [
    {
     "name": "stdout",
     "output_type": "stream",
     "text": [
      "100 121 144 169 196 225 "
     ]
    }
   ],
   "source": [
    "n=10\n",
    "while(n<=15):\n",
    "    print(n**2 , end = ' ')\n",
    "    n= n+1"
   ]
  },
  {
   "cell_type": "code",
   "execution_count": 5,
   "metadata": {},
   "outputs": [
    {
     "name": "stdout",
     "output_type": "stream",
     "text": [
      "0 1 2 3 4 5 6 7 8 9 10 11 12 13 14 15 16 17 18 19 20 21 22 23 24 25 26 27 28 29 30 31 32 33 34 35 36 37 38 39 40 "
     ]
    }
   ],
   "source": [
    "### '''print integer from 0 to 40'''\n",
    "num=0\n",
    "while (num<41):\n",
    "    print(num, end = ' ')\n",
    "    num = num+1"
   ]
  },
  {
   "cell_type": "code",
   "execution_count": 1,
   "metadata": {},
   "outputs": [
    {
     "name": "stdout",
     "output_type": "stream",
     "text": [
      "1 2 3 4 5 6 7 8 9 10 11 12 13 14 15 16 17 18 19 20 21 22 23 24 25 26 27 28 29 30 "
     ]
    }
   ],
   "source": [
    "n=1\n",
    "while (n<=30):\n",
    "    print(n,end =' ')\n",
    "    n= n+1"
   ]
  },
  {
   "cell_type": "code",
   "execution_count": 1,
   "metadata": {},
   "outputs": [
    {
     "name": "stdout",
     "output_type": "stream",
     "text": [
      "1 2 3 4 5 6 7 8 9 10 11 12 13 14 15 16 17 18 19 20 21 22 23 24 25 26 27 28 29 30 31 32 33 34 35 36 37 38 39 40 41 42 "
     ]
    }
   ],
   "source": [
    "num = 1\n",
    "while (num<=42):\n",
    "    print(num, end = ' ')\n",
    "    num = num+1"
   ]
  },
  {
   "cell_type": "code",
   "execution_count": 7,
   "metadata": {},
   "outputs": [
    {
     "name": "stdout",
     "output_type": "stream",
     "text": [
      "2 4 6 8 10 12 14 16 18 20 "
     ]
    }
   ],
   "source": [
    "num = 2\n",
    "while (num<=20):\n",
    "    print(num, end= ' ')\n",
    "    num = num+2"
   ]
  },
  {
   "cell_type": "code",
   "execution_count": 13,
   "metadata": {},
   "outputs": [
    {
     "name": "stdout",
     "output_type": "stream",
     "text": [
      "1 6 11 16 21 26 31 36 41 46 51 56 61 66 71 76 81 86 91 96 101 106 111 116 121 126 131 136 141 146 151 156 161 166 171 176 181 186 191 196 "
     ]
    }
   ],
   "source": [
    "'''print integer divisible by 5 between 1 to 100'''\n",
    "n=1\n",
    "while (n<=200):\n",
    "    if n%5 == 1:\n",
    "        print(n,end= ' ')\n",
    "    n += 1"
   ]
  },
  {
   "cell_type": "code",
   "execution_count": 5,
   "metadata": {},
   "outputs": [
    {
     "name": "stdout",
     "output_type": "stream",
     "text": [
      "1 7 13 19 25 31 37 43 49 55 61 67 73 79 85 91 97 103 109 115 121 127 133 139 145 151 157 163 169 175 181 187 193 199 "
     ]
    }
   ],
   "source": [
    "n=1\n",
    "while (n<=200):\n",
    "#     if n%3 == 0:\n",
    "        if n%3 == 1:\n",
    "            print(n,end = ' ')\n",
    "        n= n+2\n",
    "        "
   ]
  },
  {
   "cell_type": "code",
   "execution_count": 1,
   "metadata": {},
   "outputs": [
    {
     "name": "stdout",
     "output_type": "stream",
     "text": [
      "5 10 15 20 25 30 35 40 45 50 55 60 65 70 75 80 85 90 95 100 "
     ]
    }
   ],
   "source": [
    "n = 1\n",
    "while (n<=100):\n",
    "    if n%5 == 0:\n",
    "        print(n,end= ' ')\n",
    "    else:\n",
    "        pass\n",
    "    n = n+1"
   ]
  },
  {
   "cell_type": "code",
   "execution_count": 3,
   "metadata": {},
   "outputs": [
    {
     "name": "stdout",
     "output_type": "stream",
     "text": [
      "*\n",
      "**\n",
      "***\n",
      "****\n"
     ]
    }
   ],
   "source": [
    "# *\n",
    "# **\n",
    "# ***\n",
    "# ****\n",
    "   \n",
    "    \n",
    "n = 1\n",
    "while(n<=1):\n",
    "    print(\"*\")\n",
    "    print(\"**\")\n",
    "    print(\"***\")\n",
    "    print(\"****\")\n",
    "    n= n+1\n",
    "\n"
   ]
  },
  {
   "cell_type": "code",
   "execution_count": 3,
   "metadata": {},
   "outputs": [
    {
     "name": "stdout",
     "output_type": "stream",
     "text": [
      "*\n",
      "**\n"
     ]
    }
   ],
   "source": [
    "# *\n",
    "# **\n",
    "# ***\n",
    "# ****\n",
    "\n",
    "num = 1\n",
    "while(num<=5):\n",
    "    if num == 1:\n",
    "        print(\"*\")\n",
    "    elif num ==2:\n",
    "        print(\"**\")\n",
    "    else:\n",
    "        pass\n",
    "    num = num+1\n",
    "    "
   ]
  },
  {
   "cell_type": "code",
   "execution_count": null,
   "metadata": {},
   "outputs": [],
   "source": [
    "num = 0\n",
    "while(num<=5):\n",
    "    num_= 1\n",
    "    while(num_<=num):\n",
    "        print(f\"*\",end = \" \")\n",
    "        \n",
    "        num_= num_+1\n",
    "        num = num+1\n",
    "        print()"
   ]
  },
  {
   "cell_type": "code",
   "execution_count": 5,
   "metadata": {},
   "outputs": [
    {
     "name": "stdout",
     "output_type": "stream",
     "text": [
      "*\n",
      "**\n",
      "***\n",
      "****\n",
      "******\n"
     ]
    }
   ],
   "source": [
    "# *\n",
    "# **\n",
    "# ***\n",
    "# ****\n",
    "# *****\n",
    "\n",
    "\n",
    "num=1\n",
    "while(num<=5):\n",
    "    if num == 1:\n",
    "        print(\"*\")\n",
    "    elif num == 2:\n",
    "        print(\"**\")\n",
    "    elif num == 3:\n",
    "        print(\"***\")\n",
    "    elif num == 4:\n",
    "        print(\"****\")\n",
    "    elif num == 5:\n",
    "        print(\"******\")\n",
    "    else:\n",
    "        pass\n",
    "    num = num+1"
   ]
  },
  {
   "cell_type": "code",
   "execution_count": 2,
   "metadata": {},
   "outputs": [
    {
     "name": "stdout",
     "output_type": "stream",
     "text": [
      "-100 -99 -98 -97 -96 -95 -94 -93 -92 -91 -90 -89 -88 -87 -86 -85 -84 -83 -82 -81 -80 -79 -78 -77 -76 -75 -74 -73 -72 -71 -70 -69 -68 -67 -66 -65 -64 -63 -62 -61 -60 -59 -58 -57 -56 -55 -54 -53 -52 -51 -50 -49 -48 -47 -46 -45 -44 -43 -42 -41 -40 -39 -38 -37 -36 -35 -34 -33 -32 -31 -30 -29 -28 -27 -26 -25 -24 -23 -22 -21 -20 -19 -18 -17 -16 -15 -14 -13 -12 -11 -10 -9 -8 -7 -6 -5 -4 -3 -2 -1 0 1 2 3 4 5 6 7 8 9 10 11 12 13 14 15 16 17 18 19 20 21 22 23 24 25 26 27 28 29 30 31 32 33 34 35 36 37 38 39 40 41 "
     ]
    }
   ],
   "source": [
    "'''print integer from 0 to 40'''\n",
    "num= -100\n",
    "while (num<=41):\n",
    "    print(num,end = ' ')\n",
    "    num = num+1\n",
    "    "
   ]
  },
  {
   "cell_type": "code",
   "execution_count": 1,
   "metadata": {},
   "outputs": [
    {
     "name": "stdout",
     "output_type": "stream",
     "text": [
      "100 95 90 85 80 75 70 65 60 55 50 45 40 35 30 25 20 15 10 5 0 "
     ]
    }
   ],
   "source": [
    "'''print integer from 100 to 0 which are divisible by 5.'''\n",
    "num = 100\n",
    "while (num>=0):\n",
    "    if num%5==0:\n",
    "        print(num, end = ' ')\n",
    "    else:\n",
    "        pass\n",
    "    num = num -1"
   ]
  },
  {
   "cell_type": "code",
   "execution_count": 3,
   "metadata": {},
   "outputs": [
    {
     "name": "stdout",
     "output_type": "stream",
     "text": [
      "5 10 15 20 25 30 35 40 45 50 55 60 65 70 75 80 85 90 95 100 105 110 115 120 125 130 135 140 145 150 155 160 165 170 175 180 185 190 195 200 "
     ]
    }
   ],
   "source": [
    "'''print integer divisible by 5 between 1 to 100'''\n",
    "n=1\n",
    "while (n<=200):\n",
    "    if n%5 == 0:\n",
    "        print(n,end = ' ')\n",
    "    n += 1"
   ]
  },
  {
   "cell_type": "code",
   "execution_count": 4,
   "metadata": {},
   "outputs": [
    {
     "name": "stdout",
     "output_type": "stream",
     "text": [
      "5 10 15 20 25 30 35 40 45 50 55 60 65 70 75 80 85 90 95 "
     ]
    }
   ],
   "source": [
    "'''print integer divisible by 5 between 1 to 100'''\n",
    "\n",
    "num = 1\n",
    "while(num<100):\n",
    "    if num%5 == 0:\n",
    "        print(num,end = ' ')\n",
    "    else:\n",
    "        pass \n",
    "    num = num+1\n",
    "    "
   ]
  },
  {
   "cell_type": "code",
   "execution_count": 2,
   "metadata": {},
   "outputs": [
    {
     "name": "stdout",
     "output_type": "stream",
     "text": [
      "0 1 4 9 16 25 36 49 64 81 100 "
     ]
    }
   ],
   "source": [
    "'''print squares of integers between 0 to 10'''\n",
    "x=0\n",
    "while (x<=10):\n",
    "    print(x**2, end= ' ')\n",
    "    x = x+1"
   ]
  },
  {
   "cell_type": "code",
   "execution_count": 4,
   "metadata": {},
   "outputs": [
    {
     "name": "stdout",
     "output_type": "stream",
     "text": [
      "3 6 9 12 15 18 21 24 27 30 33 36 39 42 45 48 51 54 57 60 "
     ]
    }
   ],
   "source": [
    "x= 1\n",
    "while (x<=20):\n",
    "    print(x*3,end = ' ')\n",
    "    x=x+1"
   ]
  },
  {
   "cell_type": "code",
   "execution_count": 7,
   "metadata": {},
   "outputs": [
    {
     "name": "stdout",
     "output_type": "stream",
     "text": [
      "3 6 9 12 15 18 21 24 27 30 33 "
     ]
    }
   ],
   "source": [
    "num = 3\n",
    "while(num<35):\n",
    "    print(num,end = ' ')\n",
    "    num = num+3"
   ]
  },
  {
   "cell_type": "code",
   "execution_count": 8,
   "metadata": {},
   "outputs": [
    {
     "name": "stdout",
     "output_type": "stream",
     "text": [
      "1 2 3 4 5 6 7 8 9 10 11 12 13 14 15 16 17 18 19 20 21 22 23 24 25 26 27 28 29 30 31 32 33 34 35 36 37 38 39 40 41 42 43 44 45 46 47 48 49 \n",
      "exit  value: 50\n"
     ]
    }
   ],
   "source": [
    "''' check exit value of iterator'''\n",
    "count=1\n",
    "while(count < 50):\n",
    "    print(count, end = ' ')\n",
    "    count = count + 1\n",
    "    \n",
    "print(\"\\nexit  value:\",count)"
   ]
  },
  {
   "cell_type": "code",
   "execution_count": 19,
   "metadata": {},
   "outputs": [
    {
     "name": "stdout",
     "output_type": "stream",
     "text": [
      "[34, 345, 66, 89, 76]\n",
      "[34, 345, 66, 89]\n",
      "[34, 345, 66]\n",
      "[34, 345]\n",
      "[34]\n",
      "[]\n"
     ]
    }
   ],
   "source": [
    "'''keep popping items from list till element e=10 is popped\n",
    "list = [34,345,66,89,76,45]'''\n",
    "\n",
    "s=[34,345,66,89,76,45]\n",
    "i=34\n",
    "while i in s:\n",
    "    s.pop()\n",
    "    print(s)"
   ]
  },
  {
   "cell_type": "code",
   "execution_count": 17,
   "metadata": {},
   "outputs": [
    {
     "name": "stdout",
     "output_type": "stream",
     "text": [
      "4\n",
      "my all file invite\n",
      "my all file codesession\n",
      "my all file movement\n",
      "my all file collection\n"
     ]
    }
   ],
   "source": [
    "'''looping through collective datatypes'''\n",
    "file=['invite','codesession','movement','collection']\n",
    "print(len(file))\n",
    "num= 0\n",
    "while num<len(file):\n",
    "    print(\"my all file\",file[num])\n",
    "    num= num+1\n",
    "    "
   ]
  },
  {
   "cell_type": "markdown",
   "metadata": {},
   "source": [
    "# 3.for loop "
   ]
  },
  {
   "cell_type": "markdown",
   "metadata": {},
   "source": [
    "A for loop is used for iterating over a sequence ( that is either \n",
    "a  list, a tuple, a dict, a set, or a string) \n",
    "                                                 \n",
    "this is less like the for keyword in other programming language,\n",
    "and works more like an iterator method as found in other object \n",
    "orientated programming languages\n",
    "\n",
    "with the for loop we can excute a set of statements ,once for each\n",
    " item in a lsit,tuple, set etc."
   ]
  },
  {
   "cell_type": "code",
   "execution_count": 17,
   "metadata": {},
   "outputs": [
    {
     "name": "stdout",
     "output_type": "stream",
     "text": [
      "9\n",
      "23 34 567 2.5 asd 23 5 7 98 0\n",
      "1\n",
      "2\n",
      "3\n",
      "4\n",
      "5\n",
      "6\n",
      "7\n",
      "8\n"
     ]
    }
   ],
   "source": [
    "list_=[ 23,34,567,2.5,\"asd\",23,5,7,98]\n",
    "print(len(list_))\n",
    "\n",
    "\n",
    "for x in list_:\n",
    "    print(x, end =\" \")\n",
    "\n",
    "#     print(x)\n",
    "\n",
    "for x in range(len(list_)):\n",
    "    print(x)"
   ]
  },
  {
   "cell_type": "code",
   "execution_count": 20,
   "metadata": {},
   "outputs": [
    {
     "name": "stdout",
     "output_type": "stream",
     "text": [
      "rajput: 1\n",
      "rajput: 2\n",
      "rajput: 3\n",
      "rajput: 4\n",
      "rajput: 5\n",
      "rajput: 6\n",
      "rajput: 7\n",
      "rajput: 8\n",
      "rajput: 9\n"
     ]
    }
   ],
   "source": [
    "# for y in (1,25):\n",
    "#     print(\"sapna:\",y)\n",
    "    \n",
    "for x in range (1,10):\n",
    "    print(\"rajput:\",x)\n",
    "     "
   ]
  },
  {
   "cell_type": "code",
   "execution_count": 23,
   "metadata": {},
   "outputs": [
    {
     "name": "stdout",
     "output_type": "stream",
     "text": [
      " r: 0\n",
      " r: 1\n",
      " r: 2\n",
      " r: 3\n",
      " r: 4\n",
      " r: 5\n",
      " r: 6\n",
      " r: 7\n",
      " r: 8\n",
      " r: 9\n",
      " r: 10\n",
      " r: 11\n",
      " r: 12\n",
      " r: 13\n"
     ]
    }
   ],
   "source": [
    "for d in range(14):\n",
    "    print(f\" r: {d}\")"
   ]
  },
  {
   "cell_type": "code",
   "execution_count": 25,
   "metadata": {},
   "outputs": [
    {
     "name": "stdout",
     "output_type": "stream",
     "text": [
      "hello sapnahello sapnahello sapnahello sapnahello sapnahello sapnahello sapnahello sapnahello sapnahello sapna"
     ]
    }
   ],
   "source": [
    "for num in range (10):\n",
    "    print(\"hello sapna\",end = '')"
   ]
  },
  {
   "cell_type": "code",
   "execution_count": 2,
   "metadata": {},
   "outputs": [
    {
     "name": "stdout",
     "output_type": "stream",
     "text": [
      "0\n",
      "1\n",
      "2\n",
      "3\n",
      "4\n",
      "5\n",
      "6\n",
      "7\n",
      "8\n",
      "9\n",
      "10\n",
      "11\n",
      "12\n",
      "13\n",
      "14\n",
      "15\n",
      "16\n",
      "17\n"
     ]
    }
   ],
   "source": [
    "x_ = [1,2,3,4,5,6,7,8,9,1034,56,7,67,9,4,3,222,34]\n",
    "\n",
    "for i in range(len(x_)):\n",
    "    print(i)"
   ]
  },
  {
   "cell_type": "code",
   "execution_count": 3,
   "metadata": {},
   "outputs": [
    {
     "name": "stdout",
     "output_type": "stream",
     "text": [
      " a : 1  a : 2  a : 3  a : 4  a : 5  a : 6  a : 7  a : 8  a : 9  a : 10  a : 11  a : 12  a : 13  a : 14 "
     ]
    }
   ],
   "source": [
    "for i in range(1,15):\n",
    "    print(f\" a : {i}\" , end = ' ')"
   ]
  },
  {
   "cell_type": "code",
   "execution_count": 20,
   "metadata": {},
   "outputs": [
    {
     "name": "stdout",
     "output_type": "stream",
     "text": [
      "100\n",
      "98\n",
      "96\n",
      "94\n",
      "92\n",
      "90\n",
      "88\n",
      "86\n",
      "84\n",
      "82\n",
      "80\n",
      "78\n",
      "76\n",
      "74\n",
      "72\n",
      "70\n",
      "68\n",
      "66\n",
      "64\n",
      "62\n",
      "60\n",
      "58\n",
      "56\n",
      "54\n",
      "52\n",
      "50\n",
      "48\n",
      "46\n",
      "44\n",
      "42\n",
      "40\n",
      "38\n",
      "36\n",
      "34\n",
      "32\n",
      "30\n",
      "28\n",
      "26\n",
      "24\n",
      "22\n",
      "20\n",
      "18\n",
      "16\n",
      "14\n",
      "12\n",
      "10\n"
     ]
    }
   ],
   "source": [
    "for t in range (100,9,-2):\n",
    "    print(t)"
   ]
  },
  {
   "cell_type": "code",
   "execution_count": null,
   "metadata": {},
   "outputs": [],
   "source": []
  },
  {
   "cell_type": "code",
   "execution_count": null,
   "metadata": {},
   "outputs": [],
   "source": []
  },
  {
   "cell_type": "code",
   "execution_count": null,
   "metadata": {},
   "outputs": [],
   "source": []
  },
  {
   "cell_type": "code",
   "execution_count": null,
   "metadata": {},
   "outputs": [],
   "source": []
  },
  {
   "cell_type": "code",
   "execution_count": null,
   "metadata": {},
   "outputs": [],
   "source": []
  },
  {
   "cell_type": "code",
   "execution_count": null,
   "metadata": {},
   "outputs": [],
   "source": []
  },
  {
   "cell_type": "code",
   "execution_count": null,
   "metadata": {},
   "outputs": [],
   "source": []
  },
  {
   "cell_type": "code",
   "execution_count": null,
   "metadata": {},
   "outputs": [],
   "source": []
  }
 ],
 "metadata": {
  "kernelspec": {
   "display_name": "Python 3",
   "language": "python",
   "name": "python3"
  },
  "language_info": {
   "codemirror_mode": {
    "name": "ipython",
    "version": 3
   },
   "file_extension": ".py",
   "mimetype": "text/x-python",
   "name": "python",
   "nbconvert_exporter": "python",
   "pygments_lexer": "ipython3",
   "version": "3.8.3"
  }
 },
 "nbformat": 4,
 "nbformat_minor": 4
}
